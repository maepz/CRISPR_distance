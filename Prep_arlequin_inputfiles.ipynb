{
 "cells": [
  {
   "cell_type": "markdown",
   "metadata": {},
   "source": [
    "# Generate arlequin input file"
   ]
  },
  {
   "cell_type": "markdown",
   "metadata": {},
   "source": [
    "Input files are structured into two main sections with additional subsections that must\n",
    "appear in the following order:\n",
    "\n",
    "1) Profile section (mandatory)\n",
    "\n",
    "2) Data section (mandatory)\n",
    "\n",
    "    2a) Haplotype list (optional)\n",
    "\n",
    "    2b) Distance matrices (optional)\n",
    "    \n",
    "    2c) Samples (mandatory)\n",
    "    \n",
    "    2d) Genetic structure (optional)\n",
    "    \n",
    "    2e) Mantel tests (optional)"
   ]
  },
  {
   "cell_type": "code",
   "execution_count": 44,
   "metadata": {},
   "outputs": [],
   "source": [
    "entry=''"
   ]
  },
  {
   "cell_type": "markdown",
   "metadata": {},
   "source": [
    "## Profile section"
   ]
  },
  {
   "cell_type": "code",
   "execution_count": 45,
   "metadata": {},
   "outputs": [
    {
     "name": "stdout",
     "output_type": "stream",
     "text": [
      "[Profile]\n",
      "\n",
      "\t\tTitle=\"\"\n",
      "\t\tNbSamples=41\n",
      "\t\tGenotypicData=1\n",
      "\t\tLocusSeparator=NONE\n",
      "\t\tDataType=FREQUENCY\n"
     ]
    }
   ],
   "source": [
    "header=\"[Profile]\\n\"\n",
    "title=''\n",
    "nsamples=41\n",
    "GenotypicData=1\n",
    "LocusSeparator='NONE'\n",
    "DataType='FREQUENCY'\n",
    "\n",
    "################################\n",
    "lines=[header,'\\t\\t'+'Title=\"'+title+'\"','\\t\\tNbSamples='+str(nsamples),'\\t\\tGenotypicData='+str(GenotypicData),'\\t\\tLocusSeparator='+str(LocusSeparator),'\\t\\tDataType='+DataType]\n",
    "\n",
    "\n",
    "profile_section='\\n'.join(lines)\n",
    "entry+=profile_section+'\\n'\n",
    "print(profile_section)"
   ]
  },
  {
   "cell_type": "markdown",
   "metadata": {},
   "source": [
    "## Data section"
   ]
  },
  {
   "cell_type": "code",
   "execution_count": 46,
   "metadata": {},
   "outputs": [],
   "source": [
    "header_dat='[Data]\\n'\n",
    "entry+=header_dat+'\\n'\n"
   ]
  },
  {
   "cell_type": "markdown",
   "metadata": {},
   "source": [
    "### Distance matrix"
   ]
  },
  {
   "cell_type": "code",
   "execution_count": 87,
   "metadata": {},
   "outputs": [
    {
     "name": "stdout",
     "output_type": "stream",
     "text": [
      "\t[[DistanceMatrix]]\n",
      "\n",
      "\t\tMatrixName=\"A given distance matrix\"\n",
      "\t\tMatrixSize=10\n",
      "\t\tLabelPosition=LINE\n",
      "\t\tMatrixData=EXTERN \"arrays_with_at_least_5percent_in_reads.dis\"\n"
     ]
    }
   ],
   "source": [
    "import pandas as pd\n",
    "import numpy as np\n",
    "\n",
    "file='arrays_with_at_least_5percent_in_reads'\n",
    "dist=pd.read_csv(file+'.dist',header=0,sep='\\t')\n",
    "   \n",
    "header_dist='\\t[[DistanceMatrix]]\\n'\n",
    "MatrixName=\"A given distance matrix\"\n",
    "MatrixSize= len(dist)\n",
    "LabelPosition='LINE'\n",
    "MatrixDatafile=file+'.dis'\n",
    "\n",
    "### write triangular distance matrix\n",
    "dist = dist.where(np.tril(np.ones(dist.shape)).astype(np.bool))\n",
    "dist_str = ['\\t'.join(map(str,list(filter(lambda x: np.isfinite(x), np_array))+[0])) for np_array in dist.values]\n",
    "dist_str=['\\t'.join(map(str,dist.columns))]+dist_str\n",
    "dist_str\n",
    "with open(MatrixDatafile, 'w') as the_file:\n",
    "    the_file.write('\\n'.join(dist_str))\n",
    "    \n",
    "#########################\n",
    "\n",
    "lines=[header_dist,'\\t\\tMatrixName=\"'+MatrixName+'\"','\\t\\tMatrixSize='+str(MatrixSize),'\\t\\tLabelPosition='+LabelPosition,'\\t\\tMatrixData=EXTERN \"'+MatrixDatafile+'\"']\n",
    "\n",
    "dist_section='\\n'.join(lines)\n",
    "print(dist_section)\n",
    "entry+=dist_section+'\\n'\n"
   ]
  },
  {
   "cell_type": "markdown",
   "metadata": {},
   "source": [
    "### Samples"
   ]
  },
  {
   "cell_type": "code",
   "execution_count": 97,
   "metadata": {},
   "outputs": [
    {
     "ename": "FileNotFoundError",
     "evalue": "[Errno 2] File arrays_with_at_least_5percent_in_reads.popcounts does not exist: 'arrays_with_at_least_5percent_in_reads.popcounts'",
     "output_type": "error",
     "traceback": [
      "\u001b[0;31m---------------------------------------------------------------------------\u001b[0m",
      "\u001b[0;31mFileNotFoundError\u001b[0m                         Traceback (most recent call last)",
      "\u001b[0;32m<ipython-input-97-082845dd86e7>\u001b[0m in \u001b[0;36m<module>\u001b[0;34m\u001b[0m\n\u001b[1;32m      1\u001b[0m \u001b[0mfile\u001b[0m\u001b[0;34m=\u001b[0m\u001b[0;34m'arrays_with_at_least_5percent_in_reads'\u001b[0m\u001b[0;34m\u001b[0m\u001b[0;34m\u001b[0m\u001b[0m\n\u001b[0;32m----> 2\u001b[0;31m \u001b[0mpop\u001b[0m\u001b[0;34m=\u001b[0m\u001b[0mpd\u001b[0m\u001b[0;34m.\u001b[0m\u001b[0mread_csv\u001b[0m\u001b[0;34m(\u001b[0m\u001b[0mfile\u001b[0m\u001b[0;34m+\u001b[0m\u001b[0;34m'.popcounts'\u001b[0m\u001b[0;34m,\u001b[0m\u001b[0mheader\u001b[0m\u001b[0;34m=\u001b[0m\u001b[0;36m0\u001b[0m\u001b[0;34m,\u001b[0m\u001b[0msep\u001b[0m\u001b[0;34m=\u001b[0m\u001b[0;34m'\\t'\u001b[0m\u001b[0;34m,\u001b[0m\u001b[0mindex_col\u001b[0m\u001b[0;34m=\u001b[0m\u001b[0;36m0\u001b[0m\u001b[0;34m)\u001b[0m\u001b[0;34m\u001b[0m\u001b[0;34m\u001b[0m\u001b[0m\n\u001b[0m\u001b[1;32m      3\u001b[0m \u001b[0;34m\u001b[0m\u001b[0m\n\u001b[1;32m      4\u001b[0m \u001b[0mheader_dist\u001b[0m\u001b[0;34m=\u001b[0m\u001b[0;34m'\\t[[Samples]]\\n'\u001b[0m\u001b[0;34m\u001b[0m\u001b[0;34m\u001b[0m\u001b[0m\n\u001b[1;32m      5\u001b[0m \u001b[0;34m\u001b[0m\u001b[0m\n",
      "\u001b[0;32m~/anaconda2/envs/py36/lib/python3.6/site-packages/pandas/io/parsers.py\u001b[0m in \u001b[0;36mparser_f\u001b[0;34m(filepath_or_buffer, sep, delimiter, header, names, index_col, usecols, squeeze, prefix, mangle_dupe_cols, dtype, engine, converters, true_values, false_values, skipinitialspace, skiprows, skipfooter, nrows, na_values, keep_default_na, na_filter, verbose, skip_blank_lines, parse_dates, infer_datetime_format, keep_date_col, date_parser, dayfirst, cache_dates, iterator, chunksize, compression, thousands, decimal, lineterminator, quotechar, quoting, doublequote, escapechar, comment, encoding, dialect, error_bad_lines, warn_bad_lines, delim_whitespace, low_memory, memory_map, float_precision)\u001b[0m\n\u001b[1;32m    674\u001b[0m         )\n\u001b[1;32m    675\u001b[0m \u001b[0;34m\u001b[0m\u001b[0m\n\u001b[0;32m--> 676\u001b[0;31m         \u001b[0;32mreturn\u001b[0m \u001b[0m_read\u001b[0m\u001b[0;34m(\u001b[0m\u001b[0mfilepath_or_buffer\u001b[0m\u001b[0;34m,\u001b[0m \u001b[0mkwds\u001b[0m\u001b[0;34m)\u001b[0m\u001b[0;34m\u001b[0m\u001b[0;34m\u001b[0m\u001b[0m\n\u001b[0m\u001b[1;32m    677\u001b[0m \u001b[0;34m\u001b[0m\u001b[0m\n\u001b[1;32m    678\u001b[0m     \u001b[0mparser_f\u001b[0m\u001b[0;34m.\u001b[0m\u001b[0m__name__\u001b[0m \u001b[0;34m=\u001b[0m \u001b[0mname\u001b[0m\u001b[0;34m\u001b[0m\u001b[0;34m\u001b[0m\u001b[0m\n",
      "\u001b[0;32m~/anaconda2/envs/py36/lib/python3.6/site-packages/pandas/io/parsers.py\u001b[0m in \u001b[0;36m_read\u001b[0;34m(filepath_or_buffer, kwds)\u001b[0m\n\u001b[1;32m    446\u001b[0m \u001b[0;34m\u001b[0m\u001b[0m\n\u001b[1;32m    447\u001b[0m     \u001b[0;31m# Create the parser.\u001b[0m\u001b[0;34m\u001b[0m\u001b[0;34m\u001b[0m\u001b[0;34m\u001b[0m\u001b[0m\n\u001b[0;32m--> 448\u001b[0;31m     \u001b[0mparser\u001b[0m \u001b[0;34m=\u001b[0m \u001b[0mTextFileReader\u001b[0m\u001b[0;34m(\u001b[0m\u001b[0mfp_or_buf\u001b[0m\u001b[0;34m,\u001b[0m \u001b[0;34m**\u001b[0m\u001b[0mkwds\u001b[0m\u001b[0;34m)\u001b[0m\u001b[0;34m\u001b[0m\u001b[0;34m\u001b[0m\u001b[0m\n\u001b[0m\u001b[1;32m    449\u001b[0m \u001b[0;34m\u001b[0m\u001b[0m\n\u001b[1;32m    450\u001b[0m     \u001b[0;32mif\u001b[0m \u001b[0mchunksize\u001b[0m \u001b[0;32mor\u001b[0m \u001b[0miterator\u001b[0m\u001b[0;34m:\u001b[0m\u001b[0;34m\u001b[0m\u001b[0;34m\u001b[0m\u001b[0m\n",
      "\u001b[0;32m~/anaconda2/envs/py36/lib/python3.6/site-packages/pandas/io/parsers.py\u001b[0m in \u001b[0;36m__init__\u001b[0;34m(self, f, engine, **kwds)\u001b[0m\n\u001b[1;32m    878\u001b[0m             \u001b[0mself\u001b[0m\u001b[0;34m.\u001b[0m\u001b[0moptions\u001b[0m\u001b[0;34m[\u001b[0m\u001b[0;34m\"has_index_names\"\u001b[0m\u001b[0;34m]\u001b[0m \u001b[0;34m=\u001b[0m \u001b[0mkwds\u001b[0m\u001b[0;34m[\u001b[0m\u001b[0;34m\"has_index_names\"\u001b[0m\u001b[0;34m]\u001b[0m\u001b[0;34m\u001b[0m\u001b[0;34m\u001b[0m\u001b[0m\n\u001b[1;32m    879\u001b[0m \u001b[0;34m\u001b[0m\u001b[0m\n\u001b[0;32m--> 880\u001b[0;31m         \u001b[0mself\u001b[0m\u001b[0;34m.\u001b[0m\u001b[0m_make_engine\u001b[0m\u001b[0;34m(\u001b[0m\u001b[0mself\u001b[0m\u001b[0;34m.\u001b[0m\u001b[0mengine\u001b[0m\u001b[0;34m)\u001b[0m\u001b[0;34m\u001b[0m\u001b[0;34m\u001b[0m\u001b[0m\n\u001b[0m\u001b[1;32m    881\u001b[0m \u001b[0;34m\u001b[0m\u001b[0m\n\u001b[1;32m    882\u001b[0m     \u001b[0;32mdef\u001b[0m \u001b[0mclose\u001b[0m\u001b[0;34m(\u001b[0m\u001b[0mself\u001b[0m\u001b[0;34m)\u001b[0m\u001b[0;34m:\u001b[0m\u001b[0;34m\u001b[0m\u001b[0;34m\u001b[0m\u001b[0m\n",
      "\u001b[0;32m~/anaconda2/envs/py36/lib/python3.6/site-packages/pandas/io/parsers.py\u001b[0m in \u001b[0;36m_make_engine\u001b[0;34m(self, engine)\u001b[0m\n\u001b[1;32m   1112\u001b[0m     \u001b[0;32mdef\u001b[0m \u001b[0m_make_engine\u001b[0m\u001b[0;34m(\u001b[0m\u001b[0mself\u001b[0m\u001b[0;34m,\u001b[0m \u001b[0mengine\u001b[0m\u001b[0;34m=\u001b[0m\u001b[0;34m\"c\"\u001b[0m\u001b[0;34m)\u001b[0m\u001b[0;34m:\u001b[0m\u001b[0;34m\u001b[0m\u001b[0;34m\u001b[0m\u001b[0m\n\u001b[1;32m   1113\u001b[0m         \u001b[0;32mif\u001b[0m \u001b[0mengine\u001b[0m \u001b[0;34m==\u001b[0m \u001b[0;34m\"c\"\u001b[0m\u001b[0;34m:\u001b[0m\u001b[0;34m\u001b[0m\u001b[0;34m\u001b[0m\u001b[0m\n\u001b[0;32m-> 1114\u001b[0;31m             \u001b[0mself\u001b[0m\u001b[0;34m.\u001b[0m\u001b[0m_engine\u001b[0m \u001b[0;34m=\u001b[0m \u001b[0mCParserWrapper\u001b[0m\u001b[0;34m(\u001b[0m\u001b[0mself\u001b[0m\u001b[0;34m.\u001b[0m\u001b[0mf\u001b[0m\u001b[0;34m,\u001b[0m \u001b[0;34m**\u001b[0m\u001b[0mself\u001b[0m\u001b[0;34m.\u001b[0m\u001b[0moptions\u001b[0m\u001b[0;34m)\u001b[0m\u001b[0;34m\u001b[0m\u001b[0;34m\u001b[0m\u001b[0m\n\u001b[0m\u001b[1;32m   1115\u001b[0m         \u001b[0;32melse\u001b[0m\u001b[0;34m:\u001b[0m\u001b[0;34m\u001b[0m\u001b[0;34m\u001b[0m\u001b[0m\n\u001b[1;32m   1116\u001b[0m             \u001b[0;32mif\u001b[0m \u001b[0mengine\u001b[0m \u001b[0;34m==\u001b[0m \u001b[0;34m\"python\"\u001b[0m\u001b[0;34m:\u001b[0m\u001b[0;34m\u001b[0m\u001b[0;34m\u001b[0m\u001b[0m\n",
      "\u001b[0;32m~/anaconda2/envs/py36/lib/python3.6/site-packages/pandas/io/parsers.py\u001b[0m in \u001b[0;36m__init__\u001b[0;34m(self, src, **kwds)\u001b[0m\n\u001b[1;32m   1889\u001b[0m         \u001b[0mkwds\u001b[0m\u001b[0;34m[\u001b[0m\u001b[0;34m\"usecols\"\u001b[0m\u001b[0;34m]\u001b[0m \u001b[0;34m=\u001b[0m \u001b[0mself\u001b[0m\u001b[0;34m.\u001b[0m\u001b[0musecols\u001b[0m\u001b[0;34m\u001b[0m\u001b[0;34m\u001b[0m\u001b[0m\n\u001b[1;32m   1890\u001b[0m \u001b[0;34m\u001b[0m\u001b[0m\n\u001b[0;32m-> 1891\u001b[0;31m         \u001b[0mself\u001b[0m\u001b[0;34m.\u001b[0m\u001b[0m_reader\u001b[0m \u001b[0;34m=\u001b[0m \u001b[0mparsers\u001b[0m\u001b[0;34m.\u001b[0m\u001b[0mTextReader\u001b[0m\u001b[0;34m(\u001b[0m\u001b[0msrc\u001b[0m\u001b[0;34m,\u001b[0m \u001b[0;34m**\u001b[0m\u001b[0mkwds\u001b[0m\u001b[0;34m)\u001b[0m\u001b[0;34m\u001b[0m\u001b[0;34m\u001b[0m\u001b[0m\n\u001b[0m\u001b[1;32m   1892\u001b[0m         \u001b[0mself\u001b[0m\u001b[0;34m.\u001b[0m\u001b[0munnamed_cols\u001b[0m \u001b[0;34m=\u001b[0m \u001b[0mself\u001b[0m\u001b[0;34m.\u001b[0m\u001b[0m_reader\u001b[0m\u001b[0;34m.\u001b[0m\u001b[0munnamed_cols\u001b[0m\u001b[0;34m\u001b[0m\u001b[0;34m\u001b[0m\u001b[0m\n\u001b[1;32m   1893\u001b[0m \u001b[0;34m\u001b[0m\u001b[0m\n",
      "\u001b[0;32mpandas/_libs/parsers.pyx\u001b[0m in \u001b[0;36mpandas._libs.parsers.TextReader.__cinit__\u001b[0;34m()\u001b[0m\n",
      "\u001b[0;32mpandas/_libs/parsers.pyx\u001b[0m in \u001b[0;36mpandas._libs.parsers.TextReader._setup_parser_source\u001b[0;34m()\u001b[0m\n",
      "\u001b[0;31mFileNotFoundError\u001b[0m: [Errno 2] File arrays_with_at_least_5percent_in_reads.popcounts does not exist: 'arrays_with_at_least_5percent_in_reads.popcounts'"
     ]
    }
   ],
   "source": [
    "file='arrays_with_at_least_5percent_in_reads'\n",
    "pop=pd.read_csv(file+'.popcounts',header=0,sep='\\t',index_col=0)\n",
    "\n",
    "header_dist='\\t[[Samples]]\\n'\n",
    "\n",
    "sample_section=header_dist+'\\n'\n",
    "for col in pop.columns:\n",
    "    sample_section+='SampleName=\"'+col+'\"'+'\\n'+'SampleSize='+str(sum(pop[col][pop[col]>0]))+'\\nSampleData= {\\n'\n",
    "    values=pop[col][pop[col]>0].iloc[0].fillna('').str.strip().str.cat(sep=' ')\n",
    "\n",
    "#     values=(pop[col][pop[col]>0].to_string())+'\\n}\\n\\n'\n",
    "    sample_section+=values\n",
    "    \n",
    "print(sample_section)\n",
    "entry+=sample_section+'\\n'"
   ]
  },
  {
   "cell_type": "code",
   "execution_count": 90,
   "metadata": {},
   "outputs": [],
   "source": [
    "entry=profile_section+'\\n'+header_dat+'\\n'+dist_section+'\\n\\n'+sample_section+'\\n'\n",
    "with open(file+'.arptemplate', 'w') as the_file:\n",
    "    the_file.write(entry)"
   ]
  },
  {
   "cell_type": "markdown",
   "metadata": {},
   "source": [
    "## Structure"
   ]
  },
  {
   "cell_type": "code",
   "execution_count": 92,
   "metadata": {},
   "outputs": [
    {
     "name": "stdout",
     "output_type": "stream",
     "text": [
      "\t[[Structure]]\n",
      "\n",
      "StructureName=\"Structured by Site\"\n",
      "NbGroups=9\n",
      "Group={\n",
      "\"R15H-1-T\"\n",
      "\"R15H-2-T\"\n",
      "\"R15H-2-T_bis\"\n",
      "\"R15H-3-T\"\n",
      "\"R15H-3-T_old\"\n",
      "\"R15H-6-T\"\n",
      "\"R15H-7-T\"\n",
      "}\n",
      "Group={\n",
      "\"R13L-3-T\"\n",
      "\"R13L-4-T\"\n",
      "\"R13L-5-T\"\n",
      "}\n",
      "Group={\n",
      "\"R08H-1-T\"\n",
      "\"R08H-2-Ta\"\n",
      "\"R08H-2-Tb\"\n",
      "\"R08H-2-Tc\"\n",
      "\"R08H-3-Ta\"\n",
      "\"R08H-3-Tb\"\n",
      "\"R08H-3-Tc\"\n",
      "}\n",
      "Group={\n",
      "\"R16L-1-T\"\n",
      "\"R16L-2-T\"\n",
      "\"R16L-3-T\"\n",
      "\"R16L-4-T\"\n",
      "\"R16L-5-T\"\n",
      "}\n",
      "Group={\n",
      "\"R14B-2-T\"\n",
      "\"R14B-4-T\"\n",
      "}\n",
      "Group={\n",
      "\"R02H-7-T\"\n",
      "\"R02H-8-T_bis\"\n",
      "\"R02H-8-T\"\n",
      "\"R02H-9-T\"\n",
      "}\n",
      "Group={\n",
      "\"R01L-10-T\"\n",
      "\"R01L-12-T\"\n",
      "}\n",
      "Group={\n",
      "\"R07B-1-Ta\"\n",
      "\"R07B-1-Tb\"\n",
      "\"R07B-1-Tc\"\n",
      "\"R07B-1-Td\"\n",
      "\"R07B-2-Tb\"\n",
      "\"R07B-2-Tc\"\n",
      "\"R07B-3-T\"\n",
      "}\n",
      "Group={\n",
      "\"R09L-2-Ta\"\n",
      "\"R09L-2-Tb\"\n",
      "\"R09L-2-Tc\"\n",
      "\"R09L-3-T\"\n",
      "\"R09L-4-Ta\"\n",
      "\"R09L-4-Tb\"\n",
      "\"R09L-4-Tc\"\n",
      "}\n",
      "\n"
     ]
    }
   ],
   "source": [
    "### Structure by Site\n",
    "import shutil\n",
    "\n",
    "meta=pd.read_csv('CRISPR_metadata.txt',sep='\\t')\n",
    "meta['Sample']=['_'.join(val.split('_')[1:]) for val in meta['Sample'].values]\n",
    "meta\n",
    "\n",
    "what='Site'\n",
    "header_structure='\\t[[Structure]]\\n'\n",
    "StructureName='Structured by '+what\n",
    "NbGroups=len(set(meta[what].values))\n",
    "structure_section=header_structure+'\\n'+'StructureName=\"'+StructureName+'\"\\n'+'NbGroups='+str(NbGroups)+'\\n'\n",
    "\n",
    "for grp in set(meta[what].values):\n",
    "    list_of_samples=meta[meta[what]==grp].Sample.values\n",
    "    group='Group={\\n'+'\\n'.join(['\"'+sam+'\"' for sam in list_of_samples])+'\\n}\\n'\n",
    "    structure_section+=group\n",
    "print(structure_section)\n",
    "\n",
    "shutil.copy(file+'.arptemplate', file+'_'+what+'.arp')\n",
    "with open(file+'_'+what+'.arp', 'a') as the_file:\n",
    "    the_file.write(structure_section+'\\n')"
   ]
  },
  {
   "cell_type": "code",
   "execution_count": 94,
   "metadata": {},
   "outputs": [
    {
     "name": "stdout",
     "output_type": "stream",
     "text": [
      "\t[[Structure]]\n",
      "\n",
      "StructureName=\"Structured by Region\"\n",
      "NbGroups=3\n",
      "Group={\n",
      "\"R01L-10-T\"\n",
      "\"R01L-12-T\"\n",
      "\"R02H-7-T\"\n",
      "\"R02H-8-T_bis\"\n",
      "\"R02H-8-T\"\n",
      "\"R02H-9-T\"\n",
      "\"R07B-1-Ta\"\n",
      "\"R07B-1-Tb\"\n",
      "\"R07B-1-Tc\"\n",
      "\"R07B-1-Td\"\n",
      "\"R07B-2-Tb\"\n",
      "\"R07B-2-Tc\"\n",
      "\"R07B-3-T\"\n",
      "\"R08H-1-T\"\n",
      "\"R08H-2-Ta\"\n",
      "\"R08H-2-Tb\"\n",
      "\"R08H-2-Tc\"\n",
      "\"R08H-3-Ta\"\n",
      "\"R08H-3-Tb\"\n",
      "\"R08H-3-Tc\"\n",
      "\"R09L-2-Ta\"\n",
      "\"R09L-2-Tb\"\n",
      "\"R09L-2-Tc\"\n",
      "\"R09L-3-T\"\n",
      "\"R09L-4-Ta\"\n",
      "\"R09L-4-Tb\"\n",
      "\"R09L-4-Tc\"\n",
      "}\n",
      "Group={\n",
      "\"R13L-3-T\"\n",
      "\"R13L-4-T\"\n",
      "\"R13L-5-T\"\n",
      "\"R14B-2-T\"\n",
      "\"R14B-4-T\"\n",
      "}\n",
      "Group={\n",
      "\"R15H-1-T\"\n",
      "\"R15H-2-T\"\n",
      "\"R15H-2-T_bis\"\n",
      "\"R15H-3-T\"\n",
      "\"R15H-3-T_old\"\n",
      "\"R15H-6-T\"\n",
      "\"R15H-7-T\"\n",
      "\"R16L-1-T\"\n",
      "\"R16L-2-T\"\n",
      "\"R16L-3-T\"\n",
      "\"R16L-4-T\"\n",
      "\"R16L-5-T\"\n",
      "}\n",
      "\n"
     ]
    }
   ],
   "source": [
    "### Structure by Region\n",
    "import shutil\n",
    "\n",
    "meta=pd.read_csv('CRISPR_metadata.txt',sep='\\t')\n",
    "meta['Sample']=['_'.join(val.split('_')[1:]) for val in meta['Sample'].values]\n",
    "meta\n",
    "\n",
    "what='Region'\n",
    "header_structure='\\t[[Structure]]\\n'\n",
    "StructureName='Structured by '+what\n",
    "NbGroups=len(set(meta[what].values))\n",
    "structure_section=header_structure+'\\n'+'StructureName=\"'+StructureName+'\"\\n'+'NbGroups='+str(NbGroups)+'\\n'\n",
    "\n",
    "for grp in set(meta[what].values):\n",
    "    list_of_samples=meta[meta[what]==grp].Sample.values\n",
    "    group='Group={\\n'+'\\n'.join(['\"'+sam+'\"' for sam in list_of_samples])+'\\n}\\n'\n",
    "    structure_section+=group\n",
    "print(structure_section)\n",
    "\n",
    "shutil.copy(file+'.arptemplate', file+'_'+what+'.arp')\n",
    "with open(file+'_'+what+'.arp', 'a') as the_file:\n",
    "    the_file.write(structure_section+'\\n')"
   ]
  },
  {
   "cell_type": "code",
   "execution_count": 96,
   "metadata": {},
   "outputs": [
    {
     "name": "stdout",
     "output_type": "stream",
     "text": [
      "\t[[Structure]]\n",
      "\n",
      "StructureName=\"Structured by Flow\"\n",
      "NbGroups=3\n",
      "Group={\n",
      "\"R02H-7-T\"\n",
      "\"R02H-8-T_bis\"\n",
      "\"R02H-8-T\"\n",
      "\"R02H-9-T\"\n",
      "\"R08H-1-T\"\n",
      "\"R08H-2-Ta\"\n",
      "\"R08H-2-Tb\"\n",
      "\"R08H-2-Tc\"\n",
      "\"R08H-3-Ta\"\n",
      "\"R08H-3-Tb\"\n",
      "\"R08H-3-Tc\"\n",
      "\"R13L-3-T\"\n",
      "\"R13L-4-T\"\n",
      "\"R13L-5-T\"\n",
      "\"R15H-1-T\"\n",
      "\"R15H-2-T\"\n",
      "\"R15H-2-T_bis\"\n",
      "\"R15H-3-T\"\n",
      "\"R15H-3-T_old\"\n",
      "\"R15H-6-T\"\n",
      "\"R15H-7-T\"\n",
      "}\n",
      "Group={\n",
      "\"R01L-10-T\"\n",
      "\"R01L-12-T\"\n",
      "\"R09L-2-Ta\"\n",
      "\"R09L-2-Tb\"\n",
      "\"R09L-2-Tc\"\n",
      "\"R09L-3-T\"\n",
      "\"R09L-4-Ta\"\n",
      "\"R09L-4-Tb\"\n",
      "\"R09L-4-Tc\"\n",
      "\"R16L-1-T\"\n",
      "\"R16L-2-T\"\n",
      "\"R16L-3-T\"\n",
      "\"R16L-4-T\"\n",
      "\"R16L-5-T\"\n",
      "}\n",
      "Group={\n",
      "\"R07B-1-Ta\"\n",
      "\"R07B-1-Tb\"\n",
      "\"R07B-1-Tc\"\n",
      "\"R07B-1-Td\"\n",
      "\"R07B-2-Tb\"\n",
      "\"R07B-2-Tc\"\n",
      "\"R07B-3-T\"\n",
      "\"R14B-2-T\"\n",
      "\"R14B-4-T\"\n",
      "}\n",
      "\n"
     ]
    }
   ],
   "source": [
    "### Structure by Region\n",
    "import shutil\n",
    "\n",
    "meta=pd.read_csv('CRISPR_metadata.txt',sep='\\t')\n",
    "meta['Sample']=['_'.join(val.split('_')[1:]) for val in meta['Sample'].values]\n",
    "meta\n",
    "\n",
    "what='Flow'\n",
    "header_structure='\\t[[Structure]]\\n'\n",
    "StructureName='Structured by '+what\n",
    "NbGroups=len(set(meta[what].values))\n",
    "structure_section=header_structure+'\\n'+'StructureName=\"'+StructureName+'\"\\n'+'NbGroups='+str(NbGroups)+'\\n'\n",
    "\n",
    "for grp in set(meta[what].values):\n",
    "    list_of_samples=meta[meta[what]==grp].Sample.values\n",
    "    group='Group={\\n'+'\\n'.join(['\"'+sam+'\"' for sam in list_of_samples])+'\\n}\\n'\n",
    "    structure_section+=group\n",
    "print(structure_section)\n",
    "\n",
    "shutil.copy(file+'.arptemplate', file+'_'+what+'.arp')\n",
    "with open(file+'_'+what+'.arp', 'a') as the_file:\n",
    "    the_file.write(structure_section+'\\n')"
   ]
  },
  {
   "cell_type": "code",
   "execution_count": null,
   "metadata": {},
   "outputs": [],
   "source": []
  }
 ],
 "metadata": {
  "kernelspec": {
   "display_name": "Python (py36)",
   "language": "python",
   "name": "py36"
  },
  "language_info": {
   "codemirror_mode": {
    "name": "ipython",
    "version": 3
   },
   "file_extension": ".py",
   "mimetype": "text/x-python",
   "name": "python",
   "nbconvert_exporter": "python",
   "pygments_lexer": "ipython3",
   "version": "3.6.10"
  }
 },
 "nbformat": 4,
 "nbformat_minor": 2
}

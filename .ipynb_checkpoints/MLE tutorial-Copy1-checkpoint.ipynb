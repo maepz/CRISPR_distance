{
 "cells": [
  {
   "cell_type": "markdown",
   "metadata": {},
   "source": [
    "# MLE tutorial from \n",
    "https://towardsdatascience.com/a-gentle-introduction-to-maximum-likelihood-estimation-9fbff27ea12f"
   ]
  },
  {
   "cell_type": "markdown",
   "metadata": {},
   "source": [
    "## Setup\n",
    "MLE is easy if you import the right packages:"
   ]
  },
  {
   "cell_type": "code",
   "execution_count": 11,
   "metadata": {},
   "outputs": [],
   "source": [
    "# import libraries\n",
    "import numpy as np, pandas as pd\n",
    "from matplotlib import pyplot as plt\n",
    "import seaborn as sns\n",
    "from scipy.optimize import minimize\n",
    "import scipy.stats as stats\n",
    "import pymc3 as pm3\n",
    "import numdifftools as ndt\n",
    "import statsmodels.api as sm\n",
    "from statsmodels.base.model import GenericLikelihoodModel\n",
    "%matplotlib inline"
   ]
  },
  {
   "cell_type": "markdown",
   "metadata": {},
   "source": [
    "From there, we will generate data that follows a normally distributed errors around a ground truth function:"
   ]
  },
  {
   "cell_type": "code",
   "execution_count": 24,
   "metadata": {},
   "outputs": [
    {
     "data": {
      "text/html": [
       "<div>\n",
       "<style scoped>\n",
       "    .dataframe tbody tr th:only-of-type {\n",
       "        vertical-align: middle;\n",
       "    }\n",
       "\n",
       "    .dataframe tbody tr th {\n",
       "        vertical-align: top;\n",
       "    }\n",
       "\n",
       "    .dataframe thead th {\n",
       "        text-align: right;\n",
       "    }\n",
       "</style>\n",
       "<table border=\"1\" class=\"dataframe\">\n",
       "  <thead>\n",
       "    <tr style=\"text-align: right;\">\n",
       "      <th></th>\n",
       "      <th>y</th>\n",
       "      <th>x</th>\n",
       "      <th>constant</th>\n",
       "    </tr>\n",
       "  </thead>\n",
       "  <tbody>\n",
       "    <tr>\n",
       "      <th>0</th>\n",
       "      <td>-6.861127</td>\n",
       "      <td>0.000000</td>\n",
       "      <td>1</td>\n",
       "    </tr>\n",
       "    <tr>\n",
       "      <th>1</th>\n",
       "      <td>-2.320489</td>\n",
       "      <td>0.202020</td>\n",
       "      <td>1</td>\n",
       "    </tr>\n",
       "    <tr>\n",
       "      <th>2</th>\n",
       "      <td>4.361313</td>\n",
       "      <td>0.404040</td>\n",
       "      <td>1</td>\n",
       "    </tr>\n",
       "    <tr>\n",
       "      <th>3</th>\n",
       "      <td>7.328508</td>\n",
       "      <td>0.606061</td>\n",
       "      <td>1</td>\n",
       "    </tr>\n",
       "    <tr>\n",
       "      <th>4</th>\n",
       "      <td>3.053775</td>\n",
       "      <td>0.808081</td>\n",
       "      <td>1</td>\n",
       "    </tr>\n",
       "  </tbody>\n",
       "</table>\n",
       "</div>"
      ],
      "text/plain": [
       "          y         x  constant\n",
       "0 -6.861127  0.000000         1\n",
       "1 -2.320489  0.202020         1\n",
       "2  4.361313  0.404040         1\n",
       "3  7.328508  0.606061         1\n",
       "4  3.053775  0.808081         1"
      ]
     },
     "execution_count": 24,
     "metadata": {},
     "output_type": "execute_result"
    }
   ],
   "source": [
    "# generate data\n",
    "N = 100\n",
    "x = np.linspace(0,20,N)\n",
    "ϵ = np.random.normal(loc = 0.0, scale = 5.0, size = N)\n",
    "y = 3*x + ϵ\n",
    "df = pd.DataFrame({'y':y, 'x':x})\n",
    "df['constant'] = 1\n",
    "df[:5]"
   ]
  },
  {
   "cell_type": "markdown",
   "metadata": {},
   "source": [
    "Finally, let’s visualize using Seaborn’s regplot:\n",
    "Keep in mind there’s randomness here and we didn’t use a seed:"
   ]
  },
  {
   "cell_type": "code",
   "execution_count": 25,
   "metadata": {},
   "outputs": [
    {
     "data": {
      "image/png": "[encoded data removed]",
      "text/plain": [
       "<Figure size 432x288 with 1 Axes>"
      ]
     },
     "metadata": {
      "needs_background": "light"
     },
     "output_type": "display_data"
    }
   ],
   "source": [
    "# plot\n",
    "sns.regplot(df.x, df.y);"
   ]
  },
  {
   "cell_type": "markdown",
   "metadata": {},
   "source": [
    "## Modeling OLS with Statsmodels\n",
    "Since we created regression-like, continuous data, we will use sm.OLS to calculate the best coefficients and Log-likelihood (LL) as a benchmark."
   ]
  },
  {
   "cell_type": "code",
   "execution_count": 27,
   "metadata": {},
   "outputs": [
    {
     "data": {
      "text/html": [
       "<table class=\"simpletable\">\n",
       "<caption>OLS Regression Results</caption>\n",
       "<tr>\n",
       "  <th>Dep. Variable:</th>            <td>y</td>        <th>  R-squared:         </th> <td>   0.925</td>\n",
       "</tr>\n",
       "<tr>\n",
       "  <th>Model:</th>                   <td>OLS</td>       <th>  Adj. R-squared:    </th> <td>   0.925</td>\n",
       "</tr>\n",
       "<tr>\n",
       "  <th>Method:</th>             <td>Least Squares</td>  <th>  F-statistic:       </th> <td>   1216.</td>\n",
       "</tr>\n",
       "<tr>\n",
       "  <th>Date:</th>             <td>Sat, 25 Apr 2020</td> <th>  Prob (F-statistic):</th> <td>4.75e-57</td>\n",
       "</tr>\n",
       "<tr>\n",
       "  <th>Time:</th>                 <td>14:42:30</td>     <th>  Log-Likelihood:    </th> <td> -303.73</td>\n",
       "</tr>\n",
       "<tr>\n",
       "  <th>No. Observations:</th>      <td>   100</td>      <th>  AIC:               </th> <td>   611.5</td>\n",
       "</tr>\n",
       "<tr>\n",
       "  <th>Df Residuals:</th>          <td>    98</td>      <th>  BIC:               </th> <td>   616.7</td>\n",
       "</tr>\n",
       "<tr>\n",
       "  <th>Df Model:</th>              <td>     1</td>      <th>                     </th>     <td> </td>   \n",
       "</tr>\n",
       "<tr>\n",
       "  <th>Covariance Type:</th>      <td>nonrobust</td>    <th>                     </th>     <td> </td>   \n",
       "</tr>\n",
       "</table>\n",
       "<table class=\"simpletable\">\n",
       "<tr>\n",
       "      <td></td>        <th>coef</th>     <th>std err</th>      <th>t</th>      <th>P>|t|</th>  <th>[0.025</th>    <th>0.975]</th>  \n",
       "</tr>\n",
       "<tr>\n",
       "  <th>constant</th> <td>    0.1348</td> <td>    1.012</td> <td>    0.133</td> <td> 0.894</td> <td>   -1.873</td> <td>    2.142</td>\n",
       "</tr>\n",
       "<tr>\n",
       "  <th>x</th>        <td>    3.0475</td> <td>    0.087</td> <td>   34.874</td> <td> 0.000</td> <td>    2.874</td> <td>    3.221</td>\n",
       "</tr>\n",
       "</table>\n",
       "<table class=\"simpletable\">\n",
       "<tr>\n",
       "  <th>Omnibus:</th>       <td> 1.570</td> <th>  Durbin-Watson:     </th> <td>   2.259</td>\n",
       "</tr>\n",
       "<tr>\n",
       "  <th>Prob(Omnibus):</th> <td> 0.456</td> <th>  Jarque-Bera (JB):  </th> <td>   1.066</td>\n",
       "</tr>\n",
       "<tr>\n",
       "  <th>Skew:</th>          <td> 0.049</td> <th>  Prob(JB):          </th> <td>   0.587</td>\n",
       "</tr>\n",
       "<tr>\n",
       "  <th>Kurtosis:</th>      <td> 3.496</td> <th>  Cond. No.          </th> <td>    23.1</td>\n",
       "</tr>\n",
       "</table><br/><br/>Warnings:<br/>[1] Standard Errors assume that the covariance matrix of the errors is correctly specified."
      ],
      "text/plain": [
       "<class 'statsmodels.iolib.summary.Summary'>\n",
       "\"\"\"\n",
       "                            OLS Regression Results                            \n",
       "==============================================================================\n",
       "Dep. Variable:                      y   R-squared:                       0.925\n",
       "Model:                            OLS   Adj. R-squared:                  0.925\n",
       "Method:                 Least Squares   F-statistic:                     1216.\n",
       "Date:                Sat, 25 Apr 2020   Prob (F-statistic):           4.75e-57\n",
       "Time:                        14:42:30   Log-Likelihood:                -303.73\n",
       "No. Observations:                 100   AIC:                             611.5\n",
       "Df Residuals:                      98   BIC:                             616.7\n",
       "Df Model:                           1                                         \n",
       "Covariance Type:            nonrobust                                         \n",
       "==============================================================================\n",
       "                 coef    std err          t      P>|t|      [0.025      0.975]\n",
       "------------------------------------------------------------------------------\n",
       "constant       0.1348      1.012      0.133      0.894      -1.873       2.142\n",
       "x              3.0475      0.087     34.874      0.000       2.874       3.221\n",
       "==============================================================================\n",
       "Omnibus:                        1.570   Durbin-Watson:                   2.259\n",
       "Prob(Omnibus):                  0.456   Jarque-Bera (JB):                1.066\n",
       "Skew:                           0.049   Prob(JB):                        0.587\n",
       "Kurtosis:                       3.496   Cond. No.                         23.1\n",
       "==============================================================================\n",
       "\n",
       "Warnings:\n",
       "[1] Standard Errors assume that the covariance matrix of the errors is correctly specified.\n",
       "\"\"\""
      ]
     },
     "execution_count": 27,
     "metadata": {},
     "output_type": "execute_result"
    }
   ],
   "source": [
    "# split features and target\n",
    "X = df[['constant', 'x']]\n",
    "# fit model and summarize\n",
    "sm.OLS(y,X).fit().summary()"
   ]
  },
  {
   "cell_type": "markdown",
   "metadata": {},
   "source": [
    "Notice constant is close to zero, and beta for feature x is close to 3, per the ground truth generator we used."
   ]
  },
  {
   "cell_type": "markdown",
   "metadata": {},
   "source": [
    "## Maximizing LL to solve for Optimal Coefficients\n",
    "From here, we’ll use a combination of packages and custom functions to see if we can calculate the same OLS results above using MLE methods.\n",
    "Because scipy.optimize has only a minimize method, we'll minimize the negative of the log-likelihood. This is even what they recommend! Math trickery is often faster and easier than re-inventing the wheel!\n",
    "We can build a simple function that does everything in one pass for regression outputs:"
   ]
  },
  {
   "cell_type": "code",
   "execution_count": 28,
   "metadata": {},
   "outputs": [],
   "source": [
    "# define likelihood function\n",
    "def MLERegression(params):\n",
    "    intercept, beta, sd = params[0], params[1], params[2] # inputs are guesses at our parameters\n",
    "    yhat = intercept + beta*x # predictions\n",
    "    # next, we flip the Bayesian question\n",
    "    # compute PDF of observed values normally distributed around mean (yhat)\n",
    "    # with a standard deviation of sd\n",
    "    negLL = -np.sum( stats.norm.logpdf(y, loc=yhat, scale=sd) )\n",
    "    # return negative LL\n",
    "    return(negLL)"
   ]
  },
  {
   "cell_type": "markdown",
   "metadata": {},
   "source": [
    "Now that we have a cost function, let’s initialize and minimize it:\n"
   ]
  },
  {
   "cell_type": "code",
   "execution_count": 30,
   "metadata": {},
   "outputs": [
    {
     "name": "stdout",
     "output_type": "stream",
     "text": [
      "Optimization terminated successfully.\n",
      "         Current function value: 303.728816\n",
      "         Iterations: 103\n",
      "         Function evaluations: 191\n"
     ]
    }
   ],
   "source": [
    "# let’s start with some random coefficient guesses and optimize\n",
    "guess = np.array([5,5,2])\n",
    "results = minimize(MLERegression, guess, method = 'Nelder-Mead', \n",
    " options={'disp': True})"
   ]
  },
  {
   "cell_type": "markdown",
   "metadata": {},
   "source": [
    "Let’s check the results:"
   ]
  },
  {
   "cell_type": "code",
   "execution_count": 31,
   "metadata": {},
   "outputs": [
    {
     "data": {
      "text/plain": [
       " final_simplex: (array([[0.13484299, 3.04755201, 5.04476557],\n",
       "       [0.13491245, 3.04754289, 5.04477105],\n",
       "       [0.134771  , 3.04755255, 5.04473284],\n",
       "       [0.1348898 , 3.04754971, 5.04474422]]), array([303.72881563, 303.72881563, 303.72881563, 303.72881563]))\n",
       "           fun: 303.7288156283786\n",
       "       message: 'Optimization terminated successfully.'\n",
       "          nfev: 191\n",
       "           nit: 103\n",
       "        status: 0\n",
       "       success: True\n",
       "             x: array([0.13484299, 3.04755201, 5.04476557])"
      ]
     },
     "execution_count": 31,
     "metadata": {},
     "output_type": "execute_result"
    }
   ],
   "source": [
    "results # this gives us verbosity around our minimization\n",
    "# notice our final key and associated values…"
   ]
  },
  {
   "cell_type": "markdown",
   "metadata": {},
   "source": [
    "And we can clean up further:"
   ]
  },
  {
   "cell_type": "code",
   "execution_count": 32,
   "metadata": {},
   "outputs": [
    {
     "data": {
      "text/html": [
       "<div>\n",
       "<style scoped>\n",
       "    .dataframe tbody tr th:only-of-type {\n",
       "        vertical-align: middle;\n",
       "    }\n",
       "\n",
       "    .dataframe tbody tr th {\n",
       "        vertical-align: top;\n",
       "    }\n",
       "\n",
       "    .dataframe thead th {\n",
       "        text-align: right;\n",
       "    }\n",
       "</style>\n",
       "<table border=\"1\" class=\"dataframe\">\n",
       "  <thead>\n",
       "    <tr style=\"text-align: right;\">\n",
       "      <th></th>\n",
       "      <th>coef</th>\n",
       "    </tr>\n",
       "  </thead>\n",
       "  <tbody>\n",
       "    <tr>\n",
       "      <th>constant</th>\n",
       "      <td>0.1348</td>\n",
       "    </tr>\n",
       "    <tr>\n",
       "      <th>x</th>\n",
       "      <td>3.0476</td>\n",
       "    </tr>\n",
       "  </tbody>\n",
       "</table>\n",
       "</div>"
      ],
      "text/plain": [
       "            coef\n",
       "constant  0.1348\n",
       "x         3.0476"
      ]
     },
     "execution_count": 32,
     "metadata": {},
     "output_type": "execute_result"
    }
   ],
   "source": [
    "# drop results into df and round to match statsmodels\n",
    "resultsdf = pd.DataFrame({'coef':results['x']})\n",
    "resultsdf.index=['constant','x','sigma']   \n",
    "np.round(resultsdf.head(2), 4)"
   ]
  },
  {
   "cell_type": "markdown",
   "metadata": {},
   "source": [
    "You’ll note that OLS and MLE match up nicely! Your results will differ, again, as we’re not using random seeds."
   ]
  },
  {
   "cell_type": "markdown",
   "metadata": {},
   "source": [
    "# Best Practices for MLE\n",
    "Before we go any further, this might be a good moment to reinforce our trust in MLE. As our regression baseline, we know that Ordinary Least Squares — by definition — is the best linear unbiased estimator for continuous outcomes that have normally distributed residuals and meet the other assumptions of linear regression. Is using MLE to find our coefficients as robust?\n",
    "## Yes!\n",
    "MLE is consistent with OLS.\n",
    "With infinite data, it will estimate the optimal β, and approximate it well for small but robust datasets.\n",
    "MLE is efficient; no consistent estimator has lower asymptotic mean squared error than MLE.\n",
    "So it looks like it fully replicates what OLS does. Then… why use MLE instead of OLS?\n",
    "## Because!\n",
    "MLE is generalizable for regression and classification!\n",
    "MLE is efficient; no consistent estimator has lower asymptotic error than MLE if you’re using the right distribution.\n",
    "We can think of MLE as a modular way of fitting models by optimizing a probabilistic cost function!\n",
    "## Four major steps in applying MLE:\n",
    "Define the likelihood, ensuring you’re using the correct distribution for your regression or classification problem.\n",
    "Take the natural log and reduce the product function to a sum function.\n",
    "Maximize — or minimize the negative of — the objective function.\n",
    "Verify that uniform priors are a safe assumption! Otherwise, you could attribute the data to a generating function or model of the world that fails the Law of Parsimony.\n",
    "There’s much more in the MLE space, including categorical distributions, using Bayesian statistics packages like PyMC3 , etc. But we’ll stop here for today."
   ]
  },
  {
   "cell_type": "code",
   "execution_count": null,
   "metadata": {},
   "outputs": [],
   "source": []
  }
 ],
 "metadata": {
  "kernelspec": {
   "display_name": "Python 3",
   "language": "python",
   "name": "python3"
  },
  "language_info": {
   "codemirror_mode": {
    "name": "ipython",
    "version": 3
   },
   "file_extension": ".py",
   "mimetype": "text/x-python",
   "name": "python",
   "nbconvert_exporter": "python",
   "pygments_lexer": "ipython3",
   "version": "3.6.10"
  }
 },
 "nbformat": 4,
 "nbformat_minor": 2
}

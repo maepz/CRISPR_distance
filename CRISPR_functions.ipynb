{
 "cells": [
  {
   "cell_type": "markdown",
   "metadata": {},
   "source": [
    "# Here are the functions needed for CRISPR_distance"
   ]
  },
  {
   "cell_type": "markdown",
   "metadata": {},
   "source": [
    "## Get the ansestors"
   ]
  },
  {
   "cell_type": "code",
   "execution_count": 1,
   "metadata": {},
   "outputs": [],
   "source": [
    "def nCr(n,r):\n",
    "        import math\n",
    "        f = math.factorial\n",
    "        return f(n) / f(r) / f(n-r)"
   ]
  },
  {
   "cell_type": "code",
   "execution_count": 2,
   "metadata": {},
   "outputs": [],
   "source": [
    "def categorize_spacers_for_ordered_model(s1,s2):\n",
    "    c_spacers=[]\n",
    "    for i in range(len(s1)):\n",
    "        sp=s1[i]\n",
    "        if sp in s2:\n",
    "            j=array2.index(sp)\n",
    "            c_spacers=s2[j:]+s1[i:]\n",
    "            d1_spacers=s1[:i]\n",
    "            d2_spacers=s2[:j]\n",
    "            break\n",
    "    return(list(set(c_spacers)),d1_spacers,d2_spacers)"
   ]
  },
  {
   "cell_type": "code",
   "execution_count": 3,
   "metadata": {},
   "outputs": [],
   "source": [
    "def is_overlapping(s1, s2):\n",
    "    for i in s1:\n",
    "        if i in s2:\n",
    "            answer=1\n",
    "            break\n",
    "        else:\n",
    "            answer=0\n",
    "            continue\n",
    "    return(answer)"
   ]
  },
  {
   "cell_type": "markdown",
   "metadata": {},
   "source": [
    "## Math equations"
   ]
  },
  {
   "cell_type": "code",
   "execution_count": null,
   "metadata": {},
   "outputs": [],
   "source": [
    "\n",
    "def rho(lbda,mu):\n",
    "    import numpy as np\n",
    "    return(lbda/mu)\n",
    "def prob_n_given_ro(n,rho):\n",
    "    import numpy as np\n",
    "    return((np.e**-rho)*(rho**n/np.math.factorial(n))) "
   ]
  }
 ],
 "metadata": {
  "kernelspec": {
   "display_name": "Python 3",
   "language": "python",
   "name": "python3"
  },
  "language_info": {
   "codemirror_mode": {
    "name": "ipython",
    "version": 3
   },
   "file_extension": ".py",
   "mimetype": "text/x-python",
   "name": "python",
   "nbconvert_exporter": "python",
   "pygments_lexer": "ipython3",
   "version": "3.6.10"
  }
 },
 "nbformat": 4,
 "nbformat_minor": 2
}

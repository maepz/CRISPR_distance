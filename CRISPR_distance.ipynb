{
 "cells": [
  {
   "cell_type": "markdown",
   "metadata": {},
   "source": [
    "# Step 1: Estimate a starting ρ from the length model by maximum likelihood."
   ]
  },
  {
   "cell_type": "markdown",
   "metadata": {},
   "source": [
    "The independent loss length model is a\n",
    "Markov process known as an M/M/∞ queuing model\n",
    "[28] (Figure 2A). In this queuing model, customers\n",
    "(i.e., spacers) arrive according to a Poisson process with\n",
    "rate λ. They are immediately served and exit after an\n",
    "exponential waiting time with rate μ. The stationary distribution\n",
    "of the number of busy servers (i.e., the number\n",
    "of spacers in the array), is a Poisson distribution with\n",
    "rate ρ:\n",
    "\n",
    "ro = $$\\rho = \\frac{\\lambda}{\\mu}$$\n",
    "with $\\lambda$ = spacer insertion rate, $\\mu$ = spacer_deletion_rate\n",
    "\n",
    "prob_n_given_ro = $$p(n|\\rho) = e^{-\\rho} \\frac{\\rho^n}{n!}$$"
   ]
  },
  {
   "cell_type": "markdown",
   "metadata": {},
   "source": [
    "## ML of $p(n|\\rho)$ is the mean length of arrays"
   ]
  },
  {
   "cell_type": "code",
   "execution_count": 43,
   "metadata": {},
   "outputs": [
    {
     "data": {
      "text/plain": [
       "5.33333333333333303727386009995825588703155517578125"
      ]
     },
     "execution_count": 43,
     "metadata": {},
     "output_type": "execute_result"
    }
   ],
   "source": [
    "import numpy as np\n",
    "from mpmath import *\n",
    "mp.dps = 100; mp.pretty = True\n",
    "\n",
    "arrays=[[9,2,3,4,5],[0,1,2,3,7,8],[1,10,11,12,13],[13,14]]\n",
    "arrays=[[9,2,3,4,5],[0,1,2,3,7,8],[1,10,11,12,13]]\n",
    "\n",
    "\n",
    "rho_init=mpf(sum([len(ar) for ar in arrays])/len([len(ar) for ar in arrays]))\n",
    "\n",
    "rho_init"
   ]
  },
  {
   "cell_type": "markdown",
   "metadata": {},
   "source": [
    "# Step 2: For each pair of spacers with overlap, generate the possible ancestors (doesnt need to actually generate the arrays)"
   ]
  },
  {
   "cell_type": "markdown",
   "metadata": {},
   "source": [
    "Ancestral arrays can be arbitrarily\n",
    "    large, but the probability of observing a certain\n",
    "    length is given by p(n). For practical reasons we do\n",
    "    not consider ancestors whose length is outside the\n",
    "    central 99% of the stationary distribution given by ρ\n",
    "    estimated in step 1, since they would have a\n",
    "    negligible contribution to the likelihood. In detail, the\n",
    "    length l1 where the cumulative distribution exceeds\n",
    "    0.005 is the minimum ancestor length and the length\n",
    "    l2 where the cumulative distribution exceeds 0.995 is\n",
    "    the maximum ancestor length. Then the possible\n",
    "    ancestor lengths n are between l1 and l2: l1 ≤ n ≤ l2."
   ]
  },
  {
   "cell_type": "markdown",
   "metadata": {},
   "source": [
    "### 2.1: Find pairs of spacers that overlap"
   ]
  },
  {
   "cell_type": "code",
   "execution_count": 44,
   "metadata": {},
   "outputs": [
    {
     "data": {
      "text/plain": [
       "[([9, 2, 3, 4, 5], [0, 1, 2, 3, 7, 8]),\n",
       " ([0, 1, 2, 3, 7, 8], [1, 10, 11, 12, 13])]"
      ]
     },
     "execution_count": 44,
     "metadata": {},
     "output_type": "execute_result"
    }
   ],
   "source": [
    "from CRISPR_functions import is_overlapping\n",
    "import itertools\n",
    "from itertools import combinations\n",
    "\n",
    "arrays=[[9,2,3,4,5],[0,1,2,3,7,8],[1,10,11,12,13],[14,15]]\n",
    "\n",
    "overlapping_arrays=[pair for pair in list(itertools.combinations(arrays,2)) if is_overlapping(pair[0],pair[1])==1]\n",
    "\n",
    "overlapping_arrays"
   ]
  },
  {
   "cell_type": "markdown",
   "metadata": {},
   "source": [
    "### 2.1: Find ancestor array size limits to exclude arrays outside of the 99% length distribution"
   ]
  },
  {
   "cell_type": "code",
   "execution_count": 45,
   "metadata": {},
   "outputs": [
    {
     "data": {
      "text/plain": [
       "(0, 11)"
      ]
     },
     "execution_count": 45,
     "metadata": {},
     "output_type": "execute_result"
    }
   ],
   "source": [
    "from CRISPR_functions import get_limits_ancestor_sizes\n",
    "\n",
    "size_lims=get_limits_ancestor_sizes(arrays)\n",
    "size_lims"
   ]
  },
  {
   "cell_type": "markdown",
   "metadata": {},
   "source": [
    "### 2.2: Generate all possible ancestors for a pair within the size limits"
   ]
  },
  {
   "cell_type": "code",
   "execution_count": 46,
   "metadata": {},
   "outputs": [
    {
     "name": "stdout",
     "output_type": "stream",
     "text": [
      "([9, 2, 3, 4, 5], [0, 1, 2, 3, 7, 8])\n",
      " The function get_combi outputs a dictionary of all the possible combinations of spacers categories and their corresponding adjusted (per ancestor length) weights. \n",
      "        {c-i-j-u:ws} with:\n",
      "        c number of spacers in common (spacers necessarily present in ancerstor), \n",
      "        i number of ancestral spacers amongst the spacers only present in array1, \n",
      "        j number of ancestral spacers amongt these only present in array2,\n",
      "        u number of ancestral spacers lost in both array1 and array2,\n",
      "        ws weight of each putative ancestral array from this combi.\n",
      "        l1 (min ancestor length) and l2 (max ancestor length) have to be provided\n",
      "        n length of ancestral array = sum(c,i,j,u) \n",
      "6-0-0-0 : 1.0\n",
      "6-0-0-1 : 0.7777777777777777777777777777777777777777777777777777777777777777777777777777777777777777777777777778\n",
      "6-0-1-0 : 0.1111111111111111111111111111111111111111111111111111111111111111111111111111111111111111111111111111\n",
      "6-1-0-0 : 0.1111111111111111111111111111111111111111111111111111111111111111111111111111111111111111111111111111\n",
      "6-0-0-2 : 0.5957446808510638297872340425531914893617021276595744680851063829787234042553191489361702127659574468\n",
      "6-0-1-1 : 0.1702127659574468085106382978723404255319148936170212765957446808510638297872340425531914893617021277\n",
      "6-0-2-0 : 0.02127659574468085106382978723404255319148936170212765957446808510638297872340425531914893617021276596\n",
      "6-1-0-1 : 0.1702127659574468085106382978723404255319148936170212765957446808510638297872340425531914893617021277\n",
      "6-1-1-0 : 0.04255319148936170212765957446808510638297872340425531914893617021276595744680851063829787234042553191\n",
      "6-0-0-3 : 0.4516129032258064516129032258064516129032258064516129032258064516129032258064516129032258064516129032\n",
      "6-0-1-2 : 0.1935483870967741935483870967741935483870967741935483870967741935483870967741935483870967741935483871\n",
      "6-0-2-1 : 0.04838709677419354838709677419354838709677419354838709677419354838709677419354838709677419354838709677\n",
      "6-1-0-2 : 0.1935483870967741935483870967741935483870967741935483870967741935483870967741935483870967741935483871\n",
      "6-1-1-1 : 0.09677419354838709677419354838709677419354838709677419354838709677419354838709677419354838709677419355\n",
      "6-1-2-0 : 0.01612903225806451612903225806451612903225806451612903225806451612903225806451612903225806451612903226\n",
      "6-0-0-4 : 0.3414634146341463414634146341463414634146341463414634146341463414634146341463414634146341463414634146\n",
      "6-0-1-3 : 0.1951219512195121951219512195121951219512195121951219512195121951219512195121951219512195121951219512\n",
      "6-0-2-2 : 0.07317073170731707317073170731707317073170731707317073170731707317073170731707317073170731707317073171\n",
      "6-1-0-3 : 0.1951219512195121951219512195121951219512195121951219512195121951219512195121951219512195121951219512\n",
      "6-1-1-2 : 0.1463414634146341463414634146341463414634146341463414634146341463414634146341463414634146341463414634\n",
      "6-1-2-1 : 0.0487804878048780487804878048780487804878048780487804878048780487804878048780487804878048780487804878\n",
      "6-0-0-5 : 0.2592592592592592592592592592592592592592592592592592592592592592592592592592592592592592592592592593\n",
      "6-0-1-4 : 0.1851851851851851851851851851851851851851851851851851851851851851851851851851851851851851851851851852\n",
      "6-0-2-3 : 0.09259259259259259259259259259259259259259259259259259259259259259259259259259259259259259259259259259\n",
      "6-1-0-4 : 0.1851851851851851851851851851851851851851851851851851851851851851851851851851851851851851851851851852\n",
      "6-1-1-3 : 0.1851851851851851851851851851851851851851851851851851851851851851851851851851851851851851851851851852\n",
      "6-1-2-2 : 0.09259259259259259259259259259259259259259259259259259259259259259259259259259259259259259259259259259\n"
     ]
    }
   ],
   "source": [
    "from CRISPR_functions import CRISPR_pair\n",
    "import importlib\n",
    "importlib.reload(CRISPR_functions) \n",
    "\n",
    "pair=overlapping_arrays[0]\n",
    "s1=pair[0]\n",
    "s2=pair[1]\n",
    "PAIR=CRISPR_pair(s1,s2)\n",
    "print(pair)\n",
    "print(PAIR.get_combi.__doc__)\n",
    "\n",
    "# print(PAIR.get_combi(size_lims))\n",
    "\n",
    "print('\\n'.join([' : '.join([k,str(v)]) for k,v in PAIR.get_combi(size_lims).items()]))"
   ]
  },
  {
   "cell_type": "markdown",
   "metadata": {},
   "source": [
    "# Step 3: For all pairs with overlap ..."
   ]
  },
  {
   "cell_type": "markdown",
   "metadata": {},
   "source": [
    "## 3.1 Estimate the times with fixed ρ. \n",
    "It is possible to iterate through\n",
    "the pairs and estimate their times\n",
    "independently of the other pairs. The\n",
    "estimation of both times is iterated\n",
    "alternatingly until the likelihood has\n",
    "converged."
   ]
  },
  {
   "cell_type": "code",
   "execution_count": 186,
   "metadata": {},
   "outputs": [
    {
     "name": "stdout",
     "output_type": "stream",
     "text": [
      "Provided a set of overlapping arrays and rho, OPTIMIZE_t1t2 finds their best respective divergence times t1,t2 from ancestor to arrays. The output is an array of [t1,t2] of length len(overlapping_arrays)\n",
      "   direc: array([[1., 0.],\n",
      "       [0., 1.]])\n",
      "     fun: array(12.3604557)\n",
      " message: 'Optimization terminated successfully.'\n",
      "    nfev: 44\n",
      "     nit: 2\n",
      "  status: 0\n",
      " success: True\n",
      "       x: array([2.56219271, 2.5618453 ])\n",
      "   direc: array([[1., 0.],\n",
      "       [0., 1.]])\n",
      "     fun: array(20.53228004)\n",
      " message: 'Optimization terminated successfully.'\n",
      "    nfev: 46\n",
      "     nit: 2\n",
      "  status: 0\n",
      " success: True\n",
      "       x: array([4.15804084, 4.17274828])\n",
      "[(2.5621927111282803, 2.5618452989812335), (4.1580408364803265, 4.172748284661945)]\n"
     ]
    }
   ],
   "source": [
    "import CRISPR_functions\n",
    "from CRISPR_functions import OPTIMIZE_t1t2\n",
    "import importlib\n",
    "importlib.reload(CRISPR_functions) \n",
    "rho_init=mpf(sum([len(ar) for ar in arrays])/len([len(ar) for ar in arrays]))\n",
    "\n",
    "print(OPTIMIZE_t1t2.__doc__)\n",
    "t1t2_list=OPTIMIZE_t1t2(overlapping_arrays, rho_init, size_lims)\n",
    "print(t1t2_list)"
   ]
  },
  {
   "cell_type": "markdown",
   "metadata": {},
   "source": [
    "## 3.2 Estimate ρ with fixed times using L(ρ|t, S)."
   ]
  },
  {
   "cell_type": "code",
   "execution_count": 194,
   "metadata": {},
   "outputs": [
    {
     "name": "stdout",
     "output_type": "stream",
     "text": [
      "(0, 11)\n",
      "      fun: array([48.256548953672066], dtype=object)\n",
      " hess_inv: <1x1 LbfgsInvHessProduct with dtype=float64>\n",
      "      jac: array([-6.45752738e-06])\n",
      "  message: b'CONVERGENCE: NORM_OF_PROJECTED_GRADIENT_<=_PGTOL'\n",
      "     nfev: 16\n",
      "      nit: 7\n",
      "   status: 0\n",
      "  success: True\n",
      "        x: array([4.986651])\n"
     ]
    },
    {
     "data": {
      "text/plain": [
       "4.98665099593269"
      ]
     },
     "execution_count": 194,
     "metadata": {},
     "output_type": "execute_result"
    }
   ],
   "source": [
    "import CRISPR_functions\n",
    "from CRISPR_functions import CRISPR_pair,OPTIMIZE_rho\n",
    "import importlib\n",
    "importlib.reload(CRISPR_functions) \n",
    "\n",
    "size_lims=(0,11)\n",
    "pair_list=[CRISPR_pair(pair[0],pair[1]) for pair in overlapping_arrays]\n",
    "non_overlapping_arrays=[pair for pair in list(itertools.combinations(arrays,2)) if is_overlapping(pair[0],pair[1])==0]\n",
    "print(size_lims)\n",
    "OPTIMIZE_rho(t1t2_list,pair_list,size_lims,non_overlapping_arrays)"
   ]
  },
  {
   "cell_type": "code",
   "execution_count": null,
   "metadata": {},
   "outputs": [],
   "source": []
  },
  {
   "cell_type": "markdown",
   "metadata": {},
   "source": [
    "## 3.3 Check if the log-likelihood of the estimated parameters has converged,\n",
    "then return the\n",
    "estimated parameters, else repeat step 3.1\n",
    "with the new parameters."
   ]
  },
  {
   "cell_type": "code",
   "execution_count": null,
   "metadata": {},
   "outputs": [],
   "source": []
  }
 ],
 "metadata": {
  "kernelspec": {
   "display_name": "Python 3",
   "language": "python",
   "name": "python3"
  },
  "language_info": {
   "codemirror_mode": {
    "name": "ipython",
    "version": 3
   },
   "file_extension": ".py",
   "mimetype": "text/x-python",
   "name": "python",
   "nbconvert_exporter": "python",
   "pygments_lexer": "ipython3",
   "version": "3.6.10"
  }
 },
 "nbformat": 4,
 "nbformat_minor": 2
}

{
 "cells": [
  {
   "cell_type": "markdown",
   "metadata": {},
   "source": [
    "# Step 1: Estimate a starting ρ from the length model by maximum likelihood."
   ]
  },
  {
   "cell_type": "markdown",
   "metadata": {},
   "source": [
    "The independent loss length model is a\n",
    "Markov process known as an M/M/∞ queuing model\n",
    "[28] (Figure 2A). In this queuing model, customers\n",
    "(i.e., spacers) arrive according to a Poisson process with\n",
    "rate λ. They are immediately served and exit after an\n",
    "exponential waiting time with rate μ. The stationary distribution\n",
    "of the number of busy servers (i.e., the number\n",
    "of spacers in the array), is a Poisson distribution with\n",
    "rate ρ:\n",
    "\n",
    "ro = $$\\rho = \\frac{\\lambda}{\\mu}$$\n",
    "with $\\lambda$ = spacer insertion rate, $\\mu$ = spacer_deletion_rate\n",
    "\n",
    "prob_n_given_ro = $$p(n|\\rho) = e^{-\\rho} \\frac{\\rho^n}{n!}$$"
   ]
  },
  {
   "cell_type": "markdown",
   "metadata": {},
   "source": [
    "## ML of $p(n|\\rho)$ is the mean length of arrays"
   ]
  },
  {
   "cell_type": "code",
   "execution_count": 286,
   "metadata": {},
   "outputs": [
    {
     "data": {
      "text/plain": [
       "4.5"
      ]
     },
     "execution_count": 286,
     "metadata": {},
     "output_type": "execute_result"
    }
   ],
   "source": [
    "import numpy as np\n",
    "from mpmath import *\n",
    "mp.dps = 100; mp.pretty = True\n",
    "\n",
    "arrays=[[9,2,3,4,5],[0,1,2,3,7,8],[1,10,11,12,13],[13,14]]\n",
    "# arrays=[[9,2,3,4,5],[0,1,2,3,7,8],[1,10,11,12,13]]\n",
    "\n",
    "\n",
    "rho_init=mpf(sum([len(ar) for ar in arrays])/len([len(ar) for ar in arrays]))\n",
    "\n",
    "rho_init"
   ]
  },
  {
   "cell_type": "markdown",
   "metadata": {},
   "source": [
    "# Step 2: For each pair of spacers with overlap, generate the possible ancestors (doesnt need to actually generate the arrays)"
   ]
  },
  {
   "cell_type": "markdown",
   "metadata": {},
   "source": [
    "Ancestral arrays can be arbitrarily\n",
    "    large, but the probability of observing a certain\n",
    "    length is given by p(n). For practical reasons we do\n",
    "    not consider ancestors whose length is outside the\n",
    "    central 99% of the stationary distribution given by ρ\n",
    "    estimated in step 1, since they would have a\n",
    "    negligible contribution to the likelihood. In detail, the\n",
    "    length l1 where the cumulative distribution exceeds\n",
    "    0.005 is the minimum ancestor length and the length\n",
    "    l2 where the cumulative distribution exceeds 0.995 is\n",
    "    the maximum ancestor length. Then the possible\n",
    "    ancestor lengths n are between l1 and l2: l1 ≤ n ≤ l2."
   ]
  },
  {
   "cell_type": "markdown",
   "metadata": {},
   "source": [
    "### 2.1: Find pairs of spacers that overlap"
   ]
  },
  {
   "cell_type": "code",
   "execution_count": 44,
   "metadata": {},
   "outputs": [
    {
     "data": {
      "text/plain": [
       "[([9, 2, 3, 4, 5], [0, 1, 2, 3, 7, 8]),\n",
       " ([0, 1, 2, 3, 7, 8], [1, 10, 11, 12, 13])]"
      ]
     },
     "execution_count": 44,
     "metadata": {},
     "output_type": "execute_result"
    }
   ],
   "source": [
    "from CRISPR_functions import is_overlapping\n",
    "import itertools\n",
    "from itertools import combinations\n",
    "\n",
    "arrays=[[9,2,3,4,5],[0,1,2,3,7,8],[1,10,11,12,13],[14,15]]\n",
    "\n",
    "overlapping_arrays=[pair for pair in list(itertools.combinations(arrays,2)) if is_overlapping(pair[0],pair[1])==1]\n",
    "\n",
    "overlapping_arrays"
   ]
  },
  {
   "cell_type": "markdown",
   "metadata": {},
   "source": [
    "### 2.1: Find ancestor array size limits to exclude arrays outside of the 99% length distribution"
   ]
  },
  {
   "cell_type": "code",
   "execution_count": 45,
   "metadata": {},
   "outputs": [
    {
     "data": {
      "text/plain": [
       "(0, 11)"
      ]
     },
     "execution_count": 45,
     "metadata": {},
     "output_type": "execute_result"
    }
   ],
   "source": [
    "from CRISPR_functions import get_limits_ancestor_sizes\n",
    "\n",
    "size_lims=get_limits_ancestor_sizes(arrays)\n",
    "size_lims"
   ]
  },
  {
   "cell_type": "markdown",
   "metadata": {},
   "source": [
    "### 2.2: Generate all possible ancestors for a pair within the size limits"
   ]
  },
  {
   "cell_type": "code",
   "execution_count": 46,
   "metadata": {},
   "outputs": [
    {
     "name": "stdout",
     "output_type": "stream",
     "text": [
      "([9, 2, 3, 4, 5], [0, 1, 2, 3, 7, 8])\n",
      " The function get_combi outputs a dictionary of all the possible combinations of spacers categories and their corresponding adjusted (per ancestor length) weights. \n",
      "        {c-i-j-u:ws} with:\n",
      "        c number of spacers in common (spacers necessarily present in ancerstor), \n",
      "        i number of ancestral spacers amongst the spacers only present in array1, \n",
      "        j number of ancestral spacers amongt these only present in array2,\n",
      "        u number of ancestral spacers lost in both array1 and array2,\n",
      "        ws weight of each putative ancestral array from this combi.\n",
      "        l1 (min ancestor length) and l2 (max ancestor length) have to be provided\n",
      "        n length of ancestral array = sum(c,i,j,u) \n",
      "6-0-0-0 : 1.0\n",
      "6-0-0-1 : 0.7777777777777777777777777777777777777777777777777777777777777777777777777777777777777777777777777778\n",
      "6-0-1-0 : 0.1111111111111111111111111111111111111111111111111111111111111111111111111111111111111111111111111111\n",
      "6-1-0-0 : 0.1111111111111111111111111111111111111111111111111111111111111111111111111111111111111111111111111111\n",
      "6-0-0-2 : 0.5957446808510638297872340425531914893617021276595744680851063829787234042553191489361702127659574468\n",
      "6-0-1-1 : 0.1702127659574468085106382978723404255319148936170212765957446808510638297872340425531914893617021277\n",
      "6-0-2-0 : 0.02127659574468085106382978723404255319148936170212765957446808510638297872340425531914893617021276596\n",
      "6-1-0-1 : 0.1702127659574468085106382978723404255319148936170212765957446808510638297872340425531914893617021277\n",
      "6-1-1-0 : 0.04255319148936170212765957446808510638297872340425531914893617021276595744680851063829787234042553191\n",
      "6-0-0-3 : 0.4516129032258064516129032258064516129032258064516129032258064516129032258064516129032258064516129032\n",
      "6-0-1-2 : 0.1935483870967741935483870967741935483870967741935483870967741935483870967741935483870967741935483871\n",
      "6-0-2-1 : 0.04838709677419354838709677419354838709677419354838709677419354838709677419354838709677419354838709677\n",
      "6-1-0-2 : 0.1935483870967741935483870967741935483870967741935483870967741935483870967741935483870967741935483871\n",
      "6-1-1-1 : 0.09677419354838709677419354838709677419354838709677419354838709677419354838709677419354838709677419355\n",
      "6-1-2-0 : 0.01612903225806451612903225806451612903225806451612903225806451612903225806451612903225806451612903226\n",
      "6-0-0-4 : 0.3414634146341463414634146341463414634146341463414634146341463414634146341463414634146341463414634146\n",
      "6-0-1-3 : 0.1951219512195121951219512195121951219512195121951219512195121951219512195121951219512195121951219512\n",
      "6-0-2-2 : 0.07317073170731707317073170731707317073170731707317073170731707317073170731707317073170731707317073171\n",
      "6-1-0-3 : 0.1951219512195121951219512195121951219512195121951219512195121951219512195121951219512195121951219512\n",
      "6-1-1-2 : 0.1463414634146341463414634146341463414634146341463414634146341463414634146341463414634146341463414634\n",
      "6-1-2-1 : 0.0487804878048780487804878048780487804878048780487804878048780487804878048780487804878048780487804878\n",
      "6-0-0-5 : 0.2592592592592592592592592592592592592592592592592592592592592592592592592592592592592592592592592593\n",
      "6-0-1-4 : 0.1851851851851851851851851851851851851851851851851851851851851851851851851851851851851851851851851852\n",
      "6-0-2-3 : 0.09259259259259259259259259259259259259259259259259259259259259259259259259259259259259259259259259259\n",
      "6-1-0-4 : 0.1851851851851851851851851851851851851851851851851851851851851851851851851851851851851851851851851852\n",
      "6-1-1-3 : 0.1851851851851851851851851851851851851851851851851851851851851851851851851851851851851851851851851852\n",
      "6-1-2-2 : 0.09259259259259259259259259259259259259259259259259259259259259259259259259259259259259259259259259259\n"
     ]
    }
   ],
   "source": [
    "from CRISPR_functions import CRISPR_pair\n",
    "import importlib\n",
    "importlib.reload(CRISPR_functions) \n",
    "\n",
    "pair=overlapping_arrays[0]\n",
    "s1=pair[0]\n",
    "s2=pair[1]\n",
    "PAIR=CRISPR_pair(s1,s2)\n",
    "print(pair)\n",
    "print(PAIR.get_combi.__doc__)\n",
    "\n",
    "# print(PAIR.get_combi(size_lims))\n",
    "\n",
    "print('\\n'.join([' : '.join([k,str(v)]) for k,v in PAIR.get_combi(size_lims).items()]))"
   ]
  },
  {
   "cell_type": "markdown",
   "metadata": {},
   "source": [
    "# Step 3: For all pairs with overlap ..."
   ]
  },
  {
   "cell_type": "markdown",
   "metadata": {},
   "source": [
    "## 3.1 Estimate the times with fixed ρ. \n",
    "It is possible to iterate through\n",
    "the pairs and estimate their times\n",
    "independently of the other pairs. The\n",
    "estimation of both times is iterated\n",
    "alternatingly until the likelihood has\n",
    "converged."
   ]
  },
  {
   "cell_type": "code",
   "execution_count": 282,
   "metadata": {},
   "outputs": [
    {
     "name": "stdout",
     "output_type": "stream",
     "text": [
      "4.5\n",
      "Provided a set of overlapping arrays and rho, OPTIMIZE_t1t2 finds their best respective divergence times t1,t2 from ancestor to arrays. The output is an array of [t1,t2] of length len(overlapping_arrays)\n",
      "[(2.562247762846972, 2.561870317220544), (4.15797174241843, 4.1727451210474085)]\n"
     ]
    }
   ],
   "source": [
    "import CRISPR_functions\n",
    "from CRISPR_functions import OPTIMIZE_t1t2\n",
    "import importlib\n",
    "importlib.reload(CRISPR_functions) \n",
    "rho_init=mpf(sum([len(ar) for ar in arrays])/len([len(ar) for ar in arrays]))\n",
    "print(rho_init)\n",
    "size_lims=get_limits_ancestor_sizes(arrays)\n",
    "\n",
    "print(OPTIMIZE_t1t2.__doc__)\n",
    "t1t2_list=OPTIMIZE_t1t2(overlapping_arrays, rho_init, size_lims)\n",
    "print(t1t2_list)"
   ]
  },
  {
   "cell_type": "markdown",
   "metadata": {},
   "source": [
    "## 3.2 Estimate ρ with fixed times using L(ρ|t, S)."
   ]
  },
  {
   "cell_type": "code",
   "execution_count": 283,
   "metadata": {},
   "outputs": [
    {
     "name": "stdout",
     "output_type": "stream",
     "text": [
      "(0, 11)\n",
      "[4.98664945]\n",
      "[48.2565508224993]\n"
     ]
    }
   ],
   "source": [
    "import CRISPR_functions\n",
    "from CRISPR_functions import CRISPR_pair,OPTIMIZE_rho\n",
    "import importlib\n",
    "importlib.reload(CRISPR_functions) \n",
    "\n",
    "# size_lims=get_limits_ancestor_sizes(arrays)\n",
    "pair_list=[CRISPR_pair(pair[0],pair[1]) for pair in overlapping_arrays]\n",
    "non_overlapping_arrays=[pair for pair in list(itertools.combinations(arrays,2)) if is_overlapping(pair[0],pair[1])==0]\n",
    "print(size_lims)\n",
    "(rho_update, neg_LL_update) = OPTIMIZE_rho(t1t2_list,pair_list,size_lims,non_overlapping_arrays)\n",
    "print(rho_update)\n",
    "print(neg_LL_update)"
   ]
  },
  {
   "cell_type": "markdown",
   "metadata": {},
   "source": [
    "## 3.3 Check if the log-likelihood of the estimated parameters has converged,\n",
    "then return the\n",
    "estimated parameters, else repeat step 3.1\n",
    "with the new parameters."
   ]
  },
  {
   "cell_type": "code",
   "execution_count": 284,
   "metadata": {},
   "outputs": [
    {
     "name": "stdout",
     "output_type": "stream",
     "text": [
      "inf 48.22557486609799\n",
      "48.22557486609799 48.22534998793841\n",
      "48.22534998793841 48.22534832512889\n",
      "48.22534832512889 48.225348312559355\n",
      "48.225348312559355 48.22534831244816\n",
      "48.22534831244816 48.22534831244487\n",
      "48.22534831244487 48.22534831244592\n"
     ]
    }
   ],
   "source": [
    "Init_LL=[np.inf]\n",
    "i=0\n",
    "step_list=[0]\n",
    "rho_list=[rho_update]\n",
    "convergence='False'\n",
    "while convergence=='False':\n",
    "    i+=1\n",
    "    step_list+=[i]\n",
    "    previous_LL=Init_LL[-1]\n",
    "    t1t2_list=OPTIMIZE_t1t2(overlapping_arrays, rho_update, size_lims)\n",
    "    OPTIMIZE_rho(t1t2_list,pair_list,size_lims,non_overlapping_arrays)\n",
    "    (rho_update, neg_LL_update) = OPTIMIZE_rho(t1t2_list,pair_list,size_lims,non_overlapping_arrays)\n",
    "    Init_LL+=[neg_LL_update[0]]\n",
    "    rho_list+=[rho_update]\n",
    "    \n",
    "    print(previous_LL,neg_LL_update[0])\n",
    "    if neg_LL_update[0]>previous_LL:\n",
    "        convergence='True'\n",
    "    "
   ]
  },
  {
   "cell_type": "code",
   "execution_count": 285,
   "metadata": {},
   "outputs": [
    {
     "data": {
      "image/png": "[encoded data removed]",
      "text/plain": [
       "<Figure size 720x360 with 4 Axes>"
      ]
     },
     "metadata": {
      "needs_background": "light"
     },
     "output_type": "display_data"
    }
   ],
   "source": [
    "import matplotlib.pyplot as plt\n",
    "\n",
    "\n",
    "fig,axarr = plt.subplots(2,2,figsize=(10,5))\n",
    "fig.subplots_adjust(wspace=0.4,hspace=0.4)\n",
    "axarr = axarr.flatten()\n",
    "\n",
    "\n",
    "ax = axarr[0]\n",
    "X=step_list\n",
    "Y = Init_LL\n",
    "ax.plot(X, Y)\n",
    "ax.set_xlabel('Iteration',fontsize=18)\n",
    "ax.set_ylabel('-LL',fontsize=18)\n",
    "\n",
    "\n",
    "ax = axarr[1]\n",
    "X=step_list\n",
    "Y = rho_list\n",
    "ax.plot(X, Y)\n",
    "ax.set_ylabel('Rho',fontsize=18)\n",
    "\n",
    "\n",
    "ax = axarr[2]\n",
    "X=step_list\n",
    "Y = Init_LL\n",
    "ax.plot(X, Y)\n",
    "ax.set_ylabel('-LL',fontsize=18)\n",
    "ax.set_yscale(\"log\")\n",
    "\n",
    "\n",
    "ax = axarr[3]\n",
    "X=step_list\n",
    "Y = rho_list\n",
    "ax.semilogy(X, Y)\n",
    "ax.set_ylabel('Rho',fontsize=18)\n",
    "#ax.set_yscale(\"log\")\n",
    "plt.show()"
   ]
  },
  {
   "cell_type": "markdown",
   "metadata": {},
   "source": [
    "# ALL TOGETHER : Find Optimum distances\n",
    "\n",
    "This function is not yet implemented in CRISPR_functions, I will probably create a class for array list. But before, I want to parallelize it"
   ]
  },
  {
   "cell_type": "code",
   "execution_count": 57,
   "metadata": {},
   "outputs": [
    {
     "name": "stdout",
     "output_type": "stream",
     "text": [
      "10\n",
      "[['5', '170', '999', '998', '997', '22', '79', '161', '174', '179', '37', '47', '440', '184', '55', '58', '295'], ['5', '170', '999', '998', '997', '22', '79', '161', '174', '179', '440', '184', '55', '58', '295'], ['5', '170', '161', '174', '179', '37', '47', '440', '184', '55', '58', '295'], ['5', '170', '161', '174', '179', '37', '440', '184', '55', '58', '295'], ['5', '170', '161', '174', '179', '37', '47', '184', '55', '58', '295'], ['5', '170', '161', '174', '179', '37', '47', '440', '184', '58', '295'], ['5', '170', '174', '179', '37', '47', '440', '184', '55', '295'], ['5', '170', '161', '174', '179', '37', '47', '440', '184', '55', '295'], ['5', '170', '161', '174', '179', '47', '440', '184', '55', '295'], ['5', '170', '161', '184', '55', '295']]\n"
     ]
    }
   ],
   "source": [
    "#f=open('arrays_with_at_least_5_reads_in_whole_dataset.txt','r')\n",
    "#f=open('arrays_with_at_least_50_reads_in_whole_dataset.txt','r')\n",
    "f=open('arrays_with_at_least_5percent_in_reads.txt','r')\n",
    "lines=f.read().splitlines()\n",
    "lines=[line.split('\\t')[2] for line in lines]\n",
    "f.close()\n",
    "myarrays=[line.split(',') for line in lines]\n",
    "print(len(myarrays))\n",
    "print(myarrays)\n",
    "\n"
   ]
  },
  {
   "cell_type": "code",
   "execution_count": 58,
   "metadata": {},
   "outputs": [
    {
     "name": "stdout",
     "output_type": "stream",
     "text": [
      "time to finish first step 18.227087020874023 seconds\n",
      "iteration 1...\n",
      "iteration 2...\n",
      "iteration 3...\n",
      "iteration 4...\n",
      "iteration 5...\n",
      "iteration 6...\n",
      "iteration 7...\n",
      "iteration 8...\n",
      "time to completion 188.5966739654541 seconds\n"
     ]
    }
   ],
   "source": [
    "import time\n",
    "from mpmath import mpf\n",
    "import itertools\n",
    "from itertools import combinations\n",
    "import numpy as np\n",
    "import CRISPR_functions\n",
    "from CRISPR_functions import get_limits_ancestor_sizes,CRISPR_pair, OPTIMIZE_rho,OPTIMIZE_t1t2,is_overlapping\n",
    "import importlib\n",
    "importlib.reload(CRISPR_functions)\n",
    "\n",
    "def find_optimum_rho_and_distances_ordered_model(arrays):\n",
    "    '''\n",
    "    Given a list of arrays as input, optimize rho and t for the ordered model\n",
    "    \n",
    "    Output:dictionnary of pairs and their respecive distances, rho\n",
    "    \n",
    "    \n",
    "    '''\n",
    "    \n",
    "    overlapping_arrays=[pair for pair in list(itertools.combinations(arrays,2)) if is_overlapping(pair[0],pair[1])==1]\n",
    "\n",
    "    ## first step\n",
    "    rho_init=mpf(sum([len(ar) for ar in arrays])/len([len(ar) for ar in arrays]))\n",
    "    size_lims=get_limits_ancestor_sizes(arrays)\n",
    "    t1t2_list=OPTIMIZE_t1t2(overlapping_arrays, rho_init, size_lims)\n",
    "    pair_list=[CRISPR_pair(pair[0],pair[1]) for pair in overlapping_arrays]\n",
    "    non_overlapping_arrays=[pair for pair in list(itertools.combinations(arrays,2)) if is_overlapping(pair[0],pair[1])==0]\n",
    "    (rho_update, neg_LL_update) = OPTIMIZE_rho(t1t2_list,pair_list,size_lims,non_overlapping_arrays)\n",
    "    print('time to finish first step',time.time()-t0,'seconds')\n",
    "    ## iterate\n",
    "    Init_LL=[np.inf]\n",
    "    i=0\n",
    "    step_list=[0]\n",
    "    rho_list=[rho_update]\n",
    "    convergence='False'\n",
    "    while convergence=='False':\n",
    "        i+=1\n",
    "        print('iteration '+str(i)+'...')\n",
    "        step_list+=[i]\n",
    "        previous_LL=Init_LL[-1]\n",
    "        t1t2_list=OPTIMIZE_t1t2(overlapping_arrays, rho_update, size_lims)\n",
    "        OPTIMIZE_rho(t1t2_list,pair_list,size_lims,non_overlapping_arrays)\n",
    "        (rho_update, neg_LL_update) = OPTIMIZE_rho(t1t2_list,pair_list,size_lims,non_overlapping_arrays)\n",
    "        Init_LL+=[neg_LL_update[0]]\n",
    "        rho_list+=[rho_update]\n",
    "        if neg_LL_update[0]>previous_LL:\n",
    "            convergence='True'\n",
    "    final_dist=dict(zip(pair_list,t1t2_list))\n",
    "    return(final_dist,rho_list[-1:])\n",
    "\n",
    "#arrays=[[9,2,3,4,5],[0,1,2,3,7,8],[1,10,11,12,13],[13,14]]\n",
    "arrays=myarrays\n",
    "t0 = time.time()\n",
    "\n",
    "final_dist,rho=find_optimum_rho_and_distances_ordered_model(arrays)\n",
    "\n",
    "print('time to completion',time.time()-t0,'seconds')"
   ]
  },
  {
   "cell_type": "markdown",
   "metadata": {},
   "source": [
    "# Get phylogeny from CRISPR distances\n",
    "\n",
    "I think I calculate the weights wrong... Should try a simulated dataset"
   ]
  },
  {
   "cell_type": "code",
   "execution_count": 107,
   "metadata": {},
   "outputs": [
    {
     "name": "stdout",
     "output_type": "stream",
     "text": [
      "{0: '5-170-999-998-997-22-79-161-174-179-37-47-440-184-55-58-295', 1: '5-170-999-998-997-22-79-161-174-179-440-184-55-58-295', 2: '5-170-161-174-179-37-47-440-184-55-58-295', 3: '5-170-161-174-179-37-440-184-55-58-295', 4: '5-170-161-174-179-37-47-184-55-58-295', 5: '5-170-161-174-179-37-47-440-184-58-295', 6: '5-170-174-179-37-47-440-184-55-295', 7: '5-170-161-174-179-37-47-440-184-55-295', 8: '5-170-161-174-179-47-440-184-55-295', 9: '5-170-161-184-55-295', '5-170-999-998-997-22-79-161-174-179-37-47-440-184-55-58-295': 0, '5-170-999-998-997-22-79-161-174-179-440-184-55-58-295': 1, '5-170-161-174-179-37-47-440-184-55-58-295': 2, '5-170-161-174-179-37-440-184-55-58-295': 3, '5-170-161-174-179-37-47-184-55-58-295': 4, '5-170-161-174-179-37-47-440-184-58-295': 5, '5-170-174-179-37-47-440-184-55-295': 6, '5-170-161-174-179-37-47-440-184-55-295': 7, '5-170-161-174-179-47-440-184-55-295': 8, '5-170-161-184-55-295': 9}\n"
     ]
    },
    {
     "data": {
      "image/png": "[encoded data removed]",
      "text/plain": [
       "<Figure size 432x288 with 1 Axes>"
      ]
     },
     "metadata": {
      "needs_background": "light"
     },
     "output_type": "display_data"
    },
    {
     "name": "stdout",
     "output_type": "stream",
     "text": [
      "                                                   0\n",
      "0  5-170-999-998-997-22-79-161-174-179-37-47-440-...\n",
      "1  5-170-999-998-997-22-79-161-174-179-440-184-55...\n",
      "2          5-170-161-174-179-37-47-440-184-55-58-295\n",
      "3             5-170-161-174-179-37-440-184-55-58-295\n",
      "4              5-170-161-174-179-37-47-184-55-58-295\n",
      "5             5-170-161-174-179-37-47-440-184-58-295\n",
      "6                 5-170-174-179-37-47-440-184-55-295\n",
      "7             5-170-161-174-179-37-47-440-184-55-295\n",
      "8                5-170-161-174-179-47-440-184-55-295\n",
      "9                               5-170-161-184-55-295\n"
     ]
    }
   ],
   "source": [
    "import CRISPR_functions\n",
    "from CRISPR_functions import phylogeny_from_CRISPR\n",
    "import pandas as pd\n",
    "from Bio.Phylo import BaseTree,draw_ascii\n",
    "\n",
    "import importlib\n",
    "importlib.reload(CRISPR_functions)\n",
    "\n",
    "#arrays=[[9,2,3,4,5],[0,1,2,3,7,8],[1,10,11,12,13],[13,14]]\n",
    "arrays=myarrays\n",
    "\n",
    "Tree,labels=phylogeny_from_CRISPR(arrays,final_dist)\n",
    "print(labels)\n",
    "# draw_ascii(Tree)\n",
    "Phylo.draw(Tree)\n",
    "#Phylo.write(Tree,'Test_tree.nwk','newick')\n",
    "#Phylo.write(Tree,'Test_mytree.nwk','newick')\n",
    "Phylo.write(Tree,'Test_mytree_main_arrays.nwk','newick')\n",
    "labs=pd.DataFrame.from_dict(labels,orient='index').iloc[:int(len(labels)/2)]\n",
    "print(labs)"
   ]
  },
  {
   "cell_type": "code",
   "execution_count": 94,
   "metadata": {},
   "outputs": [],
   "source": [
    "def get_distance_matrix_from_phylogeny(Tree):\n",
    "    taxa=sorted(map(int,[cl.name for cl in Tree.get_terminals()]))\n",
    "    matrix=pd.DataFrame([],columns=taxa,index=taxa)\n",
    "    for combi in combinations(range(len(taxa)),2):\n",
    "        tgt1=str(combi[0])\n",
    "        tgt2=str(combi[1])\n",
    "        dist=Tree.distance({\"name\": tgt1}, {\"name\": tgt2})\n",
    "        matrix.loc[combi]=dist\n",
    "        matrix.loc[combi[1],combi[0]]=dist\n",
    "    return(matrix)\n",
    "dist=get_distance_matrix_from_phylogeny(Tree)\n",
    "dist.to_csv('arrays_with_at_least_5percent_in_reads.dist',sep='\\t',index=False)\n"
   ]
  },
  {
   "cell_type": "code",
   "execution_count": null,
   "metadata": {},
   "outputs": [],
   "source": []
  }
 ],
 "metadata": {
  "kernelspec": {
   "display_name": "Python 3",
   "language": "python",
   "name": "python3"
  },
  "language_info": {
   "codemirror_mode": {
    "name": "ipython",
    "version": 3
   },
   "file_extension": ".py",
   "mimetype": "text/x-python",
   "name": "python",
   "nbconvert_exporter": "python",
   "pygments_lexer": "ipython3",
   "version": "3.6.10"
  }
 },
 "nbformat": 4,
 "nbformat_minor": 2
}

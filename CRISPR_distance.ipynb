{
 "cells": [
  {
   "cell_type": "markdown",
   "metadata": {},
   "source": [
    "# Step 1: Estimate a starting ρ from the length model by maximum likelihood."
   ]
  },
  {
   "cell_type": "markdown",
   "metadata": {},
   "source": [
    "Independent lossmodels\n",
    "Length model The independent loss length model is a\n",
    "Markov process known as an M/M/∞ queuing model\n",
    "[28] (Figure 2A). In this queuing model, customers\n",
    "(i.e., spacers) arrive according to a Poisson process with\n",
    "rate λ. They are immediately served and exit after an\n",
    "exponential waiting time with rate μ. The stationary distribution\n",
    "of the number of busy servers (i.e., the number\n",
    "of spacers in the array), is a Poisson distribution with\n",
    "rate ρ:\n",
    "\n",
    "ro = $$\\rho = \\frac{\\lambda}{\\mu}$$\n",
    "with $\\lambda$ = spacer insertion rate, $\\mu$ = spacer_deletion_rate\n",
    "\n",
    "prob_n_given_ro = $$p(n|\\rho) = e^{-\\rho} \\frac{\\rho^n}{n!}$$"
   ]
  },
  {
   "cell_type": "markdown",
   "metadata": {},
   "source": [
    "## ML of $p(n|\\rho)$ is the mean length of arrays"
   ]
  },
  {
   "cell_type": "code",
   "execution_count": 1,
   "metadata": {},
   "outputs": [
    {
     "data": {
      "text/plain": [
       "5.333333333333333"
      ]
     },
     "execution_count": 1,
     "metadata": {},
     "output_type": "execute_result"
    }
   ],
   "source": [
    "import numpy as np\n",
    "\n",
    "arrays=[[9,2,3,4,5],[0,1,2,3,7,8],[1,10,11,12,13]]\n",
    "\n",
    "rho_init= np.mean([len(s) for s in arrays])\n",
    "rho_init"
   ]
  },
  {
   "cell_type": "markdown",
   "metadata": {},
   "source": [
    "# Step 2: For each pair of spacers with overlap, generate the possible ancestors (doesnt need to actually generate the arrays)"
   ]
  },
  {
   "cell_type": "markdown",
   "metadata": {},
   "source": [
    "Ancestral arrays can be arbitrarily\n",
    "    large, but the probability of observing a certain\n",
    "    length is given by p(n). For practical reasons we do\n",
    "    not consider ancestors whose length is outside the\n",
    "    central 99% of the stationary distribution given by ρ\n",
    "    estimated in step 1, since they would have a\n",
    "    negligible contribution to the likelihood. In detail, the\n",
    "    length l1 where the cumulative distribution exceeds\n",
    "    0.005 is the minimum ancestor length and the length\n",
    "    l2 where the cumulative distribution exceeds 0.995 is\n",
    "    the maximum ancestor length. Then the possible\n",
    "    ancestor lengths n are between l1 and l2: l1 ≤ n ≤ l2."
   ]
  },
  {
   "cell_type": "markdown",
   "metadata": {},
   "source": [
    "### 2.1: Find pairs of spacers that overlap"
   ]
  },
  {
   "cell_type": "code",
   "execution_count": 9,
   "metadata": {},
   "outputs": [
    {
     "data": {
      "text/plain": [
       "[([9, 2, 3, 4, 5], [0, 1, 2, 3, 7, 8]),\n",
       " ([0, 1, 2, 3, 7, 8], [1, 10, 11, 12, 13])]"
      ]
     },
     "execution_count": 9,
     "metadata": {},
     "output_type": "execute_result"
    }
   ],
   "source": [
    "from CRISPR_functions import is_overlapping\n",
    "import itertools\n",
    "from itertools import combinations\n",
    "\n",
    "arrays=[[9,2,3,4,5],[0,1,2,3,7,8],[1,10,11,12,13]]\n",
    "\n",
    "overlapping_arrays=[pair for pair in list(itertools.combinations(arrays,2)) if is_overlapping(pair[0],pair[1])==1]\n",
    "\n",
    "overlapping_arrays"
   ]
  },
  {
   "cell_type": "markdown",
   "metadata": {},
   "source": [
    "### 2.1: Find ancestor array size limits to exclude arrays outside of the 99% length distribution"
   ]
  },
  {
   "cell_type": "code",
   "execution_count": 3,
   "metadata": {},
   "outputs": [],
   "source": [
    "from CRISPR_functions import get_limits_ancestor_sizes\n",
    "\n",
    "min_ancestor_len, max_ancestor_len=get_limits_ancestor_sizes(arrays)\n"
   ]
  },
  {
   "cell_type": "markdown",
   "metadata": {},
   "source": [
    "### 2.2: Generate all possible ancestors for a pair within the size limits"
   ]
  },
  {
   "cell_type": "code",
   "execution_count": 8,
   "metadata": {},
   "outputs": [
    {
     "name": "stdout",
     "output_type": "stream",
     "text": [
      " The function get_combi outputs a dictionary of all the possible combinations of spacers categories + their weight for each ancestor length. \n",
      "        {n:[[c,i,j,u]],ws} with:\n",
      "        n length of ancestral array, \n",
      "        c number of spacers in common (spacers necessarily present in ancerstor), \n",
      "        i number of ancestral spacers amongst the spacers only present in array1, \n",
      "        j number of ancestral spacers amongt these only present in array 2.\n",
      "        ws weight of each putative ancestral array from this combi\n",
      "        l1 (min ancestor length) and l2 (max ancestor length) have to be provided\n"
     ]
    },
    {
     "data": {
      "text/plain": [
       "[1.0, 9.0, 47.0, 185.99999999999997, 615.0, 1781.9999999999998, 4653.0]"
      ]
     },
     "execution_count": 8,
     "metadata": {},
     "output_type": "execute_result"
    }
   ],
   "source": [
    "from CRISPR_functions import CRISPR_pair\n",
    "\n",
    "pair=overlapping_arrays[0]\n",
    "s1=pair[0]\n",
    "s2=pair[1]\n",
    "PAIR=CRISPR_pair(s1,s2)\n",
    "\n",
    "print(PAIR.get_combi.__doc__)\n",
    "sum([len(val[0]) for val in PAIR.get_combi(min_ancestor_len,max_ancestor_len).values()])\n",
    "[(1/val[1]) for val in PAIR.get_combi(min_ancestor_len,max_ancestor_len).values()]"
   ]
  },
  {
   "cell_type": "code",
   "execution_count": null,
   "metadata": {},
   "outputs": [],
   "source": []
  }
 ],
 "metadata": {
  "kernelspec": {
   "display_name": "Python 3",
   "language": "python",
   "name": "python3"
  },
  "language_info": {
   "codemirror_mode": {
    "name": "ipython",
    "version": 3
   },
   "file_extension": ".py",
   "mimetype": "text/x-python",
   "name": "python",
   "nbconvert_exporter": "python",
   "pygments_lexer": "ipython3",
   "version": "3.6.10"
  }
 },
 "nbformat": 4,
 "nbformat_minor": 2
}

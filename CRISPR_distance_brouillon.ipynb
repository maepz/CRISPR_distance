{
 "cells": [
  {
   "cell_type": "markdown",
   "metadata": {},
   "source": [
    "# Introduction\n",
    "This script should calculate a pairwise distance matrix based on the CRISPR arrays.\n",
    "It is an adaptation of the method in Kupczok and Bollack 2013*\n",
    "\n",
    "*Kupczok, A., and Bollback, J.P. 2013. Probabilistic models for CRISPR spacer content evolution. BMC Evolutionary Biology 13(1): 54. doi:10.1186/1471-2148-13-54.\n"
   ]
  },
  {
   "cell_type": "markdown",
   "metadata": {},
   "source": [
    "## From the paper\n",
    "1. Estimate a starting ρ from the length model by maximum likelihood. \n",
    "2. For each pair of spacers with overlap, generate the\n",
    "    possible ancestors (doesnt need to actually generate the arrays): Ancestral arrays can be arbitrarily\n",
    "    large, but the probability of observing a certain\n",
    "    length is given by p(n). For practical reasons we do\n",
    "    not consider ancestors whose length is outside the\n",
    "    central 99% of the stationary distribution given by ρ\n",
    "    estimated in step 1, since they would have a\n",
    "    negligible contribution to the likelihood. In detail, the\n",
    "    length l1 where the cumulative distribution exceeds\n",
    "    0.005 is the minimum ancestor length and the length\n",
    "    l2 where the cumulative distribution exceeds 0.995 is\n",
    "    the maximum ancestor length. Then the possible\n",
    "    ancestor lengths n are between l1 and l2: l1 ≤ n ≤ l2.\n",
    "3. (a) For all pairs with overlap, estimate the times\n",
    "    with fixed ρ. It is possible to iterate through\n",
    "    the pairs and estimate their times\n",
    "    independently of the other pairs. The\n",
    "    estimation of both times is iterated\n",
    "    alternatingly until the likelihood has\n",
    "    converged.\n",
    "    (b) Estimate ρ with fixed times using L(ρ|t, S).\n",
    "    (c) Check if the log-likelihood of the estimated\n",
    "    parameters has converged, then return the\n",
    "    estimated parameters, else repeat step (a)\n",
    "    with the new parameters."
   ]
  },
  {
   "cell_type": "markdown",
   "metadata": {},
   "source": [
    "## Pseudo code\n",
    "\n",
    "functions:\n",
    "Amongst the spacers, find each pair of spacers with overlap\n",
    "Generate the possible ancestors of a pair\n",
    "Estimate time divergence given fixed p \n",
    "Estimate p given fixed divergence time\n"
   ]
  },
  {
   "cell_type": "markdown",
   "metadata": {},
   "source": [
    "# Find pairs with overlap"
   ]
  },
  {
   "cell_type": "code",
   "execution_count": 161,
   "metadata": {},
   "outputs": [
    {
     "data": {
      "text/plain": [
       "1"
      ]
     },
     "execution_count": 161,
     "metadata": {},
     "output_type": "execute_result"
    }
   ],
   "source": [
    "ancestor=[0,1,2,3,4,5,6,7,8,9,10,11,12,13]\n",
    "arr=[[9,2,3,4,5],[0,1,2,3,7,8],[1,10,11,12,13]]\n",
    "# Deconstruct array into fragments\n",
    "array1=arr[0]\n",
    "array2=arr[1]    \n",
    "\n",
    "def is_overlapping(array1, array2):\n",
    "    for i in array1:\n",
    "        if i in array2:\n",
    "            answer=1\n",
    "            break\n",
    "        else:\n",
    "            answer=0\n",
    "            continue\n",
    "    return(answer)\n",
    "\n",
    "is_overlapping(array1, array2)    "
   ]
  },
  {
   "cell_type": "markdown",
   "metadata": {},
   "source": [
    "# "
   ]
  },
  {
   "cell_type": "markdown",
   "metadata": {},
   "source": [
    "## Ordered model:\n",
    "Given a pair of arrays s1 and s2, find the\n",
    "first shared spacer. The ancestor must contain this spacer\n",
    "and all subsequent spacers from both arrays, these are c\n",
    "spacers in total. There are d1 and d2 spacers before the\n",
    "first shared spacer in s1 and s2, respectively. With these\n",
    "new definitions of c, d1 and d2, the method from the\n",
    "unordered model is applied."
   ]
  },
  {
   "cell_type": "code",
   "execution_count": 1,
   "metadata": {},
   "outputs": [
    {
     "name": "stdout",
     "output_type": "stream",
     "text": [
      "s1 [9, 2, 3, 4, 5]\n",
      "s2 [0, 1, 2, 3, 7, 8]\n",
      "c_spacers [2, 3, 4, 5, 7, 8]\n",
      "d1_spacers [9]\n",
      "d2_spacers [0, 1]\n"
     ]
    }
   ],
   "source": [
    "'''Given a pair of arrays s1 and s2, find the\n",
    "first shared spacer. The ancestor must contain this spacer\n",
    "and all subsequent spacers from both arrays, these are c\n",
    "spacers in total. There are d1 and d2 spacers before the\n",
    "first shared spacer in s1 and s2, respectively. With these\n",
    "new definitions of c, d1 and d2, the method from the\n",
    "unordered model is applied.'''\n",
    "\n",
    "def categorize_spacers_for_ordered_model(s1,s2):\n",
    "    c_spacers=[]\n",
    "    for i in range(len(s1)):\n",
    "        sp=s1[i]\n",
    "        if sp in s2:\n",
    "            j=s2.index(sp)\n",
    "            c_spacers=s2[j:]+s1[i:]\n",
    "            d1_spacers=s1[:i]\n",
    "            d2_spacers=s2[:j]\n",
    "            break\n",
    "    return(list(set(c_spacers)),d1_spacers,d2_spacers)\n",
    "\n",
    "arr=[[9,2,3,4,5],[0,1,2,3,7,8],[1,10,11,12,13]]\n",
    "s1=arr[0]\n",
    "s2=arr[1]\n",
    "print('s1',s1)\n",
    "print('s2',s2)\n",
    "#first spaer of shorter array\n",
    "\n",
    "c_spacers, d1_spacers, d2_spacers = categorize_spacers_for_ordered_model(s1,s2)           \n",
    "print('c_spacers',c_spacers)\n",
    "print('d1_spacers',d1_spacers)\n",
    "print('d2_spacers',d2_spacers)"
   ]
  },
  {
   "cell_type": "markdown",
   "metadata": {},
   "source": [
    "Then all n between min(c, l1) and l2 are generated.\n",
    "When length n is generated, enumerate all i, j, u\n",
    "such that c + i + j + u = n, i ≤ d1 and j ≤ d2. Then for\n",
    "ancestor a, there are c common spacers, i only occur in s1, j\n",
    "only occur in s2 and u are unobserved (they are lost in both\n",
    "lineages)."
   ]
  },
  {
   "cell_type": "markdown",
   "metadata": {},
   "source": [
    "# Independent loss models : Length model\n",
    "ro = $$\\rho = \\frac{\\lambda}{\\mu}$$\n",
    "with $\\lambda$ = spacer insertion rate, $\\mu$ = spacer_deletion_rate\n",
    "\n",
    "prob_n_given_ro = $$p(n|\\rho) = e^{-\\rho} \\frac{\\rho^n}{n!}$$"
   ]
  },
  {
   "cell_type": "code",
   "execution_count": null,
   "metadata": {},
   "outputs": [],
   "source": [
    "import numpy as np\n",
    "\n",
    "lbda=1\n",
    "mu=2\n",
    "n=2\n",
    "\n",
    "def rho(lbda,mu):\n",
    "    return(lbda/mu)\n",
    "def prob_n_given_ro(n,rho):\n",
    "    return((np.e**-rho)*(rho**n/np.math.factorial(n))) "
   ]
  },
  {
   "cell_type": "code",
   "execution_count": null,
   "metadata": {},
   "outputs": [],
   "source": [
    "import numpy as np\n",
    "import pandas as pd\n",
    "\n",
    "rho=0.2\n",
    "N = 100\n",
    "x = map(int,np.linspace(0,20,N))\n",
    "ϵ = np.random.normal(loc = 0.0, scale = 5.0, size = N)\n",
    "y = [prob_n_given_ro(n,rho) for n in x]\n",
    "\n",
    "df = pd.DataFrame({'y':y, 'x':x})\n",
    "df[:5]"
   ]
  },
  {
   "cell_type": "code",
   "execution_count": 2,
   "metadata": {},
   "outputs": [
    {
     "name": "stdout",
     "output_type": "stream",
     "text": [
      "36.0\n",
      "36\n"
     ]
    }
   ],
   "source": [
    "#### define combi class ####\n",
    "class combi:\n",
    "    \n",
    "    \"\"\"The combi object is a list of integers [c,i,j,u] that represent all putative ancestors given the following parameters:\n",
    "    c = number of c_spacers; spacers necessarily present in the ancestor of two CRISPR arrays,\n",
    "    i = number of putative ancestral spacers amongst the spacers only present in array1,\n",
    "    j = number of putative ancestral spacers amongt these only present in array 2,\n",
    "    u = number of putative spacers present in ancestor but lost in both arrays\n",
    "    \n",
    "    the lengths of the putative ancestral arrays n = sum([c,i,j,u])\"\"\"\n",
    "    \n",
    "    def __init__(self,list):\n",
    "        from CRISPR_functions import nCr\n",
    "\n",
    "        self.c = list[0]\n",
    "        self.i = list[1]\n",
    "        self.j = list[2]\n",
    "        self.u = list[3]\n",
    "        self.n = sum(list)\n",
    "        possible_positions_of_u = nCr(self.n,self.u)\n",
    "        possible_combinations_of_d1_and_d2 = nCr(self.i+self.j,self.i)\n",
    "        possible_combinations_of_cspacers_with_loss= 0\n",
    "        \n",
    "        self.array_counts=possible_positions_of_u*possible_combinations_of_d1_and_d2 # to get the number of putative ancestors\n",
    "        \n",
    "    def get_arrays(self,c_spacers,d1_spacers,d2_spacers): # to get the list of all possible arrays        \n",
    "        array_list2=[]\n",
    "        def merge_lists(lst1,lst2):\n",
    "            import itertools\n",
    "            array_list=[]\n",
    "            for locations in itertools.combinations(range(len(lst1) + len(lst2)), len(lst2)):\n",
    "                result = lst1[:]\n",
    "                for location, element in zip(locations, lst2):\n",
    "                    result.insert(location, element)\n",
    "                new_list=result\n",
    "                array_list+=[new_list]\n",
    "            return(array_list)\n",
    "        \n",
    "        d1_good=d1_spacers[len(d1_spacers)-self.i:]\n",
    "        d2_good=d2_spacers[len(d2_spacers)-self.j:]\n",
    "        u_good=self.u*['u']\n",
    "        c_spacers=c_spacers\n",
    "        if self.u>0:\n",
    "            for array in merge_lists(d1_good,d2_good):\n",
    "                array_list2+=merge_lists(u_good,array+c_spacers)\n",
    "        else:\n",
    "            array_list2=[array+c_spacers for array in merge_lists(d1_good,d2_good)]\n",
    "        return(array_list2)\n",
    "        \n",
    "# print(combi([6, 0, 2, 1]).c)\n",
    "print(combi([6, 1, 0, 2]).array_counts)\n",
    "print(len(combi([6, 1, 0, 2]).get_arrays(c_spacers,d1_spacers,d2_spacers)))\n",
    "# combi([6, 1, 0, 2]).get_arrays(c_spacers,d1_spacers,d2_spacers)\n"
   ]
  },
  {
   "cell_type": "code",
   "execution_count": 4,
   "metadata": {},
   "outputs": [
    {
     "name": "stdout",
     "output_type": "stream",
     "text": [
      "[2, 3, 4, 5, 7, 8]\n"
     ]
    },
    {
     "ename": "NameError",
     "evalue": "name 'c1_spacers' is not defined",
     "output_type": "error",
     "traceback": [
      "\u001b[0;31m---------------------------------------------------------------------------\u001b[0m",
      "\u001b[0;31mNameError\u001b[0m                                 Traceback (most recent call last)",
      "\u001b[0;32m<ipython-input-4-0957723884a9>\u001b[0m in \u001b[0;36m<module>\u001b[0;34m\u001b[0m\n\u001b[1;32m     76\u001b[0m \u001b[0;34m\u001b[0m\u001b[0m\n\u001b[1;32m     77\u001b[0m \u001b[0;31m## for s1\u001b[0m\u001b[0;34m\u001b[0m\u001b[0;34m\u001b[0m\u001b[0;34m\u001b[0m\u001b[0m\n\u001b[0;32m---> 78\u001b[0;31m \u001b[0ms1_m\u001b[0m \u001b[0;34m=\u001b[0m \u001b[0mlen\u001b[0m\u001b[0;34m(\u001b[0m\u001b[0mc1_spacers\u001b[0m\u001b[0;34m)\u001b[0m \u001b[0;34m+\u001b[0m \u001b[0mi\u001b[0m\u001b[0;34m\u001b[0m\u001b[0;34m\u001b[0m\u001b[0m\n\u001b[0m\u001b[1;32m     79\u001b[0m \u001b[0ms1_d\u001b[0m \u001b[0;34m=\u001b[0m \u001b[0mj\u001b[0m \u001b[0;34m+\u001b[0m \u001b[0mc\u001b[0m \u001b[0;34m-\u001b[0m \u001b[0mlen\u001b[0m\u001b[0;34m(\u001b[0m\u001b[0mc1_spacers\u001b[0m\u001b[0;34m)\u001b[0m \u001b[0;34m+\u001b[0m \u001b[0mu\u001b[0m\u001b[0;34m\u001b[0m\u001b[0;34m\u001b[0m\u001b[0m\n\u001b[1;32m     80\u001b[0m \u001b[0ms1_ii\u001b[0m \u001b[0;34m=\u001b[0m \u001b[0mlen\u001b[0m\u001b[0;34m(\u001b[0m\u001b[0md1_spacers\u001b[0m\u001b[0;34m)\u001b[0m \u001b[0;34m-\u001b[0m \u001b[0mi\u001b[0m\u001b[0;34m\u001b[0m\u001b[0;34m\u001b[0m\u001b[0m\n",
      "\u001b[0;31mNameError\u001b[0m: name 'c1_spacers' is not defined"
     ]
    }
   ],
   "source": [
    "class CRISPR_pair:\n",
    "    \n",
    "    def __init__(self, s1,s2):\n",
    "        from CRISPR_functions import categorize_spacers_for_ordered_model\n",
    "        self.s1 = s1\n",
    "        self.s2 = s2\n",
    "        self.c1_spacers, self.c2_spacers, self.d1_spacers, self.d2_spacers = categorize_spacers_for_ordered_model(self.s1,self.s2)\n",
    "        self.c_spacers = list(set(self.c1_spacers+self.c2_spacers))\n",
    "        \n",
    "        \n",
    "    def get_combi(self,l1,l2):\n",
    "\n",
    "        ''' Get a dictionary of all the possible combinations of spacers categories + their weight for each ancestor length. \n",
    "        {n:[[c,i,j,u]],ws} with:\n",
    "        n length of ancestral array, \n",
    "        c number of spacers in common (spacers necessarily present in ancerstor), \n",
    "        i number of ancestral spacers amongst the spacers only present in array1, \n",
    "        j number of ancestral spacers amongt these only present in array 2.\n",
    "        ws weight of each putative ancestral array from this combi\n",
    "        l1 (min ancestor length) and l2 (max ancestor length) have to be provided'''\n",
    "\n",
    "        from CRISPR_functions import combi\n",
    "\n",
    "        min_ansestor_len=min(len(self.c_spacers),l1)\n",
    "        max_ansestor_len=max(len(self.c_spacers+self.d1_spacers+self.d2_spacers),l2)\n",
    "        c=len(self.c_spacers)\n",
    "        spacers_combi={}\n",
    "        for n in range(min_ansestor_len,max_ansestor_len+1):\n",
    "            for i in range(len(self.d1_spacers)+1):\n",
    "                for j in range(len(self.d2_spacers)+1):\n",
    "                    if c+i+j<n+1:\n",
    "                        u=n-(c+i+j)\n",
    "                        if n in spacers_combi.keys():\n",
    "                            spacers_combi[n][0]+=[[c,i,j,u]]\n",
    "                        else:\n",
    "                            spacers_combi[n]=[[[c,i,j,u]]]\n",
    "        \n",
    "        for n in spacers_combi.keys():\n",
    "            ancestor_counts=sum([combi(comb).array_counts for comb in spacers_combi[n][0]]) \n",
    "            spacers_combi[n]+=[1/ancestor_counts]\n",
    "        return(spacers_combi)\n",
    "    \n",
    "#     def get_ancestors(self,l1,l2):\n",
    "#         ''' Returns a dictionary that has the form [n]:{'ws','arrays'} with n = length of putative ancestor, ws = weight of each putative ancestral array, arrays = list of putative ancestral arrays'''\n",
    "#         from CRISPR_functions import combi\n",
    "\n",
    "#         pair= self\n",
    "#         for n in pair.get_combi(l1,l2).keys():\n",
    "#             array_counts=0\n",
    "#             array_list=[]\n",
    "#             for comb in pair.get_combi(l1,l2)[n][0]:\n",
    "#                 array_counts+=combi(comb).array_counts\n",
    "#                 array_list+=combi(comb).get_arrays(pair.c_spacers,pair.d1_spacers,pair.d2_spacers)\n",
    "#             ancestors[n]={'ws':1/array_counts,'arrays':array_list}\n",
    "#         return(ancestors)\n",
    "\n",
    "        \n",
    "    \n",
    "################ test class ################## \n",
    "from CRISPR_functions import get_limits_ancestor_sizes\n",
    "arr=[[9,2,3,4,5],[0,1,2,3,7,8],[1,10,11,12,13]]\n",
    "s1=arr[0]\n",
    "s2=arr[1]\n",
    "\n",
    "l1,l2=get_limits_ancestor_sizes(arr)\n",
    "pair=CRISPR_pair(s1,s2)\n",
    "print(pair.c_spacers)\n",
    "ancestors={}\n",
    "pair.get_combi(l1,l2)\n",
    "\n",
    "comb=[6, 1, 1, 0]\n",
    "c=comb[0]\n",
    "i=comb[1]\n",
    "j=comb[2]\n",
    "u=comb[3]\n",
    "\n",
    "## for s1\n",
    "s1_m = len(c1_spacers) + i\n",
    "s1_d = j + c - len(c1_spacers) + u\n",
    "s1_ii = len(d1_spacers) - i\n",
    "\n",
    "## for s2\n",
    "s2_m = len(c2_spacers)+j\n",
    "s2_d = i + c - len(c2_spacers) + u\n",
    "s2_ii = len(d2_spacers) - j\n",
    "\n",
    "\n",
    "pair.get_ancestors(l1,l2)\n",
    "\n",
    "\n",
    "def get_ancestors(self):\n",
    "    ''' Returns a dictionary that has the form [n]:{'ws','arrays'} with n = length of putative ancestor, ws = weight of each putative ancestral array, arrays = list of putative ancestral arrays'''\n",
    "    from CRISPR_functions import combi\n",
    "\n",
    "    for n in pair.get_combi().keys():\n",
    "        array_counts=0\n",
    "        array_list=[]\n",
    "        for comb in pair.get_combi()[n]:\n",
    "            array_counts+=combi(comb).array_counts\n",
    "            array_list+=combi(comb).get_arrays(pair.c_spacers,pair.d1_spacers,pair.d2_spacers)\n",
    "        ancestors[n]={'ws':1/array_counts,'arrays':array_list}\n",
    "    return(ancestors)"
   ]
  },
  {
   "cell_type": "code",
   "execution_count": 87,
   "metadata": {},
   "outputs": [
    {
     "ename": "AttributeError",
     "evalue": "'CRISPR_pair' object has no attribute 'vat'",
     "output_type": "error",
     "traceback": [
      "\u001b[0;31m---------------------------------------------------------------------------\u001b[0m",
      "\u001b[0;31mAttributeError\u001b[0m                            Traceback (most recent call last)",
      "\u001b[0;32m<ipython-input-87-45a15e906df4>\u001b[0m in \u001b[0;36m<module>\u001b[0;34m\u001b[0m\n\u001b[1;32m     50\u001b[0m \u001b[0;34m\u001b[0m\u001b[0m\n\u001b[1;32m     51\u001b[0m \u001b[0mPAIR\u001b[0m\u001b[0;34m.\u001b[0m\u001b[0mget_combi\u001b[0m\u001b[0;34m(\u001b[0m\u001b[0;36m1\u001b[0m\u001b[0;34m,\u001b[0m\u001b[0;36m12\u001b[0m\u001b[0;34m)\u001b[0m\u001b[0;34m\u001b[0m\u001b[0;34m\u001b[0m\u001b[0m\n\u001b[0;32m---> 52\u001b[0;31m \u001b[0mPAIR\u001b[0m\u001b[0;34m.\u001b[0m\u001b[0mvat\u001b[0m\u001b[0;34m\u001b[0m\u001b[0;34m\u001b[0m\u001b[0m\n\u001b[0m",
      "\u001b[0;31mAttributeError\u001b[0m: 'CRISPR_pair' object has no attribute 'vat'"
     ]
    }
   ],
   "source": [
    "class CRISPR_pair:\n",
    "    \n",
    "    def __init__(self, s1,s2):\n",
    "        from CRISPR_functions import categorize_spacers_for_ordered_model\n",
    "        self.s1 = s1\n",
    "        self.s2 = s2\n",
    "        self.c1_spacers, self.c2_spacers, self.d1_spacers, self.d2_spacers = categorize_spacers_for_ordered_model(self.s1,self.s2)\n",
    "        self.c_spacers = list(set(self.c1_spacers+self.c2_spacers))\n",
    "        \n",
    "        \n",
    "    def get_combi(self,l1,l2):\n",
    "\n",
    "        ''' The function get_combi outputs a dictionary of all the possible combinations of spacers categories + their weight for each ancestor length. \n",
    "        {n:[[c,i,j,u]],ws} with:\n",
    "        n length of ancestral array, \n",
    "        c number of spacers in common (spacers necessarily present in ancerstor), \n",
    "        i number of ancestral spacers amongst the spacers only present in array1, \n",
    "        j number of ancestral spacers amongt these only present in array 2.\n",
    "        ws weight of each putative ancestral array from this combi\n",
    "        l1 (min ancestor length) and l2 (max ancestor length) have to be provided'''\n",
    "\n",
    "        from CRISPR_functions import combi\n",
    "\n",
    "        min_ansestor_len=min(len(self.c_spacers),l1)\n",
    "        max_ansestor_len=max(len(self.c_spacers+self.d1_spacers+self.d2_spacers),l2)\n",
    "        c=len(self.c_spacers)\n",
    "        spacers_combi={}\n",
    "        for n in range(min_ansestor_len,max_ansestor_len+1):\n",
    "            for i in range(len(self.d1_spacers)+1):\n",
    "                for j in range(len(self.d2_spacers)+1):\n",
    "                    if c+i+j<n+1:\n",
    "                        u=n-(c+i+j)\n",
    "                        if n in spacers_combi.keys():\n",
    "                            spacers_combi[n][0]+=[[c,i,j,u]]\n",
    "                        else:\n",
    "                            spacers_combi[n]=[[[c,i,j,u]]]\n",
    "        \n",
    "        for n in spacers_combi.keys():\n",
    "            ancestor_counts=sum([combi(comb).array_counts for comb in spacers_combi[n][0]])\n",
    "#             print(ancestor_counts)\n",
    "#             print([combi(comb).array_counts/ancestor_counts for comb in spacers_combi[n][0]])\n",
    "            spacers_combi[n]+=[[combi(comb).array_counts/ancestor_counts for comb in spacers_combi[n][0]]]\n",
    "        return(spacers_combi)\n",
    "\n",
    "    \n",
    "pair=[[9, 2, 3, 4, 5], [0, 1, 2, 3, 7, 8]]\n",
    "s1=pair[0]\n",
    "s2=pair[1]\n",
    "PAIR=CRISPR_pair(s1,s2)\n",
    "\n",
    "PAIR.get_combi(1,12)\n",
    "PAIR.vat"
   ]
  },
  {
   "cell_type": "code",
   "execution_count": 85,
   "metadata": {},
   "outputs": [
    {
     "data": {
      "text/plain": [
       "{'6-0-0-0': 1.0,\n",
       " '6-0-0-1': 0.7777777777777778,\n",
       " '6-0-1-0': 0.1111111111111111,\n",
       " '6-1-0-0': 0.1111111111111111,\n",
       " '6-0-0-2': 0.5957446808510638,\n",
       " '6-0-1-1': 0.1702127659574468,\n",
       " '6-0-2-0': 0.02127659574468085,\n",
       " '6-1-0-1': 0.1702127659574468,\n",
       " '6-1-1-0': 0.0425531914893617,\n",
       " '6-0-0-3': 0.45161290322580644,\n",
       " '6-0-1-2': 0.1935483870967742,\n",
       " '6-0-2-1': 0.04838709677419355,\n",
       " '6-1-0-2': 0.1935483870967742,\n",
       " '6-1-1-1': 0.0967741935483871,\n",
       " '6-1-2-0': 0.016129032258064516,\n",
       " '6-0-0-4': 0.34146341463414637,\n",
       " '6-0-1-3': 0.1951219512195122,\n",
       " '6-0-2-2': 0.07317073170731707,\n",
       " '6-1-0-3': 0.1951219512195122,\n",
       " '6-1-1-2': 0.14634146341463414,\n",
       " '6-1-2-1': 0.04878048780487805,\n",
       " '6-0-0-5': 0.25925925925925924,\n",
       " '6-0-1-4': 0.18518518518518517,\n",
       " '6-0-2-3': 0.09259259259259259,\n",
       " '6-1-0-4': 0.18518518518518517,\n",
       " '6-1-1-3': 0.18518518518518517,\n",
       " '6-1-2-2': 0.09259259259259259,\n",
       " '6-0-0-6': 0.19858156028368795,\n",
       " '6-0-1-5': 0.1702127659574468,\n",
       " '6-0-2-4': 0.10638297872340426,\n",
       " '6-1-0-5': 0.1702127659574468,\n",
       " '6-1-1-4': 0.2127659574468085,\n",
       " '6-1-2-3': 0.14184397163120568}"
      ]
     },
     "execution_count": 85,
     "metadata": {},
     "output_type": "execute_result"
    }
   ],
   "source": [
    "import CRISPR_functions\n",
    "importlib.reload(CRISPR_functions) \n",
    "\n",
    "### change get_combi output format\n",
    "\n",
    "class CRISPR_pair:\n",
    "    \n",
    "    def __init__(self, s1,s2):\n",
    "        from CRISPR_functions import categorize_spacers_for_ordered_model\n",
    "        self.s1 = s1\n",
    "        self.s2 = s2\n",
    "        self.c1_spacers, self.c2_spacers, self.d1_spacers, self.d2_spacers = categorize_spacers_for_ordered_model(self.s1,self.s2)\n",
    "        self.c_spacers = list(set(self.c1_spacers+self.c2_spacers))\n",
    "        \n",
    "        \n",
    "    def get_combi(self,l1,l2):\n",
    "\n",
    "        ''' The function get_combi outputs a dictionary of all the possible combinations of spacers categories + their weight for each ancestor length. \n",
    "        {n:[[c,i,j,u]],ws} with:\n",
    "        n length of ancestral array, \n",
    "        c number of spacers in common (spacers necessarily present in ancerstor), \n",
    "        i number of ancestral spacers amongst the spacers only present in array1, \n",
    "        j number of ancestral spacers amongt these only present in array 2.\n",
    "        ws weight of each putative ancestral array from this combi\n",
    "        l1 (min ancestor length) and l2 (max ancestor length) have to be provided'''\n",
    "        from CRISPR_functions import combi\n",
    "       \n",
    "        min_ansestor_len=min(len(self.c_spacers),l1)\n",
    "        max_ansestor_len=max(len(self.c_spacers+self.d1_spacers+self.d2_spacers),l2)\n",
    "        c=len(self.c_spacers)\n",
    "        spacers_combi={}\n",
    "        combi_output={}\n",
    "        for n in range(min_ansestor_len,max_ansestor_len+1):\n",
    "            for i in range(len(self.d1_spacers)+1):\n",
    "                for j in range(len(self.d2_spacers)+1):\n",
    "                    if c+i+j<n+1:\n",
    "                        u=n-(c+i+j)\n",
    "                        if n in spacers_combi.keys():\n",
    "                            spacers_combi[n]+=[combi([c,i,j,u])]\n",
    "                        else:\n",
    "                            spacers_combi[n]=[combi([c,i,j,u])]\n",
    "        \n",
    "        for n,v in spacers_combi.items():\n",
    "            \n",
    "            combi_strings=[combi.str for combi in v]\n",
    "            ancestor_counts = sum([combi.array_counts for combi in v])\n",
    "            ancestor_weights = [combi.array_counts/ancestor_counts for combi in v]\n",
    "            \n",
    "            combi_output.update(dict(zip(combi_strings,ancestor_weights)))\n",
    "\n",
    "        return(combi_output)\n",
    "    \n",
    "    \n",
    "    \n",
    "pair=[[9, 2, 3, 4, 5], [0, 1, 2, 3, 7, 8]]\n",
    "s1=pair[0]\n",
    "s2=pair[1]\n",
    "PAIR=CRISPR_pair(s1,s2)\n",
    "\n",
    "PAIR.get_combi(1,12)"
   ]
  },
  {
   "cell_type": "code",
   "execution_count": 397,
   "metadata": {},
   "outputs": [
    {
     "name": "stdout",
     "output_type": "stream",
     "text": [
      "9\n",
      "1.0\n",
      "9.0\n",
      "47.0\n",
      "186.0\n"
     ]
    },
    {
     "data": {
      "text/plain": [
       "{6: {(6, 0, 0, 0): {'w': 1.0, 'ws': 1.0}},\n",
       " 7: {(6, 0, 0, 1): {'w': 7.0, 'ws': 0.7777777777777778},\n",
       "  (6, 0, 1, 0): {'w': 1.0, 'ws': 0.1111111111111111},\n",
       "  (6, 1, 0, 0): {'w': 1.0, 'ws': 0.1111111111111111}},\n",
       " 8: {(6, 0, 0, 2): {'w': 28.0, 'ws': 0.5957446808510638},\n",
       "  (6, 0, 1, 1): {'w': 8.0, 'ws': 0.1702127659574468},\n",
       "  (6, 0, 2, 0): {'w': 1.0, 'ws': 0.02127659574468085},\n",
       "  (6, 1, 0, 1): {'w': 8.0, 'ws': 0.1702127659574468},\n",
       "  (6, 1, 1, 0): {'w': 2.0, 'ws': 0.0425531914893617}},\n",
       " 9: {(6, 0, 0, 3): {'w': 84.0, 'ws': 0.45161290322580644},\n",
       "  (6, 0, 1, 2): {'w': 36.0, 'ws': 0.1935483870967742},\n",
       "  (6, 0, 2, 1): {'w': 9.0, 'ws': 0.04838709677419355},\n",
       "  (6, 1, 0, 2): {'w': 36.0, 'ws': 0.1935483870967742},\n",
       "  (6, 1, 1, 1): {'w': 18.0, 'ws': 0.0967741935483871},\n",
       "  (6, 1, 2, 0): {'w': 3.0, 'ws': 0.016129032258064516}}}"
      ]
     },
     "execution_count": 397,
     "metadata": {},
     "output_type": "execute_result"
    }
   ],
   "source": [
    "#### get w and ws ####\n",
    "\n",
    "c=len(c_spacers)\n",
    "# print(len(d1_spacers))\n",
    "n=len(c_spacers+d1_spacers+d2_spacers)\n",
    "len(d1_spacers)\n",
    "len(d2_spacers)\n",
    "# n=len(ancestor)\n",
    "# n=[n for n in range(min(len(c_spacers),len(s1)),len(ancestor))]\n",
    "print(n)\n",
    "''' Get the possible combinations of spacers categories for each ancestor length. n:[[c,i,j,u]] with n length of ancestral array, c number of spacers in common (spacers necessarily present in ancerstor), i number of ancestral spacers amongst the spacers only present in array1, j number of ancestral spacers amongt these only present in array 2'''\n",
    "spacers_combi={}\n",
    "for n in range(c,n+1):\n",
    "    i=0\n",
    "    spacers_combi[n]={}\n",
    "    for i in range(len(d1_spacers)+1):\n",
    "        for j in range(len(d2_spacers)+1):\n",
    "            if c+i+j<n+1:\n",
    "                u=n-(c+i+j)\n",
    "                spacers_combi[n][c,i,j,u]={'w':combi([c,i,j,u]).array_counts}\n",
    "    \n",
    "                    \n",
    "for k,v in spacers_combi.items():\n",
    "    ktot=0\n",
    "    for val in v.values():\n",
    "        ktot+=val['w']\n",
    "    print(ktot)\n",
    "    for c in v.keys():\n",
    "        spacers_combi[k][c].update({'ws':spacers_combi[k][c]['w']/ktot})\n",
    "spacers_combi"
   ]
  },
  {
   "cell_type": "code",
   "execution_count": 423,
   "metadata": {},
   "outputs": [
    {
     "data": {
      "text/plain": [
       "2.0"
      ]
     },
     "execution_count": 423,
     "metadata": {},
     "output_type": "execute_result"
    }
   ],
   "source": [
    "\n",
    "def get_combi(c_spacers,d1_spacers,d2_spacers)\n",
    "''' Get the possible combinations of spacers categories for each ancestor length. n:[[c,i,j,u]] with n length of ancestral array, c number of spacers in common (spacers necessarily present in ancerstor), i number of ancestral spacers amongst the spacers only present in array1, j number of ancestral spacers amongt these only present in array 2'''\n",
    "min_ansestor_len=len(c_spacers) # => should be min(len(c_spacers),l1)\n",
    "max_ansestor_len=len(c_spacers+d1_spacers+d2_spacers) # => Should be max(len(c_spacers+d1_spacers+d2_spacers), l2)\n",
    "spacers_combi={}\n",
    "for n in range(min_ansestor_len,max_ansestor_len+1):\n",
    "    i=0\n",
    "    spacers_combi[n]=[]\n",
    "    for i in range(len(d1_spacers)+1):\n",
    "        for j in range(len(d2_spacers)+1):\n",
    "            if c+i+j<n+1:\n",
    "                u=n-(c+i+j)\n",
    "                spacers_combi[n]+=[c,i,j,u]\n",
    "                \n",
    "                "
   ]
  },
  {
   "cell_type": "code",
   "execution_count": 356,
   "metadata": {},
   "outputs": [
    {
     "name": "stdout",
     "output_type": "stream",
     "text": [
      "[2, 3, 4, 5, 7, 8]\n",
      "[9]\n",
      "[0, 1]\n",
      "combi (6, 0, 0, 3)\n",
      "84.0\n",
      "combi (6, 0, 1, 2)\n",
      "36.0\n",
      "combi (6, 0, 2, 1)\n",
      "9.0\n",
      "combi (6, 1, 0, 2)\n",
      "36.0\n",
      "combi (6, 1, 1, 1)\n",
      "18.0\n",
      "combi (6, 1, 2, 0)\n",
      "3.0\n"
     ]
    }
   ],
   "source": [
    "#### get array counts (now within combi class) ####\n",
    "print(c_spacers)\n",
    "print(d1_spacers)\n",
    "print(d2_spacers)\n",
    "n=9\n",
    "for combi in spacers_combi[n].keys():\n",
    "    print ('combi',combi)\n",
    "    c=combi[0]\n",
    "    i=combi[1]\n",
    "    j=combi[2]\n",
    "    u=combi[3]\n",
    "    possible_positions_of_u=nCr(n,u)\n",
    "    possible_combinations_of_d1_and_d2=nCr(i+j,i)\n",
    "    arrays_for_this_combi=possible_positions_of_u*possible_combinations_of_d1_and_d2\n",
    "    print(arrays_for_this_combi)\n",
    "#     d1_good=d1_spacers[len(d1_spacers)-i:]\n",
    "#     d2_good=d2_spacers[len(d2_spacers)-j:]\n",
    "#     u_good=u*'u'\n",
    "#     print(arrays_for_this_combi)\n",
    "#     print(d1_good)\n",
    "#     print(d2_good)\n",
    "    "
   ]
  },
  {
   "cell_type": "code",
   "execution_count": 409,
   "metadata": {},
   "outputs": [
    {
     "data": {
      "text/plain": [
       "[[0, 1, 9, 2, 3, 4, 5, 7, 8],\n",
       " [0, 9, 1, 2, 3, 4, 5, 7, 8],\n",
       " [9, 0, 1, 2, 3, 4, 5, 7, 8]]"
      ]
     },
     "execution_count": 409,
     "metadata": {},
     "output_type": "execute_result"
    }
   ],
   "source": [
    "#### get ancestor arrays (now withon combi class) ####\n",
    "\n",
    "def get_ancestor_arrays(c,i,j,u,d1_spacers,d2_spacers,c_spacers):\n",
    "    array_list=[]\n",
    "    def merge_lists(lst1,lst2):\n",
    "        import itertools\n",
    "        array_list=[]\n",
    "\n",
    "        for locations in itertools.combinations(range(len(lst1) + len(lst2)), len(lst2)):\n",
    "            result = lst1[:]\n",
    "            for location, element in zip(locations, lst2):\n",
    "                result.insert(location, element)\n",
    "            new_list=result\n",
    "            array_list+=[new_list]\n",
    "        return(array_list)\n",
    "    \n",
    "    d1_good=d1_spacers[len(d1_spacers)-i:]\n",
    "    d2_good=d2_spacers[len(d2_spacers)-j:]\n",
    "    u_good=u*'u'\n",
    "    c_spacers=c_spacers\n",
    "    if u>0:\n",
    "        for array in merge_lists(d1_good,d2_good):\n",
    "            print ([u_good],array+c_spacers)\n",
    "            array_list+=merge_lists(u_good,array+c_spacers)\n",
    "    else:\n",
    "        array_list=[array+c_spacers for array in merge_lists(d1_good,d2_good)]\n",
    "    return(array_list)\n",
    "    \n",
    "get_ancestor_arrays(c,i,j,u,d1_good,d2_good,c_spacers)"
   ]
  },
  {
   "cell_type": "markdown",
   "metadata": {},
   "source": [
    "TO DO: \n",
    "    create Transitions functions for ordered model"
   ]
  },
  {
   "cell_type": "code",
   "execution_count": null,
   "metadata": {},
   "outputs": [],
   "source": [
    "M(m|t, μ) = e−mμt,"
   ]
  },
  {
   "cell_type": "code",
   "execution_count": 9,
   "metadata": {},
   "outputs": [
    {
     "data": {
      "text/plain": [
       "0.16684449737973722"
      ]
     },
     "execution_count": 9,
     "metadata": {},
     "output_type": "execute_result"
    }
   ],
   "source": [
    "def Transition_prob(s0,s1,t,lbda,mu):\n",
    "    '''T(s0 → s1|t, λ, μ) '''\n",
    "    import numpy as np\n",
    "\n",
    "    def M(m,t,mu):\n",
    "        '''probability of preserving m spacers in time t : M(m|t,mu)'''\n",
    "        M=np.exp(-m*t*mu)\n",
    "        return(M)\n",
    "\n",
    "    def D(d,t,mu):\n",
    "        '''probability of loosing d spacers in time t : D(d|t,mu)'''\n",
    "        D=np.power((1-np.exp(-t*mu)),d)\n",
    "        return(D)\n",
    "\n",
    "    def I(j,t,lbda,mu):\n",
    "        '''probability of inserting d spacers in time t : D(d|t,mu)'''\n",
    "        rho=lbda/mu\n",
    "        a=rho*(1-np.exp(-t*mu))\n",
    "        I=(np.exp(-a)*np.power(a,j))/np.math.factorial(j)\n",
    "        return(I)\n",
    "    \n",
    "    return(M(m,t,mu)*D(d,t,mu)*I(j,t,lbda,mu))\n",
    "\n",
    "j=5\n",
    "d=5    \n",
    "m=5\n",
    "\n",
    "t=2\n",
    "mu=1\n",
    "lbda=5\n",
    "\n",
    "M(m,t,mu)\n",
    "D(d,t,mu)\n",
    "I(j,t,lbda,mu)"
   ]
  },
  {
   "cell_type": "code",
   "execution_count": null,
   "metadata": {},
   "outputs": [],
   "source": [
    "from CRISPR_functions import CRISPR_pair\n",
    "\n",
    "def compare_ancestor_to_arrays(combi_s0,PAIR):\n",
    "    '''combi_s0= combi class object, PAIR= CRISPR_pair class object, returns for each array\n",
    "    m number of spacers maintained between ancestor and array\n",
    "    d number of spacers lost in array\n",
    "    j number of spacers gained in array'''\n",
    "    \n",
    "    c=combi_s0.c\n",
    "    i=combi_s0.i\n",
    "    j=combi_s0.j\n",
    "    u=combi_s0.u\n",
    "    \n",
    "    c1=len(PAIR.c1_spacers)\n",
    "    c2=len(PAIR.c2_spacers)\n",
    "    d1=len(PAIR.d1_spacers)\n",
    "    d2=len(PAIR.d2_spacers)\n",
    "    \n",
    "    \n",
    "    m1=c1+i\n",
    "    d1=j+u+c-c1\n",
    "    j1=d1-i\n",
    "    m2=c2+j\n",
    "    d2=i+u+c-c2\n",
    "    j2=d2-j\n",
    "    \n",
    "    return(m1,d1,j1,m2,d2,j2)\n",
    "\n",
    "combi_s0=combi([6,0,1,1])\n",
    "pair=([9, 2, 3, 4, 5], [0, 1, 2, 3, 7, 8])\n",
    "PAIR=CRISPR_pair(pair[0],pair[1])\n",
    "compare_ancestor_to_arrays(combi_s0,PAIR) "
   ]
  },
  {
   "cell_type": "code",
   "execution_count": 1,
   "metadata": {},
   "outputs": [
    {
     "data": {
      "text/plain": [
       "(4, 4, 4, 5, 3, 2)"
      ]
     },
     "execution_count": 1,
     "metadata": {},
     "output_type": "execute_result"
    }
   ],
   "source": [
    "from CRISPR_functions import combi,CRISPR_pair\n",
    "\n",
    "combi_s0=combi([6,0,1,1])\n",
    "pair=([9, 2, 3, 4, 5], [0, 1, 2, 3, 7, 8])\n",
    "PAIR=CRISPR_pair(pair[0],pair[1])\n",
    "combi_s0.compare_ancestor_to_arrays(PAIR)"
   ]
  },
  {
   "cell_type": "markdown",
   "metadata": {},
   "source": [
    "L(ρ, t1, t2|s1, s2) =\n",
    "$\\sum_{ancestors a}$\n",
    "q(a|λ, μ)T(a → s1|t1, λ, μ)\n",
    "× T(a → s2|t2, λ, μ),"
   ]
  },
  {
   "cell_type": "markdown",
   "metadata": {},
   "source": [
    "T1 = T(s0 → s1|t, λ, μ) = M(m|t, μ)D(d|t, μ)I(j|t, λ, μ)\n",
    "\n",
    "Qa = q(a|λ, μ) ; prob of observing ancestor a = prob of observing ancestor of length |a| * prob of observing this ancestor given |a|\n"
   ]
  },
  {
   "cell_type": "code",
   "execution_count": 101,
   "metadata": {},
   "outputs": [
    {
     "name": "stdout",
     "output_type": "stream",
     "text": [
      "4.482676731913939e-06\n"
     ]
    }
   ],
   "source": [
    "import CRISPR_functions\n",
    "importlib.reload(CRISPR_functions) \n",
    "\n",
    "def L(rho,t1,t2,PAIR): #add l1, l2\n",
    "    from CRISPR_functions import prob_n_given_ro, combi, CRISPR_pair, M, I, D\n",
    "    \n",
    "    lbda=rho/(rho+1)\n",
    "    mu=1/(rho+1)\n",
    "    \n",
    "    ancestors_dic= PAIR.get_combi(1,12) #l1,l2\n",
    "    Likelihood=0\n",
    "    \n",
    "    for s0,ws in ancestors_dic.items():\n",
    "        combi_s0 = combi(list(map(int,s0.split('-'))))\n",
    "        n=combi_s0.n\n",
    "\n",
    "        m1,d1,j1,m2,d2,j2 = compare_ancestor_to_arrays(combi_s0,PAIR)\n",
    "\n",
    "        Qa = prob_n_given_ro(n,rho)*ws\n",
    "        T1 = M(m1,t1,mu)*D(d1,t1,mu)*I(j1,t1,lbda,mu)\n",
    "        T2 = M(m2,t2,mu)*D(d2,t2,mu)*I(j2,t2,lbda,mu)\n",
    "        \n",
    "        Likelihood += Qa*T1*T2\n",
    "    \n",
    "    return(Likelihood)\n",
    "    \n",
    "\n",
    "pair=([9, 2, 3, 4, 5], [0, 1, 2, 3, 7, 8])\n",
    "PAIR=CRISPR_pair(pair[0],pair[1])\n",
    "rho=5\n",
    "t1=2\n",
    "t2=3\n",
    "# print(PAIR)\n",
    "print( L(rho,t1,t2,PAIR))"
   ]
  },
  {
   "cell_type": "code",
   "execution_count": 201,
   "metadata": {},
   "outputs": [
    {
     "ename": "TypeError",
     "evalue": "'numpy.float64' object is not callable",
     "output_type": "error",
     "traceback": [
      "\u001b[0;31m---------------------------------------------------------------------------\u001b[0m",
      "\u001b[0;31mTypeError\u001b[0m                                 Traceback (most recent call last)",
      "\u001b[0;32m<ipython-input-201-7a908ef1a069>\u001b[0m in \u001b[0;36m<module>\u001b[0;34m\u001b[0m\n\u001b[1;32m      4\u001b[0m \u001b[0mx0\u001b[0m\u001b[0;34m=\u001b[0m \u001b[0;34m[\u001b[0m\u001b[0;36m1\u001b[0m\u001b[0;34m,\u001b[0m\u001b[0;36m1\u001b[0m\u001b[0;34m]\u001b[0m\u001b[0;34m\u001b[0m\u001b[0;34m\u001b[0m\u001b[0m\n\u001b[1;32m      5\u001b[0m \u001b[0margs\u001b[0m\u001b[0;34m=\u001b[0m\u001b[0;34m[\u001b[0m\u001b[0mrho\u001b[0m\u001b[0;34m,\u001b[0m\u001b[0mPAIR\u001b[0m\u001b[0;34m]\u001b[0m\u001b[0;34m\u001b[0m\u001b[0;34m\u001b[0m\u001b[0m\n\u001b[0;32m----> 6\u001b[0;31m \u001b[0mtest\u001b[0m \u001b[0;34m=\u001b[0m \u001b[0mminimize\u001b[0m\u001b[0;34m(\u001b[0m\u001b[0mLL\u001b[0m\u001b[0;34m,\u001b[0m \u001b[0mx0\u001b[0m \u001b[0;34m,\u001b[0m \u001b[0mmethod\u001b[0m\u001b[0;34m=\u001b[0m\u001b[0;34m'Powell'\u001b[0m\u001b[0;34m,\u001b[0m\u001b[0margs\u001b[0m\u001b[0;34m=\u001b[0m\u001b[0margs\u001b[0m\u001b[0;34m)\u001b[0m\u001b[0;34m\u001b[0m\u001b[0;34m\u001b[0m\u001b[0m\n\u001b[0m",
      "\u001b[0;32m~/anaconda2/envs/py36/lib/python3.6/site-packages/scipy/optimize/_minimize.py\u001b[0m in \u001b[0;36mminimize\u001b[0;34m(fun, x0, args, method, jac, hess, hessp, bounds, constraints, tol, callback, options)\u001b[0m\n\u001b[1;32m    598\u001b[0m         \u001b[0;32mreturn\u001b[0m \u001b[0m_minimize_neldermead\u001b[0m\u001b[0;34m(\u001b[0m\u001b[0mfun\u001b[0m\u001b[0;34m,\u001b[0m \u001b[0mx0\u001b[0m\u001b[0;34m,\u001b[0m \u001b[0margs\u001b[0m\u001b[0;34m,\u001b[0m \u001b[0mcallback\u001b[0m\u001b[0;34m,\u001b[0m \u001b[0;34m**\u001b[0m\u001b[0moptions\u001b[0m\u001b[0;34m)\u001b[0m\u001b[0;34m\u001b[0m\u001b[0;34m\u001b[0m\u001b[0m\n\u001b[1;32m    599\u001b[0m     \u001b[0;32melif\u001b[0m \u001b[0mmeth\u001b[0m \u001b[0;34m==\u001b[0m \u001b[0;34m'powell'\u001b[0m\u001b[0;34m:\u001b[0m\u001b[0;34m\u001b[0m\u001b[0;34m\u001b[0m\u001b[0m\n\u001b[0;32m--> 600\u001b[0;31m         \u001b[0;32mreturn\u001b[0m \u001b[0m_minimize_powell\u001b[0m\u001b[0;34m(\u001b[0m\u001b[0mfun\u001b[0m\u001b[0;34m,\u001b[0m \u001b[0mx0\u001b[0m\u001b[0;34m,\u001b[0m \u001b[0margs\u001b[0m\u001b[0;34m,\u001b[0m \u001b[0mcallback\u001b[0m\u001b[0;34m,\u001b[0m \u001b[0;34m**\u001b[0m\u001b[0moptions\u001b[0m\u001b[0;34m)\u001b[0m\u001b[0;34m\u001b[0m\u001b[0;34m\u001b[0m\u001b[0m\n\u001b[0m\u001b[1;32m    601\u001b[0m     \u001b[0;32melif\u001b[0m \u001b[0mmeth\u001b[0m \u001b[0;34m==\u001b[0m \u001b[0;34m'cg'\u001b[0m\u001b[0;34m:\u001b[0m\u001b[0;34m\u001b[0m\u001b[0;34m\u001b[0m\u001b[0m\n\u001b[1;32m    602\u001b[0m         \u001b[0;32mreturn\u001b[0m \u001b[0m_minimize_cg\u001b[0m\u001b[0;34m(\u001b[0m\u001b[0mfun\u001b[0m\u001b[0;34m,\u001b[0m \u001b[0mx0\u001b[0m\u001b[0;34m,\u001b[0m \u001b[0margs\u001b[0m\u001b[0;34m,\u001b[0m \u001b[0mjac\u001b[0m\u001b[0;34m,\u001b[0m \u001b[0mcallback\u001b[0m\u001b[0;34m,\u001b[0m \u001b[0;34m**\u001b[0m\u001b[0moptions\u001b[0m\u001b[0;34m)\u001b[0m\u001b[0;34m\u001b[0m\u001b[0;34m\u001b[0m\u001b[0m\n",
      "\u001b[0;32m~/anaconda2/envs/py36/lib/python3.6/site-packages/scipy/optimize/optimize.py\u001b[0m in \u001b[0;36m_minimize_powell\u001b[0;34m(func, x0, args, callback, xtol, ftol, maxiter, maxfev, disp, direc, return_all, **unknown_options)\u001b[0m\n\u001b[1;32m   2629\u001b[0m         \u001b[0mdirec\u001b[0m \u001b[0;34m=\u001b[0m \u001b[0masarray\u001b[0m\u001b[0;34m(\u001b[0m\u001b[0mdirec\u001b[0m\u001b[0;34m,\u001b[0m \u001b[0mdtype\u001b[0m\u001b[0;34m=\u001b[0m\u001b[0mfloat\u001b[0m\u001b[0;34m)\u001b[0m\u001b[0;34m\u001b[0m\u001b[0;34m\u001b[0m\u001b[0m\n\u001b[1;32m   2630\u001b[0m \u001b[0;34m\u001b[0m\u001b[0m\n\u001b[0;32m-> 2631\u001b[0;31m     \u001b[0mfval\u001b[0m \u001b[0;34m=\u001b[0m \u001b[0msqueeze\u001b[0m\u001b[0;34m(\u001b[0m\u001b[0mfunc\u001b[0m\u001b[0;34m(\u001b[0m\u001b[0mx\u001b[0m\u001b[0;34m)\u001b[0m\u001b[0;34m)\u001b[0m\u001b[0;34m\u001b[0m\u001b[0;34m\u001b[0m\u001b[0m\n\u001b[0m\u001b[1;32m   2632\u001b[0m     \u001b[0mx1\u001b[0m \u001b[0;34m=\u001b[0m \u001b[0mx\u001b[0m\u001b[0;34m.\u001b[0m\u001b[0mcopy\u001b[0m\u001b[0;34m(\u001b[0m\u001b[0;34m)\u001b[0m\u001b[0;34m\u001b[0m\u001b[0;34m\u001b[0m\u001b[0m\n\u001b[1;32m   2633\u001b[0m     \u001b[0miter\u001b[0m \u001b[0;34m=\u001b[0m \u001b[0;36m0\u001b[0m\u001b[0;34m\u001b[0m\u001b[0;34m\u001b[0m\u001b[0m\n",
      "\u001b[0;32m~/anaconda2/envs/py36/lib/python3.6/site-packages/scipy/optimize/optimize.py\u001b[0m in \u001b[0;36mfunction_wrapper\u001b[0;34m(*wrapper_args)\u001b[0m\n\u001b[1;32m    325\u001b[0m     \u001b[0;32mdef\u001b[0m \u001b[0mfunction_wrapper\u001b[0m\u001b[0;34m(\u001b[0m\u001b[0;34m*\u001b[0m\u001b[0mwrapper_args\u001b[0m\u001b[0;34m)\u001b[0m\u001b[0;34m:\u001b[0m\u001b[0;34m\u001b[0m\u001b[0;34m\u001b[0m\u001b[0m\n\u001b[1;32m    326\u001b[0m         \u001b[0mncalls\u001b[0m\u001b[0;34m[\u001b[0m\u001b[0;36m0\u001b[0m\u001b[0;34m]\u001b[0m \u001b[0;34m+=\u001b[0m \u001b[0;36m1\u001b[0m\u001b[0;34m\u001b[0m\u001b[0;34m\u001b[0m\u001b[0m\n\u001b[0;32m--> 327\u001b[0;31m         \u001b[0;32mreturn\u001b[0m \u001b[0mfunction\u001b[0m\u001b[0;34m(\u001b[0m\u001b[0;34m*\u001b[0m\u001b[0;34m(\u001b[0m\u001b[0mwrapper_args\u001b[0m \u001b[0;34m+\u001b[0m \u001b[0margs\u001b[0m\u001b[0;34m)\u001b[0m\u001b[0;34m)\u001b[0m\u001b[0;34m\u001b[0m\u001b[0;34m\u001b[0m\u001b[0m\n\u001b[0m\u001b[1;32m    328\u001b[0m \u001b[0;34m\u001b[0m\u001b[0m\n\u001b[1;32m    329\u001b[0m     \u001b[0;32mreturn\u001b[0m \u001b[0mncalls\u001b[0m\u001b[0;34m,\u001b[0m \u001b[0mfunction_wrapper\u001b[0m\u001b[0;34m\u001b[0m\u001b[0;34m\u001b[0m\u001b[0m\n",
      "\u001b[0;31mTypeError\u001b[0m: 'numpy.float64' object is not callable"
     ]
    }
   ],
   "source": [
    "import scipy\n",
    "from scipy.optimize import minimize\n",
    "LL=-np.log(L(rho,t1,t2,PAIR))\n",
    "x0= [1,1]\n",
    "args=[rho,PAIR]\n",
    "test = minimize(LL, x0 , method='Powell',args=args)"
   ]
  },
  {
   "cell_type": "code",
   "execution_count": 8,
   "metadata": {},
   "outputs": [
    {
     "name": "stdout",
     "output_type": "stream",
     "text": [
      "[2.6837588747545005, 2.683324575778658]\n",
      "5.939595096291187\n"
     ]
    }
   ],
   "source": [
    "\n",
    "\n",
    "def L(rho=float,t=tuple,PAIR=PAIR,size_lims=tuple):\n",
    "    from CRISPR_functions import prob_n_given_ro, combi, CRISPR_pair, M, I, D\n",
    "    t1=t[0]\n",
    "    t2=t[1]\n",
    "    l1=size_lims[0]\n",
    "    l2=size_lims[1]\n",
    "    lbda=rho/(rho+1)\n",
    "    mu=1/(rho+1)\n",
    "    \n",
    "    ancestors_dic= PAIR.get_combi(l1,l2) #l1,l2\n",
    "    Likelihood=0\n",
    "    \n",
    "    for s0,ws in ancestors_dic.items():\n",
    "        combi_s0 = combi(list(map(int,s0.split('-'))))\n",
    "        n=combi_s0.n\n",
    "\n",
    "        m1,d1,j1,m2,d2,j2 = combi_s0.compare_ancestor_to_arrays(PAIR)\n",
    "\n",
    "        Qa = prob_n_given_ro(n,rho)*ws\n",
    "        T1 = M(m1,t1,mu)*D(d1,t1,mu)*I(j1,t1,lbda,mu)\n",
    "        T2 = M(m2,t2,mu)*D(d2,t2,mu)*I(j2,t2,lbda,mu)\n",
    "        \n",
    "        Likelihood += Qa*T1*T2\n",
    "    \n",
    "    return(Likelihood)\n",
    "\n",
    "def LL_floating_t(x,rho,PAIR,size_lims):\n",
    "    return(-np.log(L(rho=rho,t=x,PAIR=PAIR,size_lims=size_lims)))\n",
    "    \n",
    "def LL_floating_rho(x,t,PAIR,size_lims):\n",
    "    return(-np.log(L(rho=x,t=t,PAIR=PAIR,size_lims=size_lims)))\n",
    "\n",
    "\n",
    "\n",
    "rho=5\n",
    "t1=2.7\n",
    "t2=2.7\n",
    "t=(t1,t2)\n",
    "size_lims=(1,12)\n",
    "\n",
    "# import scipy\n",
    "from scipy.optimize import minimize\n",
    "import numpy as np\n",
    "from CRISPR_functions import combi\n",
    "print(list(minimize(LL_floating_t,[1,1],method='Powell',args=(rho,PAIR,size_lims)).x))\n",
    "print(minimize(LL_floating_rho,[2],method='Powell',args=(t,PAIR,size_lims)).x)"
   ]
  },
  {
   "cell_type": "code",
   "execution_count": 261,
   "metadata": {},
   "outputs": [
    {
     "data": {
      "image/png": "[encoded data removed]",
      "text/plain": [
       "<Figure size 432x288 with 2 Axes>"
      ]
     },
     "metadata": {
      "needs_background": "light"
     },
     "output_type": "display_data"
    },
    {
     "name": "stdout",
     "output_type": "stream",
     "text": [
      "t1= 2.7\n",
      "t2= 2.7\n"
     ]
    }
   ],
   "source": [
    "# This import registers the 3D projection, but is otherwise unused.\n",
    "from mpl_toolkits.mplot3d import Axes3D  # noqa: F401 unused import\n",
    "\n",
    "import matplotlib.pyplot as plt\n",
    "from matplotlib import cm\n",
    "from matplotlib.ticker import LinearLocator, FormatStrFormatter\n",
    "import numpy as np\n",
    "\n",
    "\n",
    "fig = plt.figure()\n",
    "ax = fig.gca(projection='3d')\n",
    "\n",
    "# Make data.\n",
    "X = np.arange(0, 10, 0.1)\n",
    "Y = np.arange(0,10, 0.1)\n",
    "X, Y = np.meshgrid(X, Y)\n",
    "Z = L(rho,(X,Y),PAIR,(1,12))\n",
    "\n",
    "# Plot the surface.\n",
    "surf = ax.plot_surface(X, Y, Z, cmap=cm.coolwarm,\n",
    "                       linewidth=0, antialiased=False)\n",
    "\n",
    "# Customize the z axis.\n",
    "# ax.set_zlim(0, 0.000005)\n",
    "ax.zaxis.set_major_locator(LinearLocator(10))\n",
    "# ax.zaxis.set_major_formatter(FormatStrFormatter('%.02f'))\n",
    "\n",
    "# Add a color bar which maps values to colors.\n",
    "fig.colorbar(surf, shrink=0.5, aspect=5)\n",
    "\n",
    "plt.show()\n",
    "\n",
    "max_Z=np.argmax(Z)\n",
    "print('t1=',X.flatten()[max_Z])\n",
    "print('t2=',Y.flatten()[max_Z])"
   ]
  },
  {
   "cell_type": "code",
   "execution_count": 280,
   "metadata": {},
   "outputs": [
    {
     "data": {
      "image/png": "[encoded data removed]",
      "text/plain": [
       "<Figure size 432x288 with 1 Axes>"
      ]
     },
     "metadata": {
      "needs_background": "light"
     },
     "output_type": "display_data"
    },
    {
     "name": "stdout",
     "output_type": "stream",
     "text": [
      "rho= 5.9\n"
     ]
    }
   ],
   "source": [
    "fig, ax = plt.subplots()\n",
    "\n",
    "# Make data.\n",
    "T = (2.7,2.7)\n",
    "X = np.arange(0,10, 0.1)\n",
    "# X, Y = np.meshgrid(X, Y)\n",
    "Y = (L(X,T,PAIR,(1,12)))\n",
    "\n",
    "# Plot the surface.\n",
    "# surf = ax.plot_surface(X, Y,Z=0, cmap=cm.coolwarm,linewidth=0, antialiased=False)\n",
    "ax.plot(X, Y, label='curve in (x,y)')\n",
    "\n",
    "# Customize the z axis.\n",
    "# ax.set_zlim(0, 0.000005)\n",
    "# ax.zaxis.set_major_locator(LinearLocator(10))\n",
    "# ax.zaxis.set_major_formatter(FormatStrFormatter('%.02f'))\n",
    "\n",
    "# Add a color bar which maps values to colors.\n",
    "# fig.colorbar(surf, shrink=0.5, aspect=5)\n",
    "\n",
    "plt.show()\n",
    "\n",
    "max_Y=np.argmax(Y)\n",
    "print('rho=',X.flatten()[max_Y])\n"
   ]
  },
  {
   "cell_type": "markdown",
   "metadata": {},
   "source": [
    "$$L(ρ, t|S)= \\prod_{i=1,...,{k \\choose 2}}L(ρ, t_i|s_i)$$"
   ]
  },
  {
   "cell_type": "code",
   "execution_count": 17,
   "metadata": {},
   "outputs": [
    {
     "ename": "NameError",
     "evalue": "name 'LL_floating_t' is not defined",
     "output_type": "error",
     "traceback": [
      "\u001b[0;31m---------------------------------------------------------------------------\u001b[0m",
      "\u001b[0;31mNameError\u001b[0m                                 Traceback (most recent call last)",
      "\u001b[0;32m<ipython-input-17-eafde23d1311>\u001b[0m in \u001b[0;36m<module>\u001b[0;34m\u001b[0m\n\u001b[1;32m     15\u001b[0m \u001b[0;34m\u001b[0m\u001b[0m\n\u001b[1;32m     16\u001b[0m     \u001b[0mpair_list\u001b[0m\u001b[0;34m+=\u001b[0m\u001b[0;34m[\u001b[0m\u001b[0mPAIR\u001b[0m\u001b[0;34m]\u001b[0m\u001b[0;34m\u001b[0m\u001b[0;34m\u001b[0m\u001b[0m\n\u001b[0;32m---> 17\u001b[0;31m     \u001b[0mt1t2_list\u001b[0m\u001b[0;34m+=\u001b[0m\u001b[0;34m[\u001b[0m\u001b[0mtuple\u001b[0m\u001b[0;34m(\u001b[0m\u001b[0mminimize\u001b[0m\u001b[0;34m(\u001b[0m\u001b[0mLL_floating_t\u001b[0m\u001b[0;34m,\u001b[0m\u001b[0;34m[\u001b[0m\u001b[0;36m1\u001b[0m\u001b[0;34m,\u001b[0m\u001b[0;36m1\u001b[0m\u001b[0;34m]\u001b[0m\u001b[0;34m,\u001b[0m\u001b[0mmethod\u001b[0m\u001b[0;34m=\u001b[0m\u001b[0;34m'Powell'\u001b[0m\u001b[0;34m,\u001b[0m\u001b[0margs\u001b[0m\u001b[0;34m=\u001b[0m\u001b[0;34m(\u001b[0m\u001b[0mrho\u001b[0m\u001b[0;34m,\u001b[0m\u001b[0mPAIR\u001b[0m\u001b[0;34m,\u001b[0m\u001b[0msize_lims\u001b[0m\u001b[0;34m)\u001b[0m\u001b[0;34m)\u001b[0m\u001b[0;34m.\u001b[0m\u001b[0mx\u001b[0m\u001b[0;34m)\u001b[0m\u001b[0;34m]\u001b[0m\u001b[0;34m\u001b[0m\u001b[0;34m\u001b[0m\u001b[0m\n\u001b[0m\u001b[1;32m     18\u001b[0m \u001b[0mt1t2_list\u001b[0m\u001b[0;34m\u001b[0m\u001b[0;34m\u001b[0m\u001b[0m\n\u001b[1;32m     19\u001b[0m \u001b[0mpair_list\u001b[0m\u001b[0;34m\u001b[0m\u001b[0;34m\u001b[0m\u001b[0m\n",
      "\u001b[0;31mNameError\u001b[0m: name 'LL_floating_t' is not defined"
     ]
    }
   ],
   "source": [
    "import itertools\n",
    "from CRISPR_functions import is_overlapping,CRISPR_pair\n",
    "from scipy.optimize import minimize\n",
    "\n",
    "arrays=[[9,2,3,4,5],[0,1,2,3,7,8],[1,10,11,12,13]]\n",
    "overlapping_arrays=[pair for pair in list(itertools.combinations(arrays,2)) if is_overlapping(pair[0],pair[1])==1]\n",
    "rho=5\n",
    "size_lims=[1,12]\n",
    "\n",
    "\n",
    "t1t2_list=[]\n",
    "pair_list=[]\n",
    "for pair in overlapping_arrays:\n",
    "    PAIR=CRISPR_pair(pair[0],pair[1])\n",
    "    \n",
    "    pair_list+=[PAIR]\n",
    "    t1t2_list+=[tuple(minimize(LL_floating_t,[1,1],method='Powell',args=(rho,PAIR,size_lims)).x)]\n",
    "t1t2_list\n",
    "pair_list\n",
    "\n",
    "def LL_floating_rho(x,t1t2_list,pair_list,size_lims):\n",
    "    return(sum([-np.log(L(x,t1t2_list[i],pair_list[i],size_lims)) for i in range(len(pair_list))]))\n",
    "\n",
    "print(minimize(LL_floating_rho,[2],method='Powell',args=(t1t2_list,pair_list,size_lims)).x)\n",
    "# LL_floating_rho(rho,t1t2_list,pair_list)\n"
   ]
  },
  {
   "cell_type": "code",
   "execution_count": 42,
   "metadata": {},
   "outputs": [],
   "source": [
    "def OPTIMIZE_rho(t1t2_list,pair_list,size_lims):\n",
    "    return(float(minimize(LL_floating_rho,[2],method='Powell',args=(t1t2_list,pair_list,size_lims)).x))\n",
    "\n",
    "def OPTIMIZE_t1t2(overlapping_arrays,size_lims):\n",
    "    t1t2_list=[]\n",
    "\n",
    "    for pair in overlapping_arrays:\n",
    "        PAIR=CRISPR_pair(pair[0],pair[1])\n",
    "        t1t2_list+=[tuple(minimize(LL_floating_t,[1,1],method='Powell',args=(rho,PAIR,size_lims)).x)]\n",
    "    \n",
    "    return(t1t2_list)\n",
    "    "
   ]
  },
  {
   "cell_type": "code",
   "execution_count": 43,
   "metadata": {},
   "outputs": [
    {
     "name": "stderr",
     "output_type": "stream",
     "text": [
      "/Users/maeperez/anaconda2/envs/py36/lib/python3.6/site-packages/ipykernel_launcher.py:23: RuntimeWarning: divide by zero encountered in log\n"
     ]
    },
    {
     "data": {
      "text/plain": [
       "7.225915758817064"
      ]
     },
     "execution_count": 43,
     "metadata": {},
     "output_type": "execute_result"
    }
   ],
   "source": [
    "OPTIMIZE_rho(t1t2_list,pair_list,size_lims)"
   ]
  },
  {
   "cell_type": "code",
   "execution_count": 44,
   "metadata": {},
   "outputs": [
    {
     "data": {
      "text/plain": [
       "[(2.6837588747545005, 2.683324575778658),\n",
       " (4.419151963274205, 4.436784498519175)]"
      ]
     },
     "execution_count": 44,
     "metadata": {},
     "output_type": "execute_result"
    }
   ],
   "source": [
    "OPTIMIZE_t1t2(overlapping_arrays,size_lims)"
   ]
  },
  {
   "cell_type": "code",
   "execution_count": null,
   "metadata": {},
   "outputs": [],
   "source": [
    "## take into account arrays that dont overlap\n"
   ]
  },
  {
   "cell_type": "code",
   "execution_count": 6,
   "metadata": {},
   "outputs": [],
   "source": [
    "import itertools\n",
    "from CRISPR_functions import is_overlapping\n",
    "\n",
    "arrays=[[9,2,3,4,5],[0,1,2,3,7,8],[1,10,11,12,13],[14,15]]\n",
    "non_overlapping_arrays=[pair for pair in list(itertools.combinations(arrays,2)) if is_overlapping(pair[0],pair[1])==0]\n",
    "\n"
   ]
  },
  {
   "cell_type": "code",
   "execution_count": 22,
   "metadata": {},
   "outputs": [
    {
     "name": "stdout",
     "output_type": "stream",
     "text": [
      "[([9, 2, 3, 4, 5], [1, 10, 11, 12, 13]), ([9, 2, 3, 4, 5], [14, 15]), ([0, 1, 2, 3, 7, 8], [14, 15]), ([1, 10, 11, 12, 13], [14, 15])]\n"
     ]
    },
    {
     "data": {
      "text/plain": [
       "18.472356709520355"
      ]
     },
     "execution_count": 22,
     "metadata": {},
     "output_type": "execute_result"
    }
   ],
   "source": [
    "from CRISPR_functions import prob_n_given_ro,L\n",
    "import numpy as np\n",
    "rho=6\n",
    "print(non_overlapping_arrays)\n",
    "\n",
    "\n",
    "sum([-np.log(prob_n_given_ro(len(pair[0]),rho)*prob_n_given_ro(len(pair[1]),rho)) for pair in non_overlapping_arrays])"
   ]
  },
  {
   "cell_type": "code",
   "execution_count": 27,
   "metadata": {},
   "outputs": [],
   "source": [
    "def neg_LL_floating_rho(x,t1t2_list,pair_list,size_lims,non_non_overlapping_arrays):\n",
    "    import numpy as np\n",
    "    \n",
    "    return(sum([-np.log(L(rho=x,t=t1t2_list[i],PAIR=pair_list[i],size_lims=size_lims)) for i in range(len(pair_list))])+sum([-np.log(prob_n_given_ro(len(pair[0]),x)*prob_n_given_ro(len(pair[1]),x)) for pair in non_overlapping_arrays]))\n",
    "\n",
    "\n",
    "def OPTIMIZE_rho(t1t2_list,pair_list,size_lims,non_overlapping_arrays):\n",
    "    from scipy.optimize import minimize\n",
    "    return(float(minimize(neg_LL_floating_rho,[2],method='Powell',args=(t1t2_list,pair_list,size_lims,non_overlapping_arrays)).x))\n",
    "\n",
    "# OPTIMIZE_rho(t1t2_list,pair_list,size_lims,non_overlapping_arrays)"
   ]
  },
  {
   "cell_type": "markdown",
   "metadata": {},
   "source": [
    "# To do next time: \n",
    "## Check convergence function\n",
    "## deal with RuntimeWarning: divide by zero encountered in log\n",
    "## Parallelize"
   ]
  },
  {
   "cell_type": "markdown",
   "metadata": {},
   "source": [
    "# PSEUDO CODE FOR THE FULL ALGORITHM\n",
    "\n",
    "## 1. Load packages I need\n",
    "numpy\n",
    "CRISPR_functions\n",
    "itertools combinations\n",
    "scipy\n",
    "mppath; define float precision\n",
    "\n",
    "## 2. Get variables that won't need to be updated\n",
    "\n",
    "List of pairs with overlaps\n",
    "List of pais with no overlaps\n",
    "Ancestor size limits\n",
    "rho_init\n",
    "\n",
    "List of ancestors for each overlapping pair (parallelize)\n",
    "\n",
    "## 3 Estimate t1,t2 (parallelize)\n",
    "get t1,t2 list\n",
    "## 4 Estimate rho\n",
    "outputs rho + -LL\n",
    "check for convergence\n",
    "## Repeat step 3, 4\n"
   ]
  },
  {
   "cell_type": "code",
   "execution_count": 44,
   "metadata": {},
   "outputs": [
    {
     "ename": "TypeError",
     "evalue": "loop of ufunc does not support argument 0 of type mpf which has no callable exp method",
     "output_type": "error",
     "traceback": [
      "\u001b[0;31m---------------------------------------------------------------------------\u001b[0m",
      "\u001b[0;31mTypeError\u001b[0m                                 Traceback (most recent call last)",
      "\u001b[0;32m<ipython-input-44-31945dc10496>\u001b[0m in \u001b[0;36m<module>\u001b[0;34m\u001b[0m\n\u001b[1;32m     10\u001b[0m \u001b[0;34m\u001b[0m\u001b[0m\n\u001b[1;32m     11\u001b[0m \u001b[0mprob_n_given_ro\u001b[0m\u001b[0;34m(\u001b[0m\u001b[0mn\u001b[0m\u001b[0;34m,\u001b[0m\u001b[0mrho\u001b[0m\u001b[0;34m)\u001b[0m\u001b[0;34m\u001b[0m\u001b[0;34m\u001b[0m\u001b[0m\n\u001b[0;32m---> 12\u001b[0;31m \u001b[0mnp\u001b[0m\u001b[0;34m.\u001b[0m\u001b[0mexp\u001b[0m\u001b[0;34m(\u001b[0m\u001b[0mmu\u001b[0m\u001b[0;34m)\u001b[0m\u001b[0;34m\u001b[0m\u001b[0;34m\u001b[0m\u001b[0m\n\u001b[0m",
      "\u001b[0;31mTypeError\u001b[0m: loop of ufunc does not support argument 0 of type mpf which has no callable exp method"
     ]
    }
   ],
   "source": [
    "from mpmath import mpf,mp\n",
    "\n",
    "mp.dps = 100\n",
    "mu=mpf(1)\n",
    "t=mpf(6)\n",
    "mu/t\n",
    "t/mu\n",
    "rho=mpf(6)\n",
    "n=mpf(4)\n",
    "\n",
    "prob_n_given_ro(n,rho)\n",
    "np.exp(mu)"
   ]
  },
  {
   "cell_type": "code",
   "execution_count": 70,
   "metadata": {},
   "outputs": [],
   "source": [
    "from numpy import math\n",
    "np.math.factorial(2)\n",
    "\n",
    "from mpmath import findroot\n"
   ]
  },
  {
   "cell_type": "code",
   "execution_count": 71,
   "metadata": {},
   "outputs": [
    {
     "name": "stdout",
     "output_type": "stream",
     "text": [
      "3 <class 'int'>\n"
     ]
    },
    {
     "data": {
      "text/plain": [
       "0.000001037508416030872255866458854889649509479700845193001650914267582784400443697565004723435042088354473"
      ]
     },
     "execution_count": 71,
     "metadata": {},
     "output_type": "execute_result"
    }
   ],
   "source": [
    "def L(rho,t,PAIR,size_lims):\n",
    "    '''The likelihood of a pair of spacer arrays (s1, s2) with\n",
    "times (t1, t2) anf rho'''\n",
    "    from CRISPR_functions import prob_n_given_ro, combi, CRISPR_pair, M, I, D\n",
    "    from mpmath import mpf\n",
    "    if not isinstance(rho, mpf):\n",
    "        print(str(rho)+' '+ str(type(rho)))\n",
    "    \n",
    "    t1=t[0]\n",
    "    t2=t[1]\n",
    "    l1=size_lims[0]\n",
    "    l2=size_lims[1]\n",
    "    lbda=rho/(rho+1)\n",
    "    mu=1/(rho+1)\n",
    "    \n",
    "    ancestors_dic= PAIR.get_combi(size_lims)\n",
    "    Likelihood=0\n",
    "    \n",
    "    for s0,ws in ancestors_dic.items():\n",
    "        combi_s0 = combi(list(map(int,s0.split('-'))))\n",
    "        n=combi_s0.n\n",
    "\n",
    "        m1,d1,j1,m2,d2,j2 = combi_s0.compare_ancestor_to_arrays(PAIR)\n",
    "\n",
    "        Qa = prob_n_given_ro(n,rho)*ws\n",
    "        T1 = M(m1,t1,mu)*D(d1,t1,mu)*I(j1,t1,lbda,mu)\n",
    "        T2 = M(m2,t2,mu)*D(d2,t2,mu)*I(j2,t2,lbda,mu)\n",
    "        \n",
    "        Likelihood += Qa*T1*T2\n",
    "    \n",
    "    return(Likelihood)\n",
    "\n",
    "import CRISPR_functions\n",
    "from CRISPR_functions import CRISPR_pair\n",
    "import importlib\n",
    "importlib.reload(CRISPR_functions) \n",
    "\n",
    "rho=3\n",
    "PAIR=CRISPR_pair([9,2,3,4,5],[0,1,2,3,7,8])\n",
    "size_lims=(0,12)\n",
    "t=(2,2)\n",
    "L(rho,t,PAIR,size_lims)"
   ]
  },
  {
   "cell_type": "code",
   "execution_count": 86,
   "metadata": {},
   "outputs": [
    {
     "name": "stdout",
     "output_type": "stream",
     "text": [
      "mu [-3.416] <class 'numpy.ndarray'>\n",
      "mu_mpf [-3.415999999999999925393012745189480483531951904296875] <class 'numpy.ndarray'>\n",
      "t 2.5621927111282803 <class 'float'>\n",
      "m 4 <class 'int'>\n",
      "inner [35.00980120485682107576441618314950652012091010397941110256821856117070979053096380084753036499023438]\n",
      "M 1601634723652703.88512749849075882530862053988595294772621393360031140000466744342470682400003811711 <class 'mpmath.ctx_mp_python.mpf'>\n"
     ]
    },
    {
     "data": {
      "text/plain": [
       "1601634723652703.88512749849075882530862053988595294772621393360031140000466744342470682400003811711"
      ]
     },
     "execution_count": 86,
     "metadata": {},
     "output_type": "execute_result"
    }
   ],
   "source": [
    "def M(m,t,mu):\n",
    "    '''probability of preserving m spacers in time t : M(m|t,mu)'''\n",
    "    from mpmath import mpf,mp\n",
    "#     import numpy as np\n",
    "    mp.dps = 100; mp.pretty = True\n",
    "#     if isinstance(mu, np.ndarray) and len(x)==1:\n",
    "    print('mu',mu,type(mu))\n",
    "    mu=mu*mpf(1)\n",
    "    print('mu_mpf',mu,type(mu))\n",
    "\n",
    "    print('t',t,type(t))\n",
    "    print('m',m,type(m))\n",
    "    print('inner',-m*t*mu)\n",
    "    M=mp.exp((-m*t*mu)[0])\n",
    "    print('M',M,type(M))\n",
    "#     M = np.frompyfunc(mp.exp(-m*t*mu))\n",
    "    return(M)\n",
    "\n",
    "t=2.5621927111282803\n",
    "m=4\n",
    "mu=np.array([-3.416])\n",
    "\n",
    "M(m,t,mu)"
   ]
  },
  {
   "cell_type": "code",
   "execution_count": 172,
   "metadata": {},
   "outputs": [
    {
     "name": "stdout",
     "output_type": "stream",
     "text": [
      "[0 1 2 3 4 5 6 7 8 9] <class 'numpy.ndarray'>\n",
      "[0 1 2 3 4 5 6 7 8 9] <class 'numpy.ndarray'>\n"
     ]
    },
    {
     "data": {
      "image/png": "[encoded data removed]",
      "text/plain": [
       "<Figure size 432x288 with 1 Axes>"
      ]
     },
     "metadata": {
      "needs_background": "light"
     },
     "output_type": "display_data"
    },
    {
     "name": "stdout",
     "output_type": "stream",
     "text": [
      "rho= 6\n"
     ]
    }
   ],
   "source": [
    "import CRISPR_functions\n",
    "from CRISPR_functions import OPTIMIZE_t1t2\n",
    "import importlib\n",
    "importlib.reload(CRISPR_functions) \n",
    "\n",
    "def neg_LL_floating_rho(x,t1t2_list,pair_list,size_lims,non_overlapping_arrays):\n",
    "    from mpmath import mpf,mp\n",
    "    import numpy as np\n",
    "    mp.dps = 100; mp.pretty = True\n",
    "    \n",
    "    log_array = np.frompyfunc(mp.log, 1, 1)\n",
    "\n",
    "    neg_LL_overlapping=sum([-log_array(L(rho=x,t=t1t2_list[i],PAIR=pair_list[i],size_lims=size_lims)) for i in range(len(pair_list))])\n",
    "    neg_LL_non_overlapping=sum([-log_array(prob_n_given_ro(len(pair[0]),x)*prob_n_given_ro(len(pair[1]),x)) for pair in non_overlapping_arrays])\n",
    "    return(neg_LL_overlapping+neg_LL_non_overlapping)\n",
    "\n",
    "\n",
    "\n",
    "size_lims=(1,11)\n",
    "t1t2_list=[(2.5621927111282803, 2.5618452989812335), (4.1580408364803265, 4.172748284661945)]\n",
    "pair_list=[CRISPR_pair(pair[0],pair[1]) for pair in overlapping_arrays]\n",
    "non_overlapping_arrays=[pair for pair in list(itertools.combinations(arrays,2)) if is_overlapping(pair[0],pair[1])==0]\n",
    "x=np.arange(0,10)\n",
    "#x=x*mpf(1)\n",
    "LLs=neg_LL_floating_rho(x,t1t2_list,pair_list,size_lims,non_overlapping_arrays)\n",
    "\n",
    "\n",
    "import matplotlib.pyplot as plt\n",
    "fig, ax = plt.subplots()\n",
    "X=x\n",
    "Y = LLs\n",
    "ax.plot(X, Y, label='curve in (x,y)')\n",
    "\n",
    "plt.show()\n",
    "\n",
    "max_Y=np.argmin(Y)\n",
    "print('rho=',X.flatten()[max_Y])"
   ]
  },
  {
   "cell_type": "markdown",
   "metadata": {},
   "source": [
    "# Make distance matrix"
   ]
  },
  {
   "cell_type": "markdown",
   "metadata": {},
   "source": [
    "Phylogeny computation using CRISPR distances\n",
    "The sum of the estimated times given two strains, τ, can\n",
    "be interpreted as the distance between these two strains.\n",
    "These distances can be used to compute a distance-based\n",
    "phylogeny using neighbor joining [32] as was presented\n",
    "by Huson and Steel [33]. For the non-reversible models,\n",
    "however, there is more information available, since there\n",
    "is an estimate for the distance of the last common ancestor\n",
    "to each of the two strains. We use a modified neighbor\n",
    "joining method to utilize this information and refer to it\n",
    "as rooted neighbor joining.We describe the algorithm with\n",
    "an example.\n",
    "Input: For k taxa, all\n",
    "\u0002\n",
    "k\n",
    "2\n",
    "\u0003\n",
    "pairs with rooted time estimates,\n",
    "that is dx,y for the distance to taxon x from the\n",
    "ancestor of the pair (x, y).\n",
    "Output: A rooted phylogenetic tree with times t."
   ]
  },
  {
   "cell_type": "markdown",
   "metadata": {},
   "source": [
    "Algorithm:\n",
    "1. Compute the weights for all pairs (x, y):\n",
    "wx,y =\n",
    "\u0005\n",
    "z\u0006=x,y\n",
    "(dx,z − dx,y + dy,z − dy,x)\n",
    "= (2 − k)(dx,y + dy,x) +\n",
    "\u0005\n",
    "z\u0006=x,y\n",
    "(dx,z + dy,z)\n",
    "2. Choose the pair with maximal weight wx,y. Create a\n",
    "new node r that is the ancestor of (x, y) with\n",
    "tr,x = dx,y and tr,y = dy,x.\n",
    "3. Compute the distances between all other nodes z and\n",
    "r :\n",
    "dr,z = 1\n",
    "2(dx,z−dx,y+dy,z−dy,x), dz,r = 1\n",
    "2(dz,x+dz,y)\n",
    "4. If only one node is left, return it as the root, else\n",
    "continue with step 1.\n",
    "By construction, the method results in the correct\n",
    "rooted tree if the distances were extracted from a rooted\n",
    "tree.We show this for three taxa.\n",
    "For three taxa, there is only one clade, we choose (1,2)\n",
    "to be the correct clade. Then the branch lengths are given\n",
    "in Figure 6."
   ]
  },
  {
   "cell_type": "markdown",
   "metadata": {},
   "source": [
    "## 0. get optimal t1,t2 distances and make matrix"
   ]
  },
  {
   "cell_type": "code",
   "execution_count": 1,
   "metadata": {},
   "outputs": [
    {
     "name": "stdout",
     "output_type": "stream",
     "text": [
      "iteration 1...\n",
      "iteration 2...\n",
      "iteration 3...\n",
      "iteration 4...\n",
      "iteration 5...\n",
      "iteration 6...\n"
     ]
    }
   ],
   "source": [
    "from mpmath import mpf\n",
    "import itertools\n",
    "from itertools import combinations\n",
    "import numpy as np\n",
    "\n",
    "import CRISPR_functions\n",
    "from CRISPR_functions import get_limits_ancestor_sizes,CRISPR_pair, OPTIMIZE_rho,OPTIMIZE_t1t2,is_overlapping\n",
    "import importlib\n",
    "importlib.reload(CRISPR_functions)\n",
    "\n",
    "arrays=[[9,2,3,4,5],[0,1,2,3,7,8],[1,10,11,12,13],[13,14]]\n",
    "overlapping_arrays=[pair for pair in list(itertools.combinations(arrays,2)) if is_overlapping(pair[0],pair[1])==1]\n",
    "\n",
    "## first step\n",
    "rho_init=mpf(sum([len(ar) for ar in arrays])/len([len(ar) for ar in arrays]))\n",
    "size_lims=get_limits_ancestor_sizes(arrays)\n",
    "t1t2_list=OPTIMIZE_t1t2(overlapping_arrays, rho_init, size_lims)\n",
    "pair_list=[CRISPR_pair(pair[0],pair[1]) for pair in overlapping_arrays]\n",
    "non_overlapping_arrays=[pair for pair in list(itertools.combinations(arrays,2)) if is_overlapping(pair[0],pair[1])==0]\n",
    "(rho_update, neg_LL_update) = OPTIMIZE_rho(t1t2_list,pair_list,size_lims,non_overlapping_arrays)\n",
    "\n",
    "## iterate\n",
    "Init_LL=[np.inf]\n",
    "i=0\n",
    "step_list=[0]\n",
    "rho_list=[rho_update]\n",
    "convergence='False'\n",
    "while convergence=='False':\n",
    "    i+=1\n",
    "    print('iteration '+str(i)+'...')\n",
    "    step_list+=[i]\n",
    "    previous_LL=Init_LL[-1]\n",
    "    t1t2_list=OPTIMIZE_t1t2(overlapping_arrays, rho_update, size_lims)\n",
    "    OPTIMIZE_rho(t1t2_list,pair_list,size_lims,non_overlapping_arrays)\n",
    "    (rho_update, neg_LL_update) = OPTIMIZE_rho(t1t2_list,pair_list,size_lims,non_overlapping_arrays)\n",
    "    Init_LL+=[neg_LL_update[0]]\n",
    "    rho_list+=[rho_update]\n",
    "    if neg_LL_update[0]>previous_LL:\n",
    "        convergence='True'\n",
    "final_dist=dict(zip(pair_list,t1t2_list))\n"
   ]
  },
  {
   "cell_type": "code",
   "execution_count": 3,
   "metadata": {},
   "outputs": [
    {
     "data": {
      "text/html": [
       "<div>\n",
       "<style scoped>\n",
       "    .dataframe tbody tr th:only-of-type {\n",
       "        vertical-align: middle;\n",
       "    }\n",
       "\n",
       "    .dataframe tbody tr th {\n",
       "        vertical-align: top;\n",
       "    }\n",
       "\n",
       "    .dataframe thead th {\n",
       "        text-align: right;\n",
       "    }\n",
       "</style>\n",
       "<table border=\"1\" class=\"dataframe\">\n",
       "  <thead>\n",
       "    <tr style=\"text-align: right;\">\n",
       "      <th></th>\n",
       "      <th>0</th>\n",
       "      <th>1</th>\n",
       "      <th>2</th>\n",
       "      <th>3</th>\n",
       "    </tr>\n",
       "  </thead>\n",
       "  <tbody>\n",
       "    <tr>\n",
       "      <th>0</th>\n",
       "      <td>NaN</td>\n",
       "      <td>NaN</td>\n",
       "      <td>NaN</td>\n",
       "      <td>NaN</td>\n",
       "    </tr>\n",
       "    <tr>\n",
       "      <th>1</th>\n",
       "      <td>NaN</td>\n",
       "      <td>NaN</td>\n",
       "      <td>NaN</td>\n",
       "      <td>NaN</td>\n",
       "    </tr>\n",
       "    <tr>\n",
       "      <th>2</th>\n",
       "      <td>NaN</td>\n",
       "      <td>NaN</td>\n",
       "      <td>NaN</td>\n",
       "      <td>NaN</td>\n",
       "    </tr>\n",
       "    <tr>\n",
       "      <th>3</th>\n",
       "      <td>NaN</td>\n",
       "      <td>NaN</td>\n",
       "      <td>NaN</td>\n",
       "      <td>NaN</td>\n",
       "    </tr>\n",
       "  </tbody>\n",
       "</table>\n",
       "</div>"
      ],
      "text/plain": [
       "    0   1   2   3\n",
       "0 NaN NaN NaN NaN\n",
       "1 NaN NaN NaN NaN\n",
       "2 NaN NaN NaN NaN\n",
       "3 NaN NaN NaN NaN"
      ]
     },
     "execution_count": 3,
     "metadata": {},
     "output_type": "execute_result"
    }
   ],
   "source": [
    "names=[i for i in range(len(arrays))]\n",
    "seqs=['-'.join(map(str,arr)) for arr in arrays]\n",
    "\n",
    "dic=dict(zip(names+seqs,seqs+names))\n",
    "dic\n",
    "import pandas as pd\n",
    "df=pd.DataFrame(np.nan,columns=names,index=names)\n",
    "dp=pd.DataFrame(np.nan,columns=names,index=names)\n",
    "\n",
    "df ## distance to ancestor\n",
    "#dp ## distance between pairs"
   ]
  },
  {
   "cell_type": "code",
   "execution_count": 4,
   "metadata": {},
   "outputs": [
    {
     "data": {
      "text/html": [
       "<div>\n",
       "<style scoped>\n",
       "    .dataframe tbody tr th:only-of-type {\n",
       "        vertical-align: middle;\n",
       "    }\n",
       "\n",
       "    .dataframe tbody tr th {\n",
       "        vertical-align: top;\n",
       "    }\n",
       "\n",
       "    .dataframe thead th {\n",
       "        text-align: right;\n",
       "    }\n",
       "</style>\n",
       "<table border=\"1\" class=\"dataframe\">\n",
       "  <thead>\n",
       "    <tr style=\"text-align: right;\">\n",
       "      <th></th>\n",
       "      <th>0</th>\n",
       "      <th>1</th>\n",
       "      <th>2</th>\n",
       "      <th>3</th>\n",
       "    </tr>\n",
       "  </thead>\n",
       "  <tbody>\n",
       "    <tr>\n",
       "      <th>0</th>\n",
       "      <td>NaN</td>\n",
       "      <td>1.961298</td>\n",
       "      <td>NaN</td>\n",
       "      <td>NaN</td>\n",
       "    </tr>\n",
       "    <tr>\n",
       "      <th>1</th>\n",
       "      <td>2.567483</td>\n",
       "      <td>NaN</td>\n",
       "      <td>2.776145</td>\n",
       "      <td>NaN</td>\n",
       "    </tr>\n",
       "    <tr>\n",
       "      <th>2</th>\n",
       "      <td>NaN</td>\n",
       "      <td>2.269163</td>\n",
       "      <td>NaN</td>\n",
       "      <td>6.050256</td>\n",
       "    </tr>\n",
       "    <tr>\n",
       "      <th>3</th>\n",
       "      <td>NaN</td>\n",
       "      <td>NaN</td>\n",
       "      <td>0.000000</td>\n",
       "      <td>NaN</td>\n",
       "    </tr>\n",
       "  </tbody>\n",
       "</table>\n",
       "</div>"
      ],
      "text/plain": [
       "          0         1         2         3\n",
       "0       NaN  1.961298       NaN       NaN\n",
       "1  2.567483       NaN  2.776145       NaN\n",
       "2       NaN  2.269163       NaN  6.050256\n",
       "3       NaN       NaN  0.000000       NaN"
      ]
     },
     "execution_count": 4,
     "metadata": {},
     "output_type": "execute_result"
    }
   ],
   "source": [
    "for k,v in final_dist.items():\n",
    "    x=dic['-'.join(map(str,k.s1))] #row \"distance from common ancestor to x...\"\n",
    "    y=dic['-'.join(map(str,k.s2))] # column \"...when associated to y\"\n",
    "    d_xy=v[0]\n",
    "    d_yx=v[1]\n",
    "    \n",
    "    df.loc[x,y]=d_xy\n",
    "    df.loc[y,x]=d_yx\n",
    "    dp.loc[x,y]=d_xy+d_yx\n",
    "    dp.loc[y,x]=d_xy+d_yx\n",
    "    \n",
    "df"
   ]
  },
  {
   "cell_type": "markdown",
   "metadata": {},
   "source": [
    "## 1. Compute the weights for all pairs"
   ]
  },
  {
   "cell_type": "code",
   "execution_count": 5,
   "metadata": {},
   "outputs": [
    {
     "name": "stdout",
     "output_type": "stream",
     "text": [
      "[[9, 2, 3, 4, 5], [0, 1, 2, 3, 7, 8], [1, 10, 11, 12, 13], [13, 14]]\n"
     ]
    },
    {
     "data": {
      "text/plain": [
       "[(0, 1, (1.961298119967464, 2.567482947542273)),\n",
       " (1, 2, (2.7761445856511497, 2.2691627856749466)),\n",
       " (2, 3, (6.0502557260284515, 0.0))]"
      ]
     },
     "execution_count": 5,
     "metadata": {},
     "output_type": "execute_result"
    }
   ],
   "source": [
    "# [((k.s1,k.s2),v) for k,v in final_dist.items]\n",
    "print(arrays)\n",
    "[(dic['-'.join(map(str,k.s1))],dic['-'.join(map(str,k.s2))],v) for k,v in final_dist.items()]"
   ]
  },
  {
   "cell_type": "code",
   "execution_count": 239,
   "metadata": {},
   "outputs": [],
   "source": []
  },
  {
   "cell_type": "code",
   "execution_count": 6,
   "metadata": {},
   "outputs": [
    {
     "name": "stdout",
     "output_type": "stream",
     "text": [
      "(1, 2)\n"
     ]
    },
    {
     "ename": "NameError",
     "evalue": "name 'wt' is not defined",
     "output_type": "error",
     "traceback": [
      "\u001b[0;31m---------------------------------------------------------------------------\u001b[0m",
      "\u001b[0;31mNameError\u001b[0m                                 Traceback (most recent call last)",
      "\u001b[0;32m<ipython-input-6-b73ff70f59ee>\u001b[0m in \u001b[0;36m<module>\u001b[0;34m\u001b[0m\n\u001b[1;32m     21\u001b[0m \u001b[0mmax_pair\u001b[0m\u001b[0;34m=\u001b[0m\u001b[0mget_weights_for_all_pairs\u001b[0m\u001b[0;34m(\u001b[0m\u001b[0mdf\u001b[0m\u001b[0;34m)\u001b[0m\u001b[0;34m\u001b[0m\u001b[0;34m\u001b[0m\u001b[0m\n\u001b[1;32m     22\u001b[0m \u001b[0mprint\u001b[0m\u001b[0;34m(\u001b[0m\u001b[0mmax_pair\u001b[0m\u001b[0;34m)\u001b[0m\u001b[0;34m\u001b[0m\u001b[0;34m\u001b[0m\u001b[0m\n\u001b[0;32m---> 23\u001b[0;31m \u001b[0mwt\u001b[0m\u001b[0;34m\u001b[0m\u001b[0;34m\u001b[0m\u001b[0m\n\u001b[0m",
      "\u001b[0;31mNameError\u001b[0m: name 'wt' is not defined"
     ]
    }
   ],
   "source": [
    "\n",
    "def get_weights_for_all_pairs(df):\n",
    "    '''\n",
    "    Given a non-reversible distance matrix as pandas DataFrame, compute the weights for all pairs (x, y). Outputs the pair with maximum weight\n",
    "    '''\n",
    "    wt=pd.DataFrame(np.nan,columns=df.columns,index=df.index)\n",
    "\n",
    "    for tu in list(itertools.permutations(df.columns,2)):\n",
    "        x=tu[0]\n",
    "        y=tu[1]\n",
    "        d_xy=df.loc[x,y]\n",
    "        d_yx=df.loc[y,x]\n",
    "        d_xz=sum(df.loc[x,:].drop([x,y]).fillna(0))\n",
    "        d_yz=sum(df.loc[y,:].drop([x,y]).fillna(0))\n",
    "        wt.loc[x,y]=((2-len(df.columns))*(d_xy+d_yx))+d_xz+d_yz\n",
    "    \n",
    "    max_x=wt.max().idxmax()\n",
    "    max_y=wt.loc[wt.max().idxmax()].idxmax()\n",
    "    max_pair=(max_x,max_y)\n",
    "    return(max_pair)\n",
    "    \n",
    "max_pair=get_weights_for_all_pairs(df)\n",
    "print(max_pair)\n"
   ]
  },
  {
   "cell_type": "markdown",
   "metadata": {},
   "source": [
    "## 2. Choose the pair with maximal weight wx,y. Create a\n",
    "new node r that is the ancestor of (x, y) with\n",
    "tr,x = dx,y and tr,y = dy,x."
   ]
  },
  {
   "cell_type": "code",
   "execution_count": 297,
   "metadata": {},
   "outputs": [
    {
     "name": "stdout",
     "output_type": "stream",
     "text": [
      "(1, 2)\n"
     ]
    }
   ],
   "source": [
    "wt,max_pair=get_weights_for_all_pairs(df)\n",
    "print(max_pair)"
   ]
  },
  {
   "cell_type": "code",
   "execution_count": 7,
   "metadata": {},
   "outputs": [
    {
     "ename": "IndexError",
     "evalue": "invalid index to scalar variable.",
     "output_type": "error",
     "traceback": [
      "\u001b[0;31m---------------------------------------------------------------------------\u001b[0m",
      "\u001b[0;31mIndexError\u001b[0m                                Traceback (most recent call last)",
      "\u001b[0;32m<ipython-input-7-5d6d48767125>\u001b[0m in \u001b[0;36m<module>\u001b[0;34m\u001b[0m\n\u001b[1;32m     33\u001b[0m \u001b[0mwt\u001b[0m\u001b[0;34m,\u001b[0m\u001b[0mmax_pair\u001b[0m\u001b[0;34m=\u001b[0m\u001b[0mget_weights_for_all_pairs\u001b[0m\u001b[0;34m(\u001b[0m\u001b[0mdf\u001b[0m\u001b[0;34m)\u001b[0m\u001b[0;34m\u001b[0m\u001b[0;34m\u001b[0m\u001b[0m\n\u001b[1;32m     34\u001b[0m \u001b[0;34m\u001b[0m\u001b[0m\n\u001b[0;32m---> 35\u001b[0;31m \u001b[0mdf2\u001b[0m\u001b[0;34m=\u001b[0m\u001b[0mget_new_node_distance\u001b[0m\u001b[0;34m(\u001b[0m\u001b[0mdf\u001b[0m\u001b[0;34m,\u001b[0m\u001b[0mmax_pair\u001b[0m\u001b[0;34m)\u001b[0m\u001b[0;34m\u001b[0m\u001b[0;34m\u001b[0m\u001b[0m\n\u001b[0m\u001b[1;32m     36\u001b[0m \u001b[0mdf2\u001b[0m\u001b[0;34m\u001b[0m\u001b[0;34m\u001b[0m\u001b[0m\n",
      "\u001b[0;32m<ipython-input-7-5d6d48767125>\u001b[0m in \u001b[0;36mget_new_node_distance\u001b[0;34m(df, max_pair)\u001b[0m\n\u001b[1;32m     22\u001b[0m     \u001b[0mdf2\u001b[0m\u001b[0;34m=\u001b[0m\u001b[0mdf\u001b[0m\u001b[0;34m.\u001b[0m\u001b[0mcopy\u001b[0m\u001b[0;34m(\u001b[0m\u001b[0;34m)\u001b[0m\u001b[0;34m\u001b[0m\u001b[0;34m\u001b[0m\u001b[0m\n\u001b[1;32m     23\u001b[0m     \u001b[0mt\u001b[0m\u001b[0;34m=\u001b[0m\u001b[0mdf\u001b[0m\u001b[0;34m.\u001b[0m\u001b[0mindex\u001b[0m\u001b[0;34m.\u001b[0m\u001b[0mmax\u001b[0m\u001b[0;34m(\u001b[0m\u001b[0;34m)\u001b[0m\u001b[0;34m+\u001b[0m\u001b[0;36m1\u001b[0m\u001b[0;34m\u001b[0m\u001b[0;34m\u001b[0m\u001b[0m\n\u001b[0;32m---> 24\u001b[0;31m     \u001b[0mx\u001b[0m\u001b[0;34m=\u001b[0m\u001b[0mmax_pair\u001b[0m\u001b[0;34m[\u001b[0m\u001b[0;36m0\u001b[0m\u001b[0;34m]\u001b[0m\u001b[0;34m\u001b[0m\u001b[0;34m\u001b[0m\u001b[0m\n\u001b[0m\u001b[1;32m     25\u001b[0m     \u001b[0my\u001b[0m\u001b[0;34m=\u001b[0m\u001b[0mmax_pair\u001b[0m\u001b[0;34m[\u001b[0m\u001b[0;36m1\u001b[0m\u001b[0;34m]\u001b[0m\u001b[0;34m\u001b[0m\u001b[0;34m\u001b[0m\u001b[0m\n\u001b[1;32m     26\u001b[0m     \u001b[0mdf2\u001b[0m\u001b[0;34m.\u001b[0m\u001b[0mloc\u001b[0m\u001b[0;34m[\u001b[0m\u001b[0mt\u001b[0m\u001b[0;34m]\u001b[0m \u001b[0;34m=\u001b[0m \u001b[0;34m(\u001b[0m\u001b[0;34m(\u001b[0m\u001b[0mdf\u001b[0m\u001b[0;34m.\u001b[0m\u001b[0mloc\u001b[0m\u001b[0;34m[\u001b[0m\u001b[0mx\u001b[0m\u001b[0;34m,\u001b[0m\u001b[0;34m:\u001b[0m\u001b[0;34m]\u001b[0m\u001b[0;34m-\u001b[0m\u001b[0mdf\u001b[0m\u001b[0;34m.\u001b[0m\u001b[0mloc\u001b[0m\u001b[0;34m[\u001b[0m\u001b[0mx\u001b[0m\u001b[0;34m,\u001b[0m\u001b[0my\u001b[0m\u001b[0;34m]\u001b[0m\u001b[0;34m)\u001b[0m\u001b[0;34m.\u001b[0m\u001b[0mfillna\u001b[0m\u001b[0;34m(\u001b[0m\u001b[0;36m0\u001b[0m\u001b[0;34m)\u001b[0m\u001b[0;34m+\u001b[0m\u001b[0;34m(\u001b[0m\u001b[0mdf\u001b[0m\u001b[0;34m.\u001b[0m\u001b[0mloc\u001b[0m\u001b[0;34m[\u001b[0m\u001b[0my\u001b[0m\u001b[0;34m,\u001b[0m\u001b[0;34m:\u001b[0m\u001b[0;34m]\u001b[0m\u001b[0;34m-\u001b[0m\u001b[0mdf\u001b[0m\u001b[0;34m.\u001b[0m\u001b[0mloc\u001b[0m\u001b[0;34m[\u001b[0m\u001b[0my\u001b[0m\u001b[0;34m,\u001b[0m\u001b[0mx\u001b[0m\u001b[0;34m]\u001b[0m\u001b[0;34m)\u001b[0m\u001b[0;34m.\u001b[0m\u001b[0mfillna\u001b[0m\u001b[0;34m(\u001b[0m\u001b[0;36m0\u001b[0m\u001b[0;34m)\u001b[0m\u001b[0;34m)\u001b[0m\u001b[0;34m/\u001b[0m\u001b[0;36m2\u001b[0m\u001b[0;34m\u001b[0m\u001b[0;34m\u001b[0m\u001b[0m\n",
      "\u001b[0;31mIndexError\u001b[0m: invalid index to scalar variable."
     ]
    }
   ],
   "source": [
    "names=[i for i in range(len(arrays))]\n",
    "seqs=['-'.join(map(str,arr)) for arr in arrays]\n",
    "\n",
    "dic=dict(zip(names+seqs,seqs+names))\n",
    "dic\n",
    "import pandas as pd\n",
    "df=pd.DataFrame(np.nan,columns=names,index=names)\n",
    "\n",
    "for k,v in final_dist.items():\n",
    "    x=dic['-'.join(map(str,k.s1))] #row \"distance from common ancestor to x...\"\n",
    "    y=dic['-'.join(map(str,k.s2))] # column \"...when associated to y\"\n",
    "    d_xy=v[0]\n",
    "    d_yx=v[1]\n",
    "    \n",
    "    df.loc[x,y]=d_xy\n",
    "    df.loc[y,x]=d_yx\n",
    "\n",
    "def get_new_node_distance(df,max_pair):\n",
    "    ''' Given a non-reversible distance matrix as pandas DataFrame and the pair of closest neighbors, create new node and calculate distance to new node. Outputs the non-reversible distance matric with new node. Note that the initial pair is not dropped from the df  '''\n",
    "    from Bio.Phylo import BaseTree,draw_ascii\n",
    "    from Bio.Phylo.BaseTree import Clade,Tree\n",
    "    df2=df.copy()\n",
    "    t=df.index.max()+1\n",
    "    x=max_pair[0]\n",
    "    y=max_pair[1]\n",
    "    df2.loc[t] = ((df.loc[x,:]-df.loc[x,y]).fillna(0)+(df.loc[y,:]-df.loc[y,x]).fillna(0))/2\n",
    "    df2[t] = (df.loc[:,x].fillna(0)+df.loc[:,y].fillna(0))/2\n",
    "    df2.loc[x,t]=df.loc[x,y]\n",
    "    df2.loc[y,t]=df.loc[y,x]\n",
    "    return(df2)\n",
    "\n",
    "\n",
    "wt,max_pair=get_weights_for_all_pairs(df)\n",
    "    \n",
    "df2=get_new_node_distance(df,max_pair)\n",
    "df2"
   ]
  },
  {
   "cell_type": "code",
   "execution_count": 299,
   "metadata": {},
   "outputs": [
    {
     "name": "stdout",
     "output_type": "stream",
     "text": [
      "(0, 4)\n"
     ]
    },
    {
     "data": {
      "text/html": [
       "<div>\n",
       "<style scoped>\n",
       "    .dataframe tbody tr th:only-of-type {\n",
       "        vertical-align: middle;\n",
       "    }\n",
       "\n",
       "    .dataframe tbody tr th {\n",
       "        vertical-align: top;\n",
       "    }\n",
       "\n",
       "    .dataframe thead th {\n",
       "        text-align: right;\n",
       "    }\n",
       "</style>\n",
       "<table border=\"1\" class=\"dataframe\">\n",
       "  <thead>\n",
       "    <tr style=\"text-align: right;\">\n",
       "      <th></th>\n",
       "      <th>0</th>\n",
       "      <th>3</th>\n",
       "      <th>4</th>\n",
       "    </tr>\n",
       "  </thead>\n",
       "  <tbody>\n",
       "    <tr>\n",
       "      <th>0</th>\n",
       "      <td>NaN</td>\n",
       "      <td>NaN</td>\n",
       "      <td>1.014228</td>\n",
       "    </tr>\n",
       "    <tr>\n",
       "      <th>3</th>\n",
       "      <td>NaN</td>\n",
       "      <td>NaN</td>\n",
       "      <td>-1.994877</td>\n",
       "    </tr>\n",
       "    <tr>\n",
       "      <th>4</th>\n",
       "      <td>1.014228</td>\n",
       "      <td>-1.994877</td>\n",
       "      <td>NaN</td>\n",
       "    </tr>\n",
       "  </tbody>\n",
       "</table>\n",
       "</div>"
      ],
      "text/plain": [
       "          0         3         4\n",
       "0       NaN       NaN  1.014228\n",
       "3       NaN       NaN -1.994877\n",
       "4  1.014228 -1.994877       NaN"
      ]
     },
     "execution_count": 299,
     "metadata": {},
     "output_type": "execute_result"
    }
   ],
   "source": [
    "wt,max_pair=get_weights_for_all_pairs(df2)\n",
    "print(max_pair)\n",
    "wt"
   ]
  },
  {
   "cell_type": "code",
   "execution_count": 3,
   "metadata": {},
   "outputs": [
    {
     "name": "stdout",
     "output_type": "stream",
     "text": [
      "time to finish first step 6.5143561363220215 seconds\n",
      "iteration 1...\n",
      "iteration 2...\n",
      "iteration 3...\n",
      "iteration 4...\n",
      "iteration 5...\n",
      "iteration 6...\n",
      "time to completion 36.08940410614014 seconds\n"
     ]
    }
   ],
   "source": [
    "import time\n",
    "from mpmath import mpf\n",
    "import itertools\n",
    "from itertools import combinations\n",
    "import numpy as np\n",
    "import CRISPR_functions\n",
    "import CRISPR_functions\n",
    "from CRISPR_functions import phylogeny_from_CRISPR\n",
    "import pandas as pd\n",
    "from Bio.Phylo import BaseTree,draw_ascii\n",
    "import importlib\n",
    "importlib.reload(CRISPR_functions)\n",
    "from CRISPR_functions import get_limits_ancestor_sizes,CRISPR_pair, OPTIMIZE_rho,OPTIMIZE_t1t2,is_overlapping\n",
    "import importlib\n",
    "importlib.reload(CRISPR_functions)\n",
    "\n",
    "def find_optimum_rho_and_distances_ordered_model(arrays):\n",
    "    '''\n",
    "    Given a list of arrays as input, optimize rho and t for the ordered model\n",
    "    \n",
    "    Output:dictionnary of pairs and their respecive distances, rho\n",
    "    \n",
    "    \n",
    "    '''\n",
    "    \n",
    "    overlapping_arrays=[pair for pair in list(itertools.combinations(arrays,2)) if is_overlapping(pair[0],pair[1])==1]\n",
    "\n",
    "    ## first step\n",
    "    rho_init=mpf(sum([len(ar) for ar in arrays])/len([len(ar) for ar in arrays]))\n",
    "    size_lims=get_limits_ancestor_sizes(arrays)\n",
    "    t1t2_list=OPTIMIZE_t1t2(overlapping_arrays, rho_init, size_lims)\n",
    "    pair_list=[CRISPR_pair(pair[0],pair[1]) for pair in overlapping_arrays]\n",
    "    non_overlapping_arrays=[pair for pair in list(itertools.combinations(arrays,2)) if is_overlapping(pair[0],pair[1])==0]\n",
    "    (rho_update, neg_LL_update) = OPTIMIZE_rho(t1t2_list,pair_list,size_lims,non_overlapping_arrays)\n",
    "    print('time to finish first step',time.time()-t0,'seconds')\n",
    "    ## iterate\n",
    "    Init_LL=[np.inf]\n",
    "    i=0\n",
    "    step_list=[0]\n",
    "    rho_list=[rho_update]\n",
    "    convergence='False'\n",
    "    while convergence=='False':\n",
    "        i+=1\n",
    "        print('iteration '+str(i)+'...')\n",
    "        step_list+=[i]\n",
    "        previous_LL=Init_LL[-1]\n",
    "        t1t2_list=OPTIMIZE_t1t2(overlapping_arrays, rho_update, size_lims)\n",
    "        OPTIMIZE_rho(t1t2_list,pair_list,size_lims,non_overlapping_arrays)\n",
    "        (rho_update, neg_LL_update) = OPTIMIZE_rho(t1t2_list,pair_list,size_lims,non_overlapping_arrays)\n",
    "        Init_LL+=[neg_LL_update[0]]\n",
    "        rho_list+=[rho_update]\n",
    "        if neg_LL_update[0]>previous_LL:\n",
    "            convergence='True'\n",
    "    final_dist=dict(zip(pair_list,t1t2_list))\n",
    "    return(final_dist,rho_list[-1:])\n",
    "\n",
    "arrays=[[9,2,3,4,5],[0,1,2,3,7,8],[1,10,11,12,13],[13,14]]\n",
    "t0 = time.time()\n",
    "\n",
    "final_dist,rho=find_optimum_rho_and_distances_ordered_model(arrays)\n",
    "print('time to completion',time.time()-t0,'seconds')\n"
   ]
  },
  {
   "cell_type": "code",
   "execution_count": 5,
   "metadata": {},
   "outputs": [
    {
     "ename": "ModuleNotFoundError",
     "evalue": "No module named 'networkx'",
     "output_type": "error",
     "traceback": [
      "\u001b[0;31m---------------------------------------------------------------------------\u001b[0m",
      "\u001b[0;31mModuleNotFoundError\u001b[0m                       Traceback (most recent call last)",
      "\u001b[0;32m<ipython-input-5-5f9e7bd1c074>\u001b[0m in \u001b[0;36m<module>\u001b[0;34m\u001b[0m\n\u001b[0;32m----> 1\u001b[0;31m \u001b[0;32mimport\u001b[0m \u001b[0mnetworkx\u001b[0m \u001b[0;32mas\u001b[0m \u001b[0mnx\u001b[0m\u001b[0;34m\u001b[0m\u001b[0;34m\u001b[0m\u001b[0m\n\u001b[0m\u001b[1;32m      2\u001b[0m \u001b[0;32mimport\u001b[0m \u001b[0mmatplotlib\u001b[0m\u001b[0;34m.\u001b[0m\u001b[0mpyplot\u001b[0m \u001b[0;32mas\u001b[0m \u001b[0mplt\u001b[0m\u001b[0;34m\u001b[0m\u001b[0;34m\u001b[0m\u001b[0m\n\u001b[1;32m      3\u001b[0m \u001b[0mG\u001b[0m\u001b[0;34m=\u001b[0m\u001b[0mnx\u001b[0m\u001b[0;34m.\u001b[0m\u001b[0mcomplete_graph\u001b[0m\u001b[0;34m(\u001b[0m\u001b[0;36m4\u001b[0m\u001b[0;34m)\u001b[0m\u001b[0;34m\u001b[0m\u001b[0;34m\u001b[0m\u001b[0m\n\u001b[1;32m      4\u001b[0m \u001b[0mpos\u001b[0m\u001b[0;34m=\u001b[0m\u001b[0mnx\u001b[0m\u001b[0;34m.\u001b[0m\u001b[0mspring_layout\u001b[0m\u001b[0;34m(\u001b[0m\u001b[0mG\u001b[0m\u001b[0;34m)\u001b[0m\u001b[0;34m\u001b[0m\u001b[0;34m\u001b[0m\u001b[0m\n\u001b[1;32m      5\u001b[0m \u001b[0;34m\u001b[0m\u001b[0m\n",
      "\u001b[0;31mModuleNotFoundError\u001b[0m: No module named 'networkx'"
     ]
    }
   ],
   "source": [
    "import networkx as nx\n",
    "import matplotlib.pyplot as plt\n",
    "G=nx.complete_graph(4)\n",
    "pos=nx.spring_layout(G)\n",
    "\n",
    "fig=plt.figure(figsize=(5,5))\n",
    "ax=plt.axes([0,0,1,1])\n",
    "ax.set_aspect('equal')\n",
    "nx.draw_networkx_edges(G,pos,ax=ax)\n",
    "\n",
    "plt.xlim(-0.5,1.5)\n",
    "plt.ylim(-0.5,1.5)\n",
    "\n",
    "trans=ax.transData.transform\n",
    "trans2=fig.transFigure.inverted().transform\n",
    "\n",
    "piesize=0.2\n",
    "p2=piesize/2.0\n",
    "for n in G:\n",
    "    xx,yy=trans(pos[n]) # figure coordinates\n",
    "    xa,ya=trans2((xx,yy)) # axes coordinates\n",
    "    a = plt.axes([xa-p2,ya-p2, piesize, piesize])\n",
    "    a.set_aspect('equal')\n",
    "    fracs = [15,30,45, 10]\n",
    "    a.pie(fracs)\n",
    "\n",
    "plt.show()"
   ]
  },
  {
   "cell_type": "code",
   "execution_count": 14,
   "metadata": {},
   "outputs": [
    {
     "data": {
      "text/html": [
       "<div>\n",
       "<style scoped>\n",
       "    .dataframe tbody tr th:only-of-type {\n",
       "        vertical-align: middle;\n",
       "    }\n",
       "\n",
       "    .dataframe tbody tr th {\n",
       "        vertical-align: top;\n",
       "    }\n",
       "\n",
       "    .dataframe thead th {\n",
       "        text-align: right;\n",
       "    }\n",
       "</style>\n",
       "<table border=\"1\" class=\"dataframe\">\n",
       "  <thead>\n",
       "    <tr style=\"text-align: right;\">\n",
       "      <th></th>\n",
       "      <th>0</th>\n",
       "      <th>1</th>\n",
       "      <th>2</th>\n",
       "      <th>3</th>\n",
       "    </tr>\n",
       "  </thead>\n",
       "  <tbody>\n",
       "    <tr>\n",
       "      <th>0</th>\n",
       "      <td>NaN</td>\n",
       "      <td>1.961298</td>\n",
       "      <td>NaN</td>\n",
       "      <td>NaN</td>\n",
       "    </tr>\n",
       "    <tr>\n",
       "      <th>1</th>\n",
       "      <td>2.567483</td>\n",
       "      <td>NaN</td>\n",
       "      <td>2.776145</td>\n",
       "      <td>NaN</td>\n",
       "    </tr>\n",
       "    <tr>\n",
       "      <th>2</th>\n",
       "      <td>NaN</td>\n",
       "      <td>2.269163</td>\n",
       "      <td>NaN</td>\n",
       "      <td>6.050256</td>\n",
       "    </tr>\n",
       "    <tr>\n",
       "      <th>3</th>\n",
       "      <td>NaN</td>\n",
       "      <td>NaN</td>\n",
       "      <td>0.000000</td>\n",
       "      <td>NaN</td>\n",
       "    </tr>\n",
       "  </tbody>\n",
       "</table>\n",
       "</div>"
      ],
      "text/plain": [
       "          0         1         2         3\n",
       "0       NaN  1.961298       NaN       NaN\n",
       "1  2.567483       NaN  2.776145       NaN\n",
       "2       NaN  2.269163       NaN  6.050256\n",
       "3       NaN       NaN  0.000000       NaN"
      ]
     },
     "execution_count": 14,
     "metadata": {},
     "output_type": "execute_result"
    }
   ],
   "source": [
    "def get_non_reversible_distance_matrix_from_final_dist(arrays,final_dist):\n",
    "    names=[i for i in range(len(arrays))]\n",
    "    seqs=['-'.join(map(str,arr)) for arr in arrays]\n",
    "\n",
    "    dic=dict(zip(names+seqs,seqs+names))\n",
    "    dic\n",
    "    df=pd.DataFrame(np.nan,columns=names,index=names)\n",
    "\n",
    "    for k,v in final_dist.items():\n",
    "        x=dic['-'.join(map(str,k.s1))] #row \"distance from common ancestor to x...\"\n",
    "        y=dic['-'.join(map(str,k.s2))] # column \"...when associated to y\"\n",
    "        d_xy=v[0]\n",
    "        d_yx=v[1]\n",
    "\n",
    "        df.loc[x,y]=d_xy\n",
    "        df.loc[y,x]=d_yx\n",
    "    return(df)\n",
    "        \n",
    "df=get_non_reversible_distance_matrix_from_final_dist(arrays,final_dist)"
   ]
  },
  {
   "cell_type": "code",
   "execution_count": 31,
   "metadata": {},
   "outputs": [
    {
     "name": "stdout",
     "output_type": "stream",
     "text": [
      "          0         1         2   3\n",
      "0       NaN       NaN       NaN NaN\n",
      "1  2.264391       NaN       NaN NaN\n",
      "2       NaN  2.522654       NaN NaN\n",
      "3       NaN       NaN  3.025128 NaN\n"
     ]
    },
    {
     "data": {
      "text/plain": [
       "1  0    2.264391\n",
       "2  1    2.522654\n",
       "3  2    3.025128\n",
       "dtype: float64"
      ]
     },
     "execution_count": 31,
     "metadata": {},
     "output_type": "execute_result"
    }
   ],
   "source": [
    "def get_reversible_distance_matrix_from_final_dist(arrays,final_dist):\n",
    "    names=[i for i in range(len(arrays))]\n",
    "    seqs=['-'.join(map(str,arr)) for arr in arrays]\n",
    "\n",
    "    dic=dict(zip(names+seqs,seqs+names))\n",
    "    dic\n",
    "    df=pd.DataFrame(np.nan,columns=names,index=names)\n",
    "\n",
    "    for k,v in final_dist.items():\n",
    "        x=dic['-'.join(map(str,k.s1))] #row \"distance from common ancestor to x...\"\n",
    "        y=dic['-'.join(map(str,k.s2))] # column \"...when associated to y\"\n",
    "        d_xy=v[0]\n",
    "        d_yx=v[1]\n",
    "\n",
    "        df.loc[y,x]=(d_xy+d_yx)/2\n",
    "    return(df)\n",
    "        \n",
    "df=get_reversible_distance_matrix_from_final_dist(arrays,final_dist)\n",
    "print(df)\n",
    "df.values[np.triu_indices_from(df, 0)] = np.nan\n",
    "df.stack()"
   ]
  },
  {
   "cell_type": "code",
   "execution_count": 169,
   "metadata": {},
   "outputs": [
    {
     "name": "stdout",
     "output_type": "stream",
     "text": [
      "[['5', '170', '999', '998', '997', '22', '79', '161', '174', '179', '37', '47', '440', '184', '55', '58', '295'], ['5', '170', '999', '998', '997', '22', '79', '161', '174', '179', '440', '184', '55', '58', '295'], ['5', '170', '161', '174', '179', '37', '47', '440', '184', '55', '58', '295'], ['5', '170', '161', '174', '179', '37', '440', '184', '55', '58', '295'], ['5', '170', '161', '174', '179', '37', '47', '184', '55', '58', '295'], ['5', '170', '161', '174', '179', '37', '47', '440', '184', '58', '295'], ['5', '170', '174', '179', '37', '47', '440', '184', '55', '295'], ['5', '170', '161', '174', '179', '37', '47', '440', '184', '55', '295'], ['5', '170', '161', '174', '179', '47', '440', '184', '55', '295'], ['5', '170', '161', '184', '55', '295']]\n",
      "time to finish first step 51431.77886509895 seconds\n",
      "iteration 1...\n",
      "iteration 2...\n",
      "iteration 3...\n",
      "iteration 4...\n",
      "iteration 5...\n",
      "iteration 6...\n",
      "iteration 7...\n",
      "iteration 8...\n"
     ]
    }
   ],
   "source": [
    "f=open('prep_for_Arlequin/arrays_with_at_least_5percent_in_reads.txt','r')\n",
    "lines=f.read().splitlines()\n",
    "lines=[line.split('\\t')[2] for line in lines]\n",
    "f.close()\n",
    "myarrays=[line.split(',') for line in lines]\n",
    "print(myarrays)\n",
    "\n",
    "# arrays=[[9,2,3,4,5],[0,1,2,3,7,8],[1,10,11,12,13],[13,14]]\n",
    "arrays=myarrays\n",
    "\n",
    "final_dist,rho=find_optimum_rho_and_distances_ordered_model(arrays)\n",
    "\n",
    "Tree,labels=phylogeny_from_CRISPR(arrays,final_dist)\n",
    "\n",
    "labs=pd.DataFrame.from_dict(labels,orient='index').iloc[:int(len(labels)/2)]\n"
   ]
  },
  {
   "cell_type": "code",
   "execution_count": 174,
   "metadata": {},
   "outputs": [
    {
     "name": "stdout",
     "output_type": "stream",
     "text": [
      "{0: '5-170-999-998-997-22-79-161-174-179-37-47-440-184-55-58-295', 1: '5-170-999-998-997-22-79-161-174-179-440-184-55-58-295', 2: '5-170-161-174-179-37-47-440-184-55-58-295', 3: '5-170-161-174-179-37-440-184-55-58-295', 4: '5-170-161-174-179-37-47-184-55-58-295', 5: '5-170-161-174-179-37-47-440-184-58-295', 6: '5-170-174-179-37-47-440-184-55-295', 7: '5-170-161-174-179-37-47-440-184-55-295', 8: '5-170-161-174-179-47-440-184-55-295', 9: '5-170-161-184-55-295', '5-170-999-998-997-22-79-161-174-179-37-47-440-184-55-58-295': 0, '5-170-999-998-997-22-79-161-174-179-440-184-55-58-295': 1, '5-170-161-174-179-37-47-440-184-55-58-295': 2, '5-170-161-174-179-37-440-184-55-58-295': 3, '5-170-161-174-179-37-47-184-55-58-295': 4, '5-170-161-174-179-37-47-440-184-58-295': 5, '5-170-174-179-37-47-440-184-55-295': 6, '5-170-161-174-179-37-47-440-184-55-295': 7, '5-170-161-174-179-47-440-184-55-295': 8, '5-170-161-184-55-295': 9}\n"
     ]
    },
    {
     "data": {
      "image/png": "[encoded data removed]",
      "text/plain": [
       "<Figure size 432x288 with 1 Axes>"
      ]
     },
     "metadata": {
      "needs_background": "light"
     },
     "output_type": "display_data"
    },
    {
     "data": {
      "text/plain": [
       "Tree(rooted=True)"
      ]
     },
     "execution_count": 174,
     "metadata": {},
     "output_type": "execute_result"
    }
   ],
   "source": [
    "from Bio import Phylo\n",
    "Tree,labels=phylogeny_from_CRISPR(arrays,final_dist)\n",
    "print(labels)\n",
    "# draw_ascii(Tree)\n",
    "# Tree.rooted=False\n",
    "Phylo.draw(Tree)\n",
    "#Phylo.write(Tree,'Test_tree.nwk','newick')\n",
    "#Phylo.write(Tree,'Test_mytree.nwk','newick')\n",
    "# Phylo.write(Tree,'Test_mytree_main_arrays.nwk','newick')\n",
    "Tree"
   ]
  },
  {
   "cell_type": "code",
   "execution_count": 200,
   "metadata": {},
   "outputs": [
    {
     "name": "stdout",
     "output_type": "stream",
     "text": [
      "(10,) (10, 44)\n",
      "Index(['R01L-10-T', 'R01L-12-T', 'R02H-7-T', 'R02H-8-T', 'R02H-8-T_bis',\n",
      "       'R02H-9-T', 'R07B-1-Ta', 'R07B-1-Tb', 'R07B-1-Tc', 'R07B-1-Td',\n",
      "       'R07B-2-Tb', 'R07B-2-Tc', 'R07B-3-T', 'R08H-1-T', 'R08H-2-Ta',\n",
      "       'R08H-2-Tb', 'R08H-2-Tc', 'R08H-3-Ta', 'R08H-3-Tb', 'R08H-3-Tc',\n",
      "       'R09L-2-Ta', 'R09L-2-Tb', 'R09L-2-Tc', 'R09L-3-T', 'R09L-4-Ta',\n",
      "       'R09L-4-Tb', 'R09L-4-Tc', 'R13L-3-T', 'R13L-4-T', 'R13L-5-T',\n",
      "       'R14B-2-T', 'R14B-4-T', 'R15H-1-T', 'R15H-2-T', 'R15H-2-T_bis',\n",
      "       'R15H-3-T', 'R15H-3-T_old', 'R15H-6-T', 'R15H-7-T', 'R16L-1-T',\n",
      "       'R16L-2-T', 'R16L-3-T', 'R16L-4-T', 'R16L-5-T'],\n",
      "      dtype='object')\n"
     ]
    },
    {
     "data": {
      "text/html": [
       "<div>\n",
       "<style scoped>\n",
       "    .dataframe tbody tr th:only-of-type {\n",
       "        vertical-align: middle;\n",
       "    }\n",
       "\n",
       "    .dataframe tbody tr th {\n",
       "        vertical-align: top;\n",
       "    }\n",
       "\n",
       "    .dataframe thead th {\n",
       "        text-align: right;\n",
       "    }\n",
       "</style>\n",
       "<table border=\"1\" class=\"dataframe\">\n",
       "  <thead>\n",
       "    <tr style=\"text-align: right;\">\n",
       "      <th></th>\n",
       "      <th>Sample</th>\n",
       "      <th>Sample_id</th>\n",
       "      <th>Site</th>\n",
       "      <th>Ind</th>\n",
       "      <th>Region</th>\n",
       "      <th>Flow</th>\n",
       "      <th>dupl</th>\n",
       "    </tr>\n",
       "    <tr>\n",
       "      <th>seqid</th>\n",
       "      <th></th>\n",
       "      <th></th>\n",
       "      <th></th>\n",
       "      <th></th>\n",
       "      <th></th>\n",
       "      <th></th>\n",
       "      <th></th>\n",
       "    </tr>\n",
       "  </thead>\n",
       "  <tbody>\n",
       "    <tr>\n",
       "      <th>PBBC36</th>\n",
       "      <td>R01L-10-T</td>\n",
       "      <td>C36</td>\n",
       "      <td>R01L</td>\n",
       "      <td>R01L-10</td>\n",
       "      <td>MEF</td>\n",
       "      <td>L</td>\n",
       "      <td>n</td>\n",
       "    </tr>\n",
       "    <tr>\n",
       "      <th>PBBC37</th>\n",
       "      <td>R01L-12-T</td>\n",
       "      <td>C37</td>\n",
       "      <td>R01L</td>\n",
       "      <td>R01L-12</td>\n",
       "      <td>MEF</td>\n",
       "      <td>L</td>\n",
       "      <td>n</td>\n",
       "    </tr>\n",
       "    <tr>\n",
       "      <th>PBBC38</th>\n",
       "      <td>R02H-7-T</td>\n",
       "      <td>C39</td>\n",
       "      <td>R02H</td>\n",
       "      <td>R02H-7</td>\n",
       "      <td>MEF</td>\n",
       "      <td>H</td>\n",
       "      <td>n</td>\n",
       "    </tr>\n",
       "    <tr>\n",
       "      <th>PBBC18</th>\n",
       "      <td>R02H-8-T_bis</td>\n",
       "      <td>C40</td>\n",
       "      <td>R02H</td>\n",
       "      <td>R02H-8</td>\n",
       "      <td>MEF</td>\n",
       "      <td>H</td>\n",
       "      <td>y</td>\n",
       "    </tr>\n",
       "    <tr>\n",
       "      <th>PBBC39</th>\n",
       "      <td>R02H-8-T</td>\n",
       "      <td>C40</td>\n",
       "      <td>R02H</td>\n",
       "      <td>R02H-8</td>\n",
       "      <td>MEF</td>\n",
       "      <td>H</td>\n",
       "      <td>y</td>\n",
       "    </tr>\n",
       "    <tr>\n",
       "      <th>PBBC40</th>\n",
       "      <td>R02H-9-T</td>\n",
       "      <td>C41</td>\n",
       "      <td>R02H</td>\n",
       "      <td>R02H-9</td>\n",
       "      <td>MEF</td>\n",
       "      <td>H</td>\n",
       "      <td>n</td>\n",
       "    </tr>\n",
       "    <tr>\n",
       "      <th>PBBC13</th>\n",
       "      <td>R07B-1-Ta</td>\n",
       "      <td>C13</td>\n",
       "      <td>R07B</td>\n",
       "      <td>R07B-1</td>\n",
       "      <td>MEF</td>\n",
       "      <td>B</td>\n",
       "      <td>s</td>\n",
       "    </tr>\n",
       "    <tr>\n",
       "      <th>PBBC14</th>\n",
       "      <td>R07B-1-Tb</td>\n",
       "      <td>C14</td>\n",
       "      <td>R07B</td>\n",
       "      <td>R07B-1</td>\n",
       "      <td>MEF</td>\n",
       "      <td>B</td>\n",
       "      <td>s</td>\n",
       "    </tr>\n",
       "    <tr>\n",
       "      <th>PBBC15</th>\n",
       "      <td>R07B-1-Tc</td>\n",
       "      <td>C15</td>\n",
       "      <td>R07B</td>\n",
       "      <td>R07B-1</td>\n",
       "      <td>MEF</td>\n",
       "      <td>B</td>\n",
       "      <td>s</td>\n",
       "    </tr>\n",
       "    <tr>\n",
       "      <th>PBBC16</th>\n",
       "      <td>R07B-1-Td</td>\n",
       "      <td>C16</td>\n",
       "      <td>R07B</td>\n",
       "      <td>R07B-1</td>\n",
       "      <td>MEF</td>\n",
       "      <td>B</td>\n",
       "      <td>s</td>\n",
       "    </tr>\n",
       "    <tr>\n",
       "      <th>PBBC47</th>\n",
       "      <td>R07B-2-Tb</td>\n",
       "      <td>C18</td>\n",
       "      <td>R07B</td>\n",
       "      <td>R07B-2</td>\n",
       "      <td>MEF</td>\n",
       "      <td>B</td>\n",
       "      <td>s</td>\n",
       "    </tr>\n",
       "    <tr>\n",
       "      <th>PBBC19</th>\n",
       "      <td>R07B-2-Tc</td>\n",
       "      <td>C19</td>\n",
       "      <td>R07B</td>\n",
       "      <td>R07B-2</td>\n",
       "      <td>MEF</td>\n",
       "      <td>B</td>\n",
       "      <td>s</td>\n",
       "    </tr>\n",
       "    <tr>\n",
       "      <th>PBBC21</th>\n",
       "      <td>R07B-3-T</td>\n",
       "      <td>C21</td>\n",
       "      <td>R07B</td>\n",
       "      <td>R07B-3</td>\n",
       "      <td>MEF</td>\n",
       "      <td>B</td>\n",
       "      <td>n</td>\n",
       "    </tr>\n",
       "    <tr>\n",
       "      <th>PBBC22</th>\n",
       "      <td>R08H-1-T</td>\n",
       "      <td>C22</td>\n",
       "      <td>R08H</td>\n",
       "      <td>R08H-1</td>\n",
       "      <td>MEF</td>\n",
       "      <td>H</td>\n",
       "      <td>n</td>\n",
       "    </tr>\n",
       "    <tr>\n",
       "      <th>PBBC23</th>\n",
       "      <td>R08H-2-Ta</td>\n",
       "      <td>C23</td>\n",
       "      <td>R08H</td>\n",
       "      <td>R08H-2</td>\n",
       "      <td>MEF</td>\n",
       "      <td>H</td>\n",
       "      <td>s</td>\n",
       "    </tr>\n",
       "    <tr>\n",
       "      <th>PBBC24</th>\n",
       "      <td>R08H-2-Tb</td>\n",
       "      <td>C24</td>\n",
       "      <td>R08H</td>\n",
       "      <td>R08H-2</td>\n",
       "      <td>MEF</td>\n",
       "      <td>H</td>\n",
       "      <td>s</td>\n",
       "    </tr>\n",
       "    <tr>\n",
       "      <th>PBBC25</th>\n",
       "      <td>R08H-2-Tc</td>\n",
       "      <td>C25</td>\n",
       "      <td>R08H</td>\n",
       "      <td>R08H-2</td>\n",
       "      <td>MEF</td>\n",
       "      <td>H</td>\n",
       "      <td>s</td>\n",
       "    </tr>\n",
       "    <tr>\n",
       "      <th>PBBC26</th>\n",
       "      <td>R08H-3-Ta</td>\n",
       "      <td>C26</td>\n",
       "      <td>R08H</td>\n",
       "      <td>R08H-3</td>\n",
       "      <td>MEF</td>\n",
       "      <td>H</td>\n",
       "      <td>s</td>\n",
       "    </tr>\n",
       "    <tr>\n",
       "      <th>PBBC27</th>\n",
       "      <td>R08H-3-Tb</td>\n",
       "      <td>C27</td>\n",
       "      <td>R08H</td>\n",
       "      <td>R08H-3</td>\n",
       "      <td>MEF</td>\n",
       "      <td>H</td>\n",
       "      <td>s</td>\n",
       "    </tr>\n",
       "    <tr>\n",
       "      <th>PBBC28</th>\n",
       "      <td>R08H-3-Tc</td>\n",
       "      <td>C28</td>\n",
       "      <td>R08H</td>\n",
       "      <td>R08H-3</td>\n",
       "      <td>MEF</td>\n",
       "      <td>H</td>\n",
       "      <td>s</td>\n",
       "    </tr>\n",
       "    <tr>\n",
       "      <th>PBBC29</th>\n",
       "      <td>R09L-2-Ta</td>\n",
       "      <td>C29</td>\n",
       "      <td>R09L</td>\n",
       "      <td>R09L-2</td>\n",
       "      <td>MEF</td>\n",
       "      <td>L</td>\n",
       "      <td>s</td>\n",
       "    </tr>\n",
       "    <tr>\n",
       "      <th>PBBC30</th>\n",
       "      <td>R09L-2-Tb</td>\n",
       "      <td>C30</td>\n",
       "      <td>R09L</td>\n",
       "      <td>R09L-2</td>\n",
       "      <td>MEF</td>\n",
       "      <td>L</td>\n",
       "      <td>s</td>\n",
       "    </tr>\n",
       "    <tr>\n",
       "      <th>PBBC31</th>\n",
       "      <td>R09L-2-Tc</td>\n",
       "      <td>C31</td>\n",
       "      <td>R09L</td>\n",
       "      <td>R09L-2</td>\n",
       "      <td>MEF</td>\n",
       "      <td>L</td>\n",
       "      <td>s</td>\n",
       "    </tr>\n",
       "    <tr>\n",
       "      <th>PBBC32</th>\n",
       "      <td>R09L-3-T</td>\n",
       "      <td>C32</td>\n",
       "      <td>R09L</td>\n",
       "      <td>R09L-3</td>\n",
       "      <td>MEF</td>\n",
       "      <td>L</td>\n",
       "      <td>n</td>\n",
       "    </tr>\n",
       "    <tr>\n",
       "      <th>PBBC33</th>\n",
       "      <td>R09L-4-Ta</td>\n",
       "      <td>C33</td>\n",
       "      <td>R09L</td>\n",
       "      <td>R09L-4</td>\n",
       "      <td>MEF</td>\n",
       "      <td>L</td>\n",
       "      <td>s</td>\n",
       "    </tr>\n",
       "    <tr>\n",
       "      <th>PBBC34</th>\n",
       "      <td>R09L-4-Tb</td>\n",
       "      <td>C34</td>\n",
       "      <td>R09L</td>\n",
       "      <td>R09L-4</td>\n",
       "      <td>MEF</td>\n",
       "      <td>L</td>\n",
       "      <td>s</td>\n",
       "    </tr>\n",
       "    <tr>\n",
       "      <th>PBBC35</th>\n",
       "      <td>R09L-4-Tc</td>\n",
       "      <td>C35</td>\n",
       "      <td>R09L</td>\n",
       "      <td>R09L-4</td>\n",
       "      <td>MEF</td>\n",
       "      <td>L</td>\n",
       "      <td>s</td>\n",
       "    </tr>\n",
       "    <tr>\n",
       "      <th>PBBC06</th>\n",
       "      <td>R13L-3-T</td>\n",
       "      <td>C06</td>\n",
       "      <td>R13L</td>\n",
       "      <td>R13L-3</td>\n",
       "      <td>CB</td>\n",
       "      <td>H</td>\n",
       "      <td>n</td>\n",
       "    </tr>\n",
       "    <tr>\n",
       "      <th>PBBC04</th>\n",
       "      <td>R13L-4-T</td>\n",
       "      <td>C04</td>\n",
       "      <td>R13L</td>\n",
       "      <td>R13L-4</td>\n",
       "      <td>CB</td>\n",
       "      <td>H</td>\n",
       "      <td>n</td>\n",
       "    </tr>\n",
       "    <tr>\n",
       "      <th>PBBC05</th>\n",
       "      <td>R13L-5-T</td>\n",
       "      <td>C05</td>\n",
       "      <td>R13L</td>\n",
       "      <td>R13L-5</td>\n",
       "      <td>CB</td>\n",
       "      <td>H</td>\n",
       "      <td>n</td>\n",
       "    </tr>\n",
       "    <tr>\n",
       "      <th>PBBC01</th>\n",
       "      <td>R14B-2-T</td>\n",
       "      <td>C01</td>\n",
       "      <td>R14B</td>\n",
       "      <td>R14B-2</td>\n",
       "      <td>CB</td>\n",
       "      <td>B</td>\n",
       "      <td>n</td>\n",
       "    </tr>\n",
       "    <tr>\n",
       "      <th>PBBC03</th>\n",
       "      <td>R14B-4-T</td>\n",
       "      <td>C03</td>\n",
       "      <td>R14B</td>\n",
       "      <td>R14B-4</td>\n",
       "      <td>CB</td>\n",
       "      <td>B</td>\n",
       "      <td>n</td>\n",
       "    </tr>\n",
       "    <tr>\n",
       "      <th>PBBC07</th>\n",
       "      <td>R15H-1-T</td>\n",
       "      <td>C07</td>\n",
       "      <td>R15H</td>\n",
       "      <td>R15H-1</td>\n",
       "      <td>MV</td>\n",
       "      <td>H</td>\n",
       "      <td>n</td>\n",
       "    </tr>\n",
       "    <tr>\n",
       "      <th>PBBC08</th>\n",
       "      <td>R15H-2-T</td>\n",
       "      <td>C08</td>\n",
       "      <td>R15H</td>\n",
       "      <td>R15H-2</td>\n",
       "      <td>MV</td>\n",
       "      <td>H</td>\n",
       "      <td>y</td>\n",
       "    </tr>\n",
       "    <tr>\n",
       "      <th>PBBC17</th>\n",
       "      <td>R15H-2-T_bis</td>\n",
       "      <td>C08</td>\n",
       "      <td>R15H</td>\n",
       "      <td>R15H-2</td>\n",
       "      <td>MV</td>\n",
       "      <td>H</td>\n",
       "      <td>y</td>\n",
       "    </tr>\n",
       "    <tr>\n",
       "      <th>PBBC09</th>\n",
       "      <td>R15H-3-T</td>\n",
       "      <td>C09</td>\n",
       "      <td>R15H</td>\n",
       "      <td>R15H-3</td>\n",
       "      <td>MV</td>\n",
       "      <td>H</td>\n",
       "      <td>y</td>\n",
       "    </tr>\n",
       "    <tr>\n",
       "      <th>PBBC20</th>\n",
       "      <td>R15H-3-T_old</td>\n",
       "      <td>C09</td>\n",
       "      <td>R15H</td>\n",
       "      <td>R15H-3</td>\n",
       "      <td>MV</td>\n",
       "      <td>H</td>\n",
       "      <td>y</td>\n",
       "    </tr>\n",
       "    <tr>\n",
       "      <th>PBBC45</th>\n",
       "      <td>R15H-6-T</td>\n",
       "      <td>C47</td>\n",
       "      <td>R15H</td>\n",
       "      <td>R15H-6</td>\n",
       "      <td>MV</td>\n",
       "      <td>H</td>\n",
       "      <td>n</td>\n",
       "    </tr>\n",
       "    <tr>\n",
       "      <th>PBBC44</th>\n",
       "      <td>R15H-7-T</td>\n",
       "      <td>C51</td>\n",
       "      <td>R15H</td>\n",
       "      <td>R15H-7</td>\n",
       "      <td>MV</td>\n",
       "      <td>H</td>\n",
       "      <td>n</td>\n",
       "    </tr>\n",
       "    <tr>\n",
       "      <th>PBBC10</th>\n",
       "      <td>R16L-1-T</td>\n",
       "      <td>C10</td>\n",
       "      <td>R16L</td>\n",
       "      <td>R16L-1</td>\n",
       "      <td>MV</td>\n",
       "      <td>L</td>\n",
       "      <td>n</td>\n",
       "    </tr>\n",
       "    <tr>\n",
       "      <th>PBBC46</th>\n",
       "      <td>R16L-2-T</td>\n",
       "      <td>C11</td>\n",
       "      <td>R16L</td>\n",
       "      <td>R16L-2</td>\n",
       "      <td>MV</td>\n",
       "      <td>L</td>\n",
       "      <td>n</td>\n",
       "    </tr>\n",
       "    <tr>\n",
       "      <th>PBBC12</th>\n",
       "      <td>R16L-3-T</td>\n",
       "      <td>C12</td>\n",
       "      <td>R16L</td>\n",
       "      <td>R16L-3</td>\n",
       "      <td>MV</td>\n",
       "      <td>L</td>\n",
       "      <td>n</td>\n",
       "    </tr>\n",
       "    <tr>\n",
       "      <th>PBBC42</th>\n",
       "      <td>R16L-4-T</td>\n",
       "      <td>C48</td>\n",
       "      <td>R16L</td>\n",
       "      <td>R16L-4</td>\n",
       "      <td>MV</td>\n",
       "      <td>L</td>\n",
       "      <td>n</td>\n",
       "    </tr>\n",
       "    <tr>\n",
       "      <th>PBBC43</th>\n",
       "      <td>R16L-5-T</td>\n",
       "      <td>C49</td>\n",
       "      <td>R16L</td>\n",
       "      <td>R16L-5</td>\n",
       "      <td>MV</td>\n",
       "      <td>L</td>\n",
       "      <td>n</td>\n",
       "    </tr>\n",
       "  </tbody>\n",
       "</table>\n",
       "</div>"
      ],
      "text/plain": [
       "              Sample Sample_id  Site      Ind Region Flow dupl\n",
       "seqid                                                         \n",
       "PBBC36     R01L-10-T       C36  R01L  R01L-10    MEF    L    n\n",
       "PBBC37     R01L-12-T       C37  R01L  R01L-12    MEF    L    n\n",
       "PBBC38      R02H-7-T       C39  R02H   R02H-7    MEF    H    n\n",
       "PBBC18  R02H-8-T_bis       C40  R02H   R02H-8    MEF    H    y\n",
       "PBBC39      R02H-8-T       C40  R02H   R02H-8    MEF    H    y\n",
       "PBBC40      R02H-9-T       C41  R02H   R02H-9    MEF    H    n\n",
       "PBBC13     R07B-1-Ta       C13  R07B   R07B-1    MEF    B    s\n",
       "PBBC14     R07B-1-Tb       C14  R07B   R07B-1    MEF    B    s\n",
       "PBBC15     R07B-1-Tc       C15  R07B   R07B-1    MEF    B    s\n",
       "PBBC16     R07B-1-Td       C16  R07B   R07B-1    MEF    B    s\n",
       "PBBC47     R07B-2-Tb       C18  R07B   R07B-2    MEF    B    s\n",
       "PBBC19     R07B-2-Tc       C19  R07B   R07B-2    MEF    B    s\n",
       "PBBC21      R07B-3-T       C21  R07B   R07B-3    MEF    B    n\n",
       "PBBC22      R08H-1-T       C22  R08H   R08H-1    MEF    H    n\n",
       "PBBC23     R08H-2-Ta       C23  R08H   R08H-2    MEF    H    s\n",
       "PBBC24     R08H-2-Tb       C24  R08H   R08H-2    MEF    H    s\n",
       "PBBC25     R08H-2-Tc       C25  R08H   R08H-2    MEF    H    s\n",
       "PBBC26     R08H-3-Ta       C26  R08H   R08H-3    MEF    H    s\n",
       "PBBC27     R08H-3-Tb       C27  R08H   R08H-3    MEF    H    s\n",
       "PBBC28     R08H-3-Tc       C28  R08H   R08H-3    MEF    H    s\n",
       "PBBC29     R09L-2-Ta       C29  R09L   R09L-2    MEF    L    s\n",
       "PBBC30     R09L-2-Tb       C30  R09L   R09L-2    MEF    L    s\n",
       "PBBC31     R09L-2-Tc       C31  R09L   R09L-2    MEF    L    s\n",
       "PBBC32      R09L-3-T       C32  R09L   R09L-3    MEF    L    n\n",
       "PBBC33     R09L-4-Ta       C33  R09L   R09L-4    MEF    L    s\n",
       "PBBC34     R09L-4-Tb       C34  R09L   R09L-4    MEF    L    s\n",
       "PBBC35     R09L-4-Tc       C35  R09L   R09L-4    MEF    L    s\n",
       "PBBC06      R13L-3-T       C06  R13L   R13L-3     CB    H    n\n",
       "PBBC04      R13L-4-T       C04  R13L   R13L-4     CB    H    n\n",
       "PBBC05      R13L-5-T       C05  R13L   R13L-5     CB    H    n\n",
       "PBBC01      R14B-2-T       C01  R14B   R14B-2     CB    B    n\n",
       "PBBC03      R14B-4-T       C03  R14B   R14B-4     CB    B    n\n",
       "PBBC07      R15H-1-T       C07  R15H   R15H-1     MV    H    n\n",
       "PBBC08      R15H-2-T       C08  R15H   R15H-2     MV    H    y\n",
       "PBBC17  R15H-2-T_bis       C08  R15H   R15H-2     MV    H    y\n",
       "PBBC09      R15H-3-T       C09  R15H   R15H-3     MV    H    y\n",
       "PBBC20  R15H-3-T_old       C09  R15H   R15H-3     MV    H    y\n",
       "PBBC45      R15H-6-T       C47  R15H   R15H-6     MV    H    n\n",
       "PBBC44      R15H-7-T       C51  R15H   R15H-7     MV    H    n\n",
       "PBBC10      R16L-1-T       C10  R16L   R16L-1     MV    L    n\n",
       "PBBC46      R16L-2-T       C11  R16L   R16L-2     MV    L    n\n",
       "PBBC12      R16L-3-T       C12  R16L   R16L-3     MV    L    n\n",
       "PBBC42      R16L-4-T       C48  R16L   R16L-4     MV    L    n\n",
       "PBBC43      R16L-5-T       C49  R16L   R16L-5     MV    L    n"
      ]
     },
     "execution_count": 200,
     "metadata": {},
     "output_type": "execute_result"
    }
   ],
   "source": [
    "from Bio import Phylo\n",
    "import pandas as pd \n",
    "Trees = [tree for tree in Phylo.parse('/Users/maeperez/Desktop/CRISPR_distance/Test_mytree_main_arrays.nwk', 'newick')]\n",
    "\n",
    "Tree= Trees[0]\n",
    "\n",
    "Phylo.to_networkx(Tree)\n",
    "\n",
    "# pop_vals=pd.DataFrame([[0,1,2,3],[10,0,0,0],[2,2,2,2]],index=['pop1','pop2','pop3'])\n",
    "# pop_vals = pop_vals.transpose()\n",
    "\n",
    "pop_vals= pd.read_csv('/Users/maeperez/Desktop/CRISPR_distance/prep_for_Arlequin/arrays_with_at_least_5percent_in_reads.poprelab',sep='\\t',header=0,index_col=0)\n",
    "\n",
    "pop_vals.sum(axis=1)\n",
    "print(pop_vals.sum(axis=1).shape,pop_vals.shape)\n",
    "# pop_vals=pop_vals/(pop_vals.sum(axis=1).T)\n",
    "pop_vals=pop_vals.div(pop_vals.sum(axis=1), axis='rows')\n",
    "print(pop_vals.columns)\n",
    "\n",
    "meta=pd.read_csv('/Users/maeperez/Desktop/CRISPR_distance/CRISPR_metadata.txt',sep='\\t',header=0,index_col=0)\n",
    "meta['Sample']= [str[4:] for str in meta.Sample.values]\n",
    "val='R01L-10-T'\n",
    "meta"
   ]
  },
  {
   "cell_type": "code",
   "execution_count": null,
   "metadata": {},
   "outputs": [],
   "source": [
    "def distance(origin, destination):\n",
    "    lat1, lon1 = origin\n",
    "    lat2, lon2 = destination\n",
    "    radius = 6371 # km\n",
    "\n",
    "    dlat = math.radians(lat2-lat1)\n",
    "    dlon = math.radians(lon2-lon1)\n",
    "    a = math.sin(dlat/2) * math.sin(dlat/2) + math.cos(math.radians(lat1)) \\\n",
    "        * math.cos(math.radians(lat2)) * math.sin(dlon/2) * math.sin(dlon/2)\n",
    "    c = 2 * math.atan2(math.sqrt(a), math.sqrt(1-a))\n",
    "    d = radius * c\n",
    "\n",
    "    return d"
   ]
  },
  {
   "cell_type": "code",
   "execution_count": 5,
   "metadata": {},
   "outputs": [],
   "source": [
    "\n",
    "color= ['red' if l == 'MV' else 'green' if l=='CB' else 'blue' for l in [meta[meta.Sample == val].Region.values[0] for val in pop_vals.columns]]\n"
   ]
  },
  {
   "cell_type": "code",
   "execution_count": 51,
   "metadata": {},
   "outputs": [
    {
     "name": "stdout",
     "output_type": "stream",
     "text": [
      "\n",
      "{Clade(branch_length=0.0, confidence=18): None, Clade(branch_length=0.0, name='0'): '0', Clade(branch_length=0.17504, confidence=17): None, Clade(branch_length=2.55709, confidence=16): None, Clade(branch_length=0.0813, confidence=14): None, Clade(branch_length=0.48632, name='3'): '3', Clade(branch_length=0.06919, confidence=13): None, Clade(branch_length=0.41712, name='4'): '4', Clade(branch_length=0.42851, confidence=12): None, Clade(branch_length=0.66778, confidence=10): None, Clade(branch_length=0.0, name='8'): '8', Clade(branch_length=2.93497, name='9'): '9', Clade(branch_length=0.00195, confidence=11): None, Clade(branch_length=0.58107, name='6'): '6', Clade(branch_length=0.0, name='7'): '7', Clade(branch_length=0.0007, confidence=15): None, Clade(branch_length=0.0, name='2'): '2', Clade(branch_length=0.55458, name='5'): '5', Clade(branch_length=0.77925, name='1'): '1'}\n"
     ]
    },
    {
     "data": {
      "image/png": "[encoded data removed]",
      "text/plain": [
       "<Figure size 720x720 with 20 Axes>"
      ]
     },
     "metadata": {},
     "output_type": "display_data"
    }
   ],
   "source": [
    "import networkx as nx\n",
    "import matplotlib.pyplot as plt\n",
    "\n",
    "# pop_vals=pd.DataFrame([[0,1,2,3],[10,0,0,0],[1,2,2,2]],index=['pop1','pop2','pop3'])\n",
    "# pop_vals = pop_vals.transpose()\n",
    "\n",
    "G = Phylo.to_networkx(Tree)\n",
    "print(G)\n",
    "print(dict([(n,n.name) for n in G]))\n",
    "pos=nx.fruchterman_reingold_layout(G)\n",
    "pos=nx.spectral_layout(G)\n",
    "pos=nx.spring_layout(G)\n",
    "\n",
    "\n",
    "fig=plt.figure(figsize=(10,10))\n",
    "ax=plt.axes([0,0,1,1])\n",
    "ax.set_aspect('equal')\n",
    "nx.draw_networkx_edges(G,pos,arrows=False,ax=ax)\n",
    "nx.draw_networkx_nodes(G,pos,ax=ax,color='black',label=None)\n",
    "\n",
    "# nx.draw(G,pos,arrows=False)\n",
    "\n",
    "plt.xlim(-1.5,1.5)\n",
    "plt.ylim(-1.5,1.5)\n",
    "\n",
    "trans=ax.transData.transform\n",
    "trans2=fig.transFigure.inverted().transform\n",
    "\n",
    "init_piesize=0.1\n",
    "init_p2=init_piesize/2.0\n",
    "\n",
    "# [meta[meta.Sample == val].Region.values[0] for val in pop_vals.columns]\n",
    "\n",
    "for n in G:\n",
    "    xx,yy=trans(pos[n]) # figure coordinates\n",
    "    xa,ya=trans2((xx,yy)) # axes coordinates\n",
    "    piesize=init_piesize\n",
    "    p2=init_p2\n",
    "    a = plt.axes([xa-p2,ya-p2, piesize, piesize])\n",
    "    a.set_aspect('equal')\n",
    "    fracs = [0]\n",
    "    if n.name in map(str,pop_vals.index.values):\n",
    "#         print(n.name)\n",
    "#         piesize=init_piesize*pop_vals.loc[int(n.name)]\n",
    "#         p2 = piesize/2\n",
    "        fracs = [1 if v>0 else 0 for v in pop_vals.loc[int(n.name)]]\n",
    "        fracs = pop_vals.loc[int(n.name)]\n",
    "#         print(fracs)\n",
    "    a.pie(fracs,colors=color)\n",
    "\n",
    "\n",
    "# plt.savefig('pc.png')"
   ]
  },
  {
   "cell_type": "code",
   "execution_count": 132,
   "metadata": {},
   "outputs": [
    {
     "name": "stdout",
     "output_type": "stream",
     "text": [
      "{0: [0.0, 3.3333333333333335, 0.0], 1: [0.3333333333333333, 0.0, 0.6666666666666666], 2: [0.6666666666666666, 0.0, 0.6666666666666666], 3: [1.0, 0.0, 0.6666666666666666]}\n",
      "pop1    3\n",
      "pop2    0\n",
      "pop3    2\n",
      "Name: 3, dtype: int64\n",
      "pop1     0\n",
      "pop2    10\n",
      "pop3     0\n",
      "Name: 0, dtype: int64\n",
      "pop1    1\n",
      "pop2    0\n",
      "pop3    2\n",
      "Name: 1, dtype: int64\n",
      "pop1    2\n",
      "pop2    0\n",
      "pop3    2\n",
      "Name: 2, dtype: int64\n"
     ]
    },
    {
     "data": {
      "text/plain": [
       "(-2, 2)"
      ]
     },
     "execution_count": 132,
     "metadata": {},
     "output_type": "execute_result"
    },
    {
     "data": {
      "image/png": "[encoded data removed]",
      "text/plain": [
       "<Figure size 360x360 with 1 Axes>"
      ]
     },
     "metadata": {},
     "output_type": "display_data"
    }
   ],
   "source": [
    "## DATA\n",
    "\n",
    "pop_vals=pd.DataFrame([[0,1,2,3],[10,0,0,0],[0,2,2,2]],index=['pop1','pop2','pop3'])\n",
    "\n",
    "pop_vals = pop_vals.transpose()\n",
    "\n",
    "# parameters for pie plot\n",
    "radius = 0.2\n",
    "cmap = plt.cm.viridis\n",
    "\n",
    "# normalising data to make colors\n",
    "a = np.array(pop_vals.index.values)\n",
    "maxes = np.max(a, axis=0) # note that this will throw an error if different nodes have different number of features. \n",
    "\n",
    "\n",
    "# collect colors in dictionary  \n",
    "colors= {}\n",
    "\n",
    "for key in pop_vals.index.values:\n",
    "    colors[key] = list(pop_vals.loc[key].values/maxes)\n",
    "\n",
    "print(colors)\n",
    "# draw graph and draw pieplots instead of nodes\n",
    "\n",
    "G = Phylo.to_networkx(Tree)\n",
    "pos=nx.spring_layout(G)\n",
    "\n",
    "fig=plt.figure(figsize=(5,5))\n",
    "ax=plt.axes([0,0,1,1])\n",
    "ax.set_aspect('equal')\n",
    "nx.draw_networkx_edges(G,pos,arrows=False,ax=ax)\n",
    "\n",
    "for n in G:\n",
    "    if int(n.name) in pop_vals.index.values:\n",
    "\n",
    "        attributes = pop_vals.loc[int(n.name)]\n",
    "        print(attributes)\n",
    "\n",
    "        a = plt.pie(\n",
    "            attributes, # s.t. all wedges have equal size\n",
    "            center=pos[n], \n",
    "            colors = [cmap(a) for a in colors[int(n.name)]],\n",
    "            radius=radius)\n",
    "\n",
    "plt.ylim(-2,2)\n",
    "plt.xlim(-2,2)"
   ]
  },
  {
   "cell_type": "code",
   "execution_count": 218,
   "metadata": {},
   "outputs": [
    {
     "name": "stdout",
     "output_type": "stream",
     "text": [
      "iteration 1...\n",
      "iteration 2...\n",
      "iteration 3...\n",
      "iteration 4...\n",
      "iteration 5...\n",
      "iteration 6...\n",
      "{0: '9-2-3-4-5', 1: '0-1-2-3-7-8', 2: '1-10-11-12-13', 3: '13-14', '9-2-3-4-5': 0, '0-1-2-3-7-8': 1, '1-10-11-12-13': 2, '13-14': 3}\n"
     ]
    },
    {
     "data": {
      "image/png": "[encoded data removed]",
      "text/plain": [
       "<Figure size 432x288 with 1 Axes>"
      ]
     },
     "metadata": {
      "needs_background": "light"
     },
     "output_type": "display_data"
    }
   ],
   "source": [
    "from Bio import Phylo\n",
    "from CRISPR_functions import phylogeny_from_CRISPR,find_optimum_rho_and_distances_ordered_model,get_distance_matrix_from_phylogeny\n",
    "\n",
    "arrays=[[9,2,3,4,5],[0,1,2,3,7,8],[1,10,11,12,13],[13,14]]\n",
    "\n",
    "final_dist,rho=find_optimum_rho_and_distances_ordered_model(arrays)\n",
    "Tree,labels=phylogeny_from_CRISPR(arrays,final_dist)\n",
    "print(labels)\n",
    "Phylo.draw(Tree)\n",
    "Tree_unrooted=Tree\n",
    "Tree_unrooted.rooted=False\n",
    "\n",
    "dist=get_distance_matrix_from_phylogeny(Tree_unrooted)"
   ]
  },
  {
   "cell_type": "code",
   "execution_count": 223,
   "metadata": {},
   "outputs": [
    {
     "name": "stdout",
     "output_type": "stream",
     "text": [
      "{0: {0: nan, 1: 3.6524628265804435, 2: 3.1454810266042403, 3: 1.9780877045993273}, 1: {0: 3.6524628265804435, 1: nan, 2: 5.045307371326096, 3: 3.669252411212307}, 2: {0: 3.1454810266042403, 1: 5.045307371326096, 2: nan, 3: 3.162270611236104}, 3: {0: 1.9780877045993273, 1: 3.669252411212307, 2: 3.162270611236104, 3: nan}}\n"
     ]
    }
   ],
   "source": [
    "print(dist.to_dict())"
   ]
  },
  {
   "cell_type": "code",
   "execution_count": 114,
   "metadata": {},
   "outputs": [
    {
     "name": "stdout",
     "output_type": "stream",
     "text": [
      "           0      1      2      3\n",
      "pop1   0.250  0.250  0.250  0.250\n",
      "pop2   0.500  0.000  0.000  0.500\n",
      "Total  0.375  0.125  0.125  0.375\n",
      "Int64Index([0, 1, 2, 3], dtype='int64')\n"
     ]
    }
   ],
   "source": [
    "from CRISPR_functions import nCr\n",
    "\n",
    "t=['pop1','pop2']\n",
    "# t=['pop1','pop2','pop3']\n",
    "\n",
    "pop_subset=pop.loc[t]\n",
    "pop_subset.loc['Total']=(pop_subset.sum(axis=0)/len(pop_subset))\n",
    "print(pop_subset)\n",
    "\n",
    "'''tt = the average coalescent times of two genes drawn from the collection of subpopulations, \n",
    "tt = sum of pairwise distance between haplotypes weighted by their relative abundance in the population *1/2 because we want coalescence time '''\n",
    "\n",
    "tt=sum([dist.loc[combi]*pop_subset.loc['Total',combi[0]]*pop_subset.loc['Total',combi[1]] for combi in combinations(pop_subset.columns,2)])/2\n",
    "print(pop_subset.columns)\n"
   ]
  },
  {
   "cell_type": "code",
   "execution_count": 44,
   "metadata": {},
   "outputs": [
    {
     "name": "stdout",
     "output_type": "stream",
     "text": [
      "pop1\n",
      "[0.91311571 0.78637026 0.49452193 1.26132684 0.9173131  0.79056765]\n",
      "pop2\n",
      "[0.        0.        1.9780877 0.        0.        0.       ]\n"
     ]
    }
   ],
   "source": [
    "import numpy as np\n",
    "fst=[]\n",
    "for p in t:\n",
    "    print(p)\n",
    "    combi_list = [combi for combi in combinations(pop_subset.columns,2)]\n",
    "    dist_list = [2*dist.loc[combi] for combi in combinations(pop_subset.columns,2)]\n",
    "    prob_pick_pair = np.array([2*pop_subset.loc[p,combi[0]]*pop_subset.loc[p,combi[1]]  for combi in combinations(pop_subset.columns,2)])\n",
    "    print(dist_list*prob_pick_pair)\n",
    "#        t0=sum([dist.loc[combi]*pop_subset.loc[p,combi[0]]*pop_subset.loc[p,combi[1]] for combi in combinations(pop_subset.columns,2)])/2\n",
    "#     print(p,t0)\n",
    "#     print([[dist.loc[combi],pop_subset.loc[p,combi[0]],pop_subset.loc[p,combi[1]]] for combi in combinations(pop_subset.columns,2)])\n",
    "\n",
    "        \n",
    "#     fst+=[(tt-t0)/tt]\n",
    "\n",
    "# pop_subset['Fst']=fst+[None]\n",
    "# pop_subset"
   ]
  },
  {
   "cell_type": "code",
   "execution_count": null,
   "metadata": {},
   "outputs": [],
   "source": []
  },
  {
   "cell_type": "code",
   "execution_count": null,
   "metadata": {},
   "outputs": [],
   "source": []
  },
  {
   "cell_type": "code",
   "execution_count": null,
   "metadata": {},
   "outputs": [],
   "source": []
  },
  {
   "cell_type": "code",
   "execution_count": null,
   "metadata": {},
   "outputs": [],
   "source": []
  }
 ],
 "metadata": {
  "kernelspec": {
   "display_name": "Python 3",
   "language": "python",
   "name": "python3"
  },
  "language_info": {
   "codemirror_mode": {
    "name": "ipython",
    "version": 3
   },
   "file_extension": ".py",
   "mimetype": "text/x-python",
   "name": "python",
   "nbconvert_exporter": "python",
   "pygments_lexer": "ipython3",
   "version": "3.6.3"
  }
 },
 "nbformat": 4,
 "nbformat_minor": 2
}

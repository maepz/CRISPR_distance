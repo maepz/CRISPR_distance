{
 "cells": [
  {
   "cell_type": "markdown",
   "metadata": {},
   "source": [
    "# Introduction\n",
    "This script should calculate a pairwise distance matrix based on the CRISPR arrays.\n",
    "It is an adaptation of the method in Kupczok and Bollack 2013*\n",
    "\n",
    "*Kupczok, A., and Bollback, J.P. 2013. Probabilistic models for CRISPR spacer content evolution. BMC Evolutionary Biology 13(1): 54. doi:10.1186/1471-2148-13-54.\n"
   ]
  },
  {
   "cell_type": "markdown",
   "metadata": {},
   "source": [
    "## From the paper\n",
    "1. Estimate a starting ρ from the length model by maximum likelihood. \n",
    "2. For each pair of spacers with overlap, generate the\n",
    "    possible ancestors (doesnt need to actually generate the arrays): Ancestral arrays can be arbitrarily\n",
    "    large, but the probability of observing a certain\n",
    "    length is given by p(n). For practical reasons we do\n",
    "    not consider ancestors whose length is outside the\n",
    "    central 99% of the stationary distribution given by ρ\n",
    "    estimated in step 1, since they would have a\n",
    "    negligible contribution to the likelihood. In detail, the\n",
    "    length l1 where the cumulative distribution exceeds\n",
    "    0.005 is the minimum ancestor length and the length\n",
    "    l2 where the cumulative distribution exceeds 0.995 is\n",
    "    the maximum ancestor length. Then the possible\n",
    "    ancestor lengths n are between l1 and l2: l1 ≤ n ≤ l2.\n",
    "3. (a) For all pairs with overlap, estimate the times\n",
    "    with fixed ρ. It is possible to iterate through\n",
    "    the pairs and estimate their times\n",
    "    independently of the other pairs. The\n",
    "    estimation of both times is iterated\n",
    "    alternatingly until the likelihood has\n",
    "    converged.\n",
    "    (b) Estimate ρ with fixed times using L(ρ|t, S).\n",
    "    (c) Check if the log-likelihood of the estimated\n",
    "    parameters has converged, then return the\n",
    "    estimated parameters, else repeat step (a)\n",
    "    with the new parameters."
   ]
  },
  {
   "cell_type": "markdown",
   "metadata": {},
   "source": [
    "## Pseudo code\n",
    "\n",
    "functions:\n",
    "Amongst the spacers, find each pair of spacers with overlap\n",
    "Generate the possible ancestors of a pair\n",
    "Estimate time divergence given fixed p \n",
    "Estimate p given fixed divergence time\n"
   ]
  },
  {
   "cell_type": "markdown",
   "metadata": {},
   "source": [
    "# Find pairs with overlap"
   ]
  },
  {
   "cell_type": "code",
   "execution_count": 161,
   "metadata": {},
   "outputs": [
    {
     "data": {
      "text/plain": [
       "1"
      ]
     },
     "execution_count": 161,
     "metadata": {},
     "output_type": "execute_result"
    }
   ],
   "source": [
    "ancestor=[0,1,2,3,4,5,6,7,8,9,10,11,12,13]\n",
    "arr=[[9,2,3,4,5],[0,1,2,3,7,8],[1,10,11,12,13]]\n",
    "# Deconstruct array into fragments\n",
    "array1=arr[0]\n",
    "array2=arr[1]    \n",
    "\n",
    "def is_overlapping(array1, array2):\n",
    "    for i in array1:\n",
    "        if i in array2:\n",
    "            answer=1\n",
    "            break\n",
    "        else:\n",
    "            answer=0\n",
    "            continue\n",
    "    return(answer)\n",
    "\n",
    "is_overlapping(array1, array2)    "
   ]
  },
  {
   "cell_type": "markdown",
   "metadata": {},
   "source": [
    "# "
   ]
  },
  {
   "cell_type": "markdown",
   "metadata": {},
   "source": [
    "## Ordered model:\n",
    "Given a pair of arrays s1 and s2, find the\n",
    "first shared spacer. The ancestor must contain this spacer\n",
    "and all subsequent spacers from both arrays, these are c\n",
    "spacers in total. There are d1 and d2 spacers before the\n",
    "first shared spacer in s1 and s2, respectively. With these\n",
    "new definitions of c, d1 and d2, the method from the\n",
    "unordered model is applied."
   ]
  },
  {
   "cell_type": "code",
   "execution_count": 1,
   "metadata": {},
   "outputs": [
    {
     "name": "stdout",
     "output_type": "stream",
     "text": [
      "s1 [9, 2, 3, 4, 5]\n",
      "s2 [0, 1, 2, 3, 7, 8]\n",
      "c_spacers [2, 3, 4, 5, 7, 8]\n",
      "d1_spacers [9]\n",
      "d2_spacers [0, 1]\n"
     ]
    }
   ],
   "source": [
    "'''Given a pair of arrays s1 and s2, find the\n",
    "first shared spacer. The ancestor must contain this spacer\n",
    "and all subsequent spacers from both arrays, these are c\n",
    "spacers in total. There are d1 and d2 spacers before the\n",
    "first shared spacer in s1 and s2, respectively. With these\n",
    "new definitions of c, d1 and d2, the method from the\n",
    "unordered model is applied.'''\n",
    "\n",
    "def categorize_spacers_for_ordered_model(s1,s2):\n",
    "    c_spacers=[]\n",
    "    for i in range(len(s1)):\n",
    "        sp=s1[i]\n",
    "        if sp in s2:\n",
    "            j=s2.index(sp)\n",
    "            c_spacers=s2[j:]+s1[i:]\n",
    "            d1_spacers=s1[:i]\n",
    "            d2_spacers=s2[:j]\n",
    "            break\n",
    "    return(list(set(c_spacers)),d1_spacers,d2_spacers)\n",
    "\n",
    "arr=[[9,2,3,4,5],[0,1,2,3,7,8],[1,10,11,12,13]]\n",
    "s1=arr[0]\n",
    "s2=arr[1]\n",
    "print('s1',s1)\n",
    "print('s2',s2)\n",
    "#first spaer of shorter array\n",
    "\n",
    "c_spacers, d1_spacers, d2_spacers = categorize_spacers_for_ordered_model(s1,s2)           \n",
    "print('c_spacers',c_spacers)\n",
    "print('d1_spacers',d1_spacers)\n",
    "print('d2_spacers',d2_spacers)"
   ]
  },
  {
   "cell_type": "markdown",
   "metadata": {},
   "source": [
    "Then all n between min(c, l1) and l2 are generated.\n",
    "When length n is generated, enumerate all i, j, u\n",
    "such that c + i + j + u = n, i ≤ d1 and j ≤ d2. Then for\n",
    "ancestor a, there are c common spacers, i only occur in s1, j\n",
    "only occur in s2 and u are unobserved (they are lost in both\n",
    "lineages)."
   ]
  },
  {
   "cell_type": "markdown",
   "metadata": {},
   "source": [
    "# Independent loss models : Length model\n",
    "ro = $$\\rho = \\frac{\\lambda}{\\mu}$$\n",
    "with $\\lambda$ = spacer insertion rate, $\\mu$ = spacer_deletion_rate\n",
    "\n",
    "prob_n_given_ro = $$p(n|\\rho) = e^{-\\rho} \\frac{\\rho^n}{n!}$$"
   ]
  },
  {
   "cell_type": "code",
   "execution_count": null,
   "metadata": {},
   "outputs": [],
   "source": [
    "import numpy as np\n",
    "\n",
    "lbda=1\n",
    "mu=2\n",
    "n=2\n",
    "\n",
    "def rho(lbda,mu):\n",
    "    return(lbda/mu)\n",
    "def prob_n_given_ro(n,rho):\n",
    "    return((np.e**-rho)*(rho**n/np.math.factorial(n))) "
   ]
  },
  {
   "cell_type": "code",
   "execution_count": null,
   "metadata": {},
   "outputs": [],
   "source": [
    "import numpy as np\n",
    "import pandas as pd\n",
    "\n",
    "rho=0.2\n",
    "N = 100\n",
    "x = map(int,np.linspace(0,20,N))\n",
    "ϵ = np.random.normal(loc = 0.0, scale = 5.0, size = N)\n",
    "y = [prob_n_given_ro(n,rho) for n in x]\n",
    "\n",
    "df = pd.DataFrame({'y':y, 'x':x})\n",
    "df[:5]"
   ]
  },
  {
   "cell_type": "code",
   "execution_count": 2,
   "metadata": {},
   "outputs": [
    {
     "name": "stdout",
     "output_type": "stream",
     "text": [
      "36.0\n",
      "36\n"
     ]
    }
   ],
   "source": [
    "#### define combi class ####\n",
    "class combi:\n",
    "    \n",
    "    \"\"\"The combi object is a list of integers [c,i,j,u] that represent all putative ancestors given the following parameters:\n",
    "    c = number of c_spacers; spacers necessarily present in the ancestor of two CRISPR arrays,\n",
    "    i = number of putative ancestral spacers amongst the spacers only present in array1,\n",
    "    j = number of putative ancestral spacers amongt these only present in array 2,\n",
    "    u = number of putative spacers present in ancestor but lost in both arrays\n",
    "    \n",
    "    the lengths of the putative ancestral arrays n = sum([c,i,j,u])\"\"\"\n",
    "    \n",
    "    def __init__(self,list):\n",
    "        from CRISPR_functions import nCr\n",
    "\n",
    "        self.c = list[0]\n",
    "        self.i = list[1]\n",
    "        self.j = list[2]\n",
    "        self.u = list[3]\n",
    "        self.n = sum(list)\n",
    "        possible_positions_of_u = nCr(self.n,self.u)\n",
    "        possible_combinations_of_d1_and_d2 = nCr(self.i+self.j,self.i)\n",
    "        possible_combinations_of_cspacers_with_loss= 0\n",
    "        \n",
    "        self.array_counts=possible_positions_of_u*possible_combinations_of_d1_and_d2 # to get the number of putative ancestors\n",
    "        \n",
    "    def get_arrays(self,c_spacers,d1_spacers,d2_spacers): # to get the list of all possible arrays        \n",
    "        array_list2=[]\n",
    "        def merge_lists(lst1,lst2):\n",
    "            import itertools\n",
    "            array_list=[]\n",
    "            for locations in itertools.combinations(range(len(lst1) + len(lst2)), len(lst2)):\n",
    "                result = lst1[:]\n",
    "                for location, element in zip(locations, lst2):\n",
    "                    result.insert(location, element)\n",
    "                new_list=result\n",
    "                array_list+=[new_list]\n",
    "            return(array_list)\n",
    "        \n",
    "        d1_good=d1_spacers[len(d1_spacers)-self.i:]\n",
    "        d2_good=d2_spacers[len(d2_spacers)-self.j:]\n",
    "        u_good=self.u*['u']\n",
    "        c_spacers=c_spacers\n",
    "        if self.u>0:\n",
    "            for array in merge_lists(d1_good,d2_good):\n",
    "                array_list2+=merge_lists(u_good,array+c_spacers)\n",
    "        else:\n",
    "            array_list2=[array+c_spacers for array in merge_lists(d1_good,d2_good)]\n",
    "        return(array_list2)\n",
    "        \n",
    "# print(combi([6, 0, 2, 1]).c)\n",
    "print(combi([6, 1, 0, 2]).array_counts)\n",
    "print(len(combi([6, 1, 0, 2]).get_arrays(c_spacers,d1_spacers,d2_spacers)))\n",
    "# combi([6, 1, 0, 2]).get_arrays(c_spacers,d1_spacers,d2_spacers)\n"
   ]
  },
  {
   "cell_type": "code",
   "execution_count": 4,
   "metadata": {},
   "outputs": [
    {
     "name": "stdout",
     "output_type": "stream",
     "text": [
      "[2, 3, 4, 5, 7, 8]\n"
     ]
    },
    {
     "ename": "NameError",
     "evalue": "name 'c1_spacers' is not defined",
     "output_type": "error",
     "traceback": [
      "\u001b[0;31m---------------------------------------------------------------------------\u001b[0m",
      "\u001b[0;31mNameError\u001b[0m                                 Traceback (most recent call last)",
      "\u001b[0;32m<ipython-input-4-0957723884a9>\u001b[0m in \u001b[0;36m<module>\u001b[0;34m\u001b[0m\n\u001b[1;32m     76\u001b[0m \u001b[0;34m\u001b[0m\u001b[0m\n\u001b[1;32m     77\u001b[0m \u001b[0;31m## for s1\u001b[0m\u001b[0;34m\u001b[0m\u001b[0;34m\u001b[0m\u001b[0;34m\u001b[0m\u001b[0m\n\u001b[0;32m---> 78\u001b[0;31m \u001b[0ms1_m\u001b[0m \u001b[0;34m=\u001b[0m \u001b[0mlen\u001b[0m\u001b[0;34m(\u001b[0m\u001b[0mc1_spacers\u001b[0m\u001b[0;34m)\u001b[0m \u001b[0;34m+\u001b[0m \u001b[0mi\u001b[0m\u001b[0;34m\u001b[0m\u001b[0;34m\u001b[0m\u001b[0m\n\u001b[0m\u001b[1;32m     79\u001b[0m \u001b[0ms1_d\u001b[0m \u001b[0;34m=\u001b[0m \u001b[0mj\u001b[0m \u001b[0;34m+\u001b[0m \u001b[0mc\u001b[0m \u001b[0;34m-\u001b[0m \u001b[0mlen\u001b[0m\u001b[0;34m(\u001b[0m\u001b[0mc1_spacers\u001b[0m\u001b[0;34m)\u001b[0m \u001b[0;34m+\u001b[0m \u001b[0mu\u001b[0m\u001b[0;34m\u001b[0m\u001b[0;34m\u001b[0m\u001b[0m\n\u001b[1;32m     80\u001b[0m \u001b[0ms1_ii\u001b[0m \u001b[0;34m=\u001b[0m \u001b[0mlen\u001b[0m\u001b[0;34m(\u001b[0m\u001b[0md1_spacers\u001b[0m\u001b[0;34m)\u001b[0m \u001b[0;34m-\u001b[0m \u001b[0mi\u001b[0m\u001b[0;34m\u001b[0m\u001b[0;34m\u001b[0m\u001b[0m\n",
      "\u001b[0;31mNameError\u001b[0m: name 'c1_spacers' is not defined"
     ]
    }
   ],
   "source": [
    "class CRISPR_pair:\n",
    "    \n",
    "    def __init__(self, s1,s2):\n",
    "        from CRISPR_functions import categorize_spacers_for_ordered_model\n",
    "        self.s1 = s1\n",
    "        self.s2 = s2\n",
    "        self.c1_spacers, self.c2_spacers, self.d1_spacers, self.d2_spacers = categorize_spacers_for_ordered_model(self.s1,self.s2)\n",
    "        self.c_spacers = list(set(self.c1_spacers+self.c2_spacers))\n",
    "        \n",
    "        \n",
    "    def get_combi(self,l1,l2):\n",
    "\n",
    "        ''' Get a dictionary of all the possible combinations of spacers categories + their weight for each ancestor length. \n",
    "        {n:[[c,i,j,u]],ws} with:\n",
    "        n length of ancestral array, \n",
    "        c number of spacers in common (spacers necessarily present in ancerstor), \n",
    "        i number of ancestral spacers amongst the spacers only present in array1, \n",
    "        j number of ancestral spacers amongt these only present in array 2.\n",
    "        ws weight of each putative ancestral array from this combi\n",
    "        l1 (min ancestor length) and l2 (max ancestor length) have to be provided'''\n",
    "\n",
    "        from CRISPR_functions import combi\n",
    "\n",
    "        min_ansestor_len=min(len(self.c_spacers),l1)\n",
    "        max_ansestor_len=max(len(self.c_spacers+self.d1_spacers+self.d2_spacers),l2)\n",
    "        c=len(self.c_spacers)\n",
    "        spacers_combi={}\n",
    "        for n in range(min_ansestor_len,max_ansestor_len+1):\n",
    "            for i in range(len(self.d1_spacers)+1):\n",
    "                for j in range(len(self.d2_spacers)+1):\n",
    "                    if c+i+j<n+1:\n",
    "                        u=n-(c+i+j)\n",
    "                        if n in spacers_combi.keys():\n",
    "                            spacers_combi[n][0]+=[[c,i,j,u]]\n",
    "                        else:\n",
    "                            spacers_combi[n]=[[[c,i,j,u]]]\n",
    "        \n",
    "        for n in spacers_combi.keys():\n",
    "            ancestor_counts=sum([combi(comb).array_counts for comb in spacers_combi[n][0]]) \n",
    "            spacers_combi[n]+=[1/ancestor_counts]\n",
    "        return(spacers_combi)\n",
    "    \n",
    "#     def get_ancestors(self,l1,l2):\n",
    "#         ''' Returns a dictionary that has the form [n]:{'ws','arrays'} with n = length of putative ancestor, ws = weight of each putative ancestral array, arrays = list of putative ancestral arrays'''\n",
    "#         from CRISPR_functions import combi\n",
    "\n",
    "#         pair= self\n",
    "#         for n in pair.get_combi(l1,l2).keys():\n",
    "#             array_counts=0\n",
    "#             array_list=[]\n",
    "#             for comb in pair.get_combi(l1,l2)[n][0]:\n",
    "#                 array_counts+=combi(comb).array_counts\n",
    "#                 array_list+=combi(comb).get_arrays(pair.c_spacers,pair.d1_spacers,pair.d2_spacers)\n",
    "#             ancestors[n]={'ws':1/array_counts,'arrays':array_list}\n",
    "#         return(ancestors)\n",
    "\n",
    "        \n",
    "    \n",
    "################ test class ################## \n",
    "from CRISPR_functions import get_limits_ancestor_sizes\n",
    "arr=[[9,2,3,4,5],[0,1,2,3,7,8],[1,10,11,12,13]]\n",
    "s1=arr[0]\n",
    "s2=arr[1]\n",
    "\n",
    "l1,l2=get_limits_ancestor_sizes(arr)\n",
    "pair=CRISPR_pair(s1,s2)\n",
    "print(pair.c_spacers)\n",
    "ancestors={}\n",
    "pair.get_combi(l1,l2)\n",
    "\n",
    "comb=[6, 1, 1, 0]\n",
    "c=comb[0]\n",
    "i=comb[1]\n",
    "j=comb[2]\n",
    "u=comb[3]\n",
    "\n",
    "## for s1\n",
    "s1_m = len(c1_spacers) + i\n",
    "s1_d = j + c - len(c1_spacers) + u\n",
    "s1_ii = len(d1_spacers) - i\n",
    "\n",
    "## for s2\n",
    "s2_m = len(c2_spacers)+j\n",
    "s2_d = i + c - len(c2_spacers) + u\n",
    "s2_ii = len(d2_spacers) - j\n",
    "\n",
    "\n",
    "pair.get_ancestors(l1,l2)\n",
    "\n",
    "\n",
    "def get_ancestors(self):\n",
    "    ''' Returns a dictionary that has the form [n]:{'ws','arrays'} with n = length of putative ancestor, ws = weight of each putative ancestral array, arrays = list of putative ancestral arrays'''\n",
    "    from CRISPR_functions import combi\n",
    "\n",
    "    for n in pair.get_combi().keys():\n",
    "        array_counts=0\n",
    "        array_list=[]\n",
    "        for comb in pair.get_combi()[n]:\n",
    "            array_counts+=combi(comb).array_counts\n",
    "            array_list+=combi(comb).get_arrays(pair.c_spacers,pair.d1_spacers,pair.d2_spacers)\n",
    "        ancestors[n]={'ws':1/array_counts,'arrays':array_list}\n",
    "    return(ancestors)"
   ]
  },
  {
   "cell_type": "code",
   "execution_count": 87,
   "metadata": {},
   "outputs": [
    {
     "ename": "AttributeError",
     "evalue": "'CRISPR_pair' object has no attribute 'vat'",
     "output_type": "error",
     "traceback": [
      "\u001b[0;31m---------------------------------------------------------------------------\u001b[0m",
      "\u001b[0;31mAttributeError\u001b[0m                            Traceback (most recent call last)",
      "\u001b[0;32m<ipython-input-87-45a15e906df4>\u001b[0m in \u001b[0;36m<module>\u001b[0;34m\u001b[0m\n\u001b[1;32m     50\u001b[0m \u001b[0;34m\u001b[0m\u001b[0m\n\u001b[1;32m     51\u001b[0m \u001b[0mPAIR\u001b[0m\u001b[0;34m.\u001b[0m\u001b[0mget_combi\u001b[0m\u001b[0;34m(\u001b[0m\u001b[0;36m1\u001b[0m\u001b[0;34m,\u001b[0m\u001b[0;36m12\u001b[0m\u001b[0;34m)\u001b[0m\u001b[0;34m\u001b[0m\u001b[0;34m\u001b[0m\u001b[0m\n\u001b[0;32m---> 52\u001b[0;31m \u001b[0mPAIR\u001b[0m\u001b[0;34m.\u001b[0m\u001b[0mvat\u001b[0m\u001b[0;34m\u001b[0m\u001b[0;34m\u001b[0m\u001b[0m\n\u001b[0m",
      "\u001b[0;31mAttributeError\u001b[0m: 'CRISPR_pair' object has no attribute 'vat'"
     ]
    }
   ],
   "source": [
    "class CRISPR_pair:\n",
    "    \n",
    "    def __init__(self, s1,s2):\n",
    "        from CRISPR_functions import categorize_spacers_for_ordered_model\n",
    "        self.s1 = s1\n",
    "        self.s2 = s2\n",
    "        self.c1_spacers, self.c2_spacers, self.d1_spacers, self.d2_spacers = categorize_spacers_for_ordered_model(self.s1,self.s2)\n",
    "        self.c_spacers = list(set(self.c1_spacers+self.c2_spacers))\n",
    "        \n",
    "        \n",
    "    def get_combi(self,l1,l2):\n",
    "\n",
    "        ''' The function get_combi outputs a dictionary of all the possible combinations of spacers categories + their weight for each ancestor length. \n",
    "        {n:[[c,i,j,u]],ws} with:\n",
    "        n length of ancestral array, \n",
    "        c number of spacers in common (spacers necessarily present in ancerstor), \n",
    "        i number of ancestral spacers amongst the spacers only present in array1, \n",
    "        j number of ancestral spacers amongt these only present in array 2.\n",
    "        ws weight of each putative ancestral array from this combi\n",
    "        l1 (min ancestor length) and l2 (max ancestor length) have to be provided'''\n",
    "\n",
    "        from CRISPR_functions import combi\n",
    "\n",
    "        min_ansestor_len=min(len(self.c_spacers),l1)\n",
    "        max_ansestor_len=max(len(self.c_spacers+self.d1_spacers+self.d2_spacers),l2)\n",
    "        c=len(self.c_spacers)\n",
    "        spacers_combi={}\n",
    "        for n in range(min_ansestor_len,max_ansestor_len+1):\n",
    "            for i in range(len(self.d1_spacers)+1):\n",
    "                for j in range(len(self.d2_spacers)+1):\n",
    "                    if c+i+j<n+1:\n",
    "                        u=n-(c+i+j)\n",
    "                        if n in spacers_combi.keys():\n",
    "                            spacers_combi[n][0]+=[[c,i,j,u]]\n",
    "                        else:\n",
    "                            spacers_combi[n]=[[[c,i,j,u]]]\n",
    "        \n",
    "        for n in spacers_combi.keys():\n",
    "            ancestor_counts=sum([combi(comb).array_counts for comb in spacers_combi[n][0]])\n",
    "#             print(ancestor_counts)\n",
    "#             print([combi(comb).array_counts/ancestor_counts for comb in spacers_combi[n][0]])\n",
    "            spacers_combi[n]+=[[combi(comb).array_counts/ancestor_counts for comb in spacers_combi[n][0]]]\n",
    "        return(spacers_combi)\n",
    "\n",
    "    \n",
    "pair=[[9, 2, 3, 4, 5], [0, 1, 2, 3, 7, 8]]\n",
    "s1=pair[0]\n",
    "s2=pair[1]\n",
    "PAIR=CRISPR_pair(s1,s2)\n",
    "\n",
    "PAIR.get_combi(1,12)\n",
    "PAIR.vat"
   ]
  },
  {
   "cell_type": "code",
   "execution_count": 85,
   "metadata": {},
   "outputs": [
    {
     "data": {
      "text/plain": [
       "{'6-0-0-0': 1.0,\n",
       " '6-0-0-1': 0.7777777777777778,\n",
       " '6-0-1-0': 0.1111111111111111,\n",
       " '6-1-0-0': 0.1111111111111111,\n",
       " '6-0-0-2': 0.5957446808510638,\n",
       " '6-0-1-1': 0.1702127659574468,\n",
       " '6-0-2-0': 0.02127659574468085,\n",
       " '6-1-0-1': 0.1702127659574468,\n",
       " '6-1-1-0': 0.0425531914893617,\n",
       " '6-0-0-3': 0.45161290322580644,\n",
       " '6-0-1-2': 0.1935483870967742,\n",
       " '6-0-2-1': 0.04838709677419355,\n",
       " '6-1-0-2': 0.1935483870967742,\n",
       " '6-1-1-1': 0.0967741935483871,\n",
       " '6-1-2-0': 0.016129032258064516,\n",
       " '6-0-0-4': 0.34146341463414637,\n",
       " '6-0-1-3': 0.1951219512195122,\n",
       " '6-0-2-2': 0.07317073170731707,\n",
       " '6-1-0-3': 0.1951219512195122,\n",
       " '6-1-1-2': 0.14634146341463414,\n",
       " '6-1-2-1': 0.04878048780487805,\n",
       " '6-0-0-5': 0.25925925925925924,\n",
       " '6-0-1-4': 0.18518518518518517,\n",
       " '6-0-2-3': 0.09259259259259259,\n",
       " '6-1-0-4': 0.18518518518518517,\n",
       " '6-1-1-3': 0.18518518518518517,\n",
       " '6-1-2-2': 0.09259259259259259,\n",
       " '6-0-0-6': 0.19858156028368795,\n",
       " '6-0-1-5': 0.1702127659574468,\n",
       " '6-0-2-4': 0.10638297872340426,\n",
       " '6-1-0-5': 0.1702127659574468,\n",
       " '6-1-1-4': 0.2127659574468085,\n",
       " '6-1-2-3': 0.14184397163120568}"
      ]
     },
     "execution_count": 85,
     "metadata": {},
     "output_type": "execute_result"
    }
   ],
   "source": [
    "import CRISPR_functions\n",
    "importlib.reload(CRISPR_functions) \n",
    "\n",
    "### change get_combi output format\n",
    "\n",
    "class CRISPR_pair:\n",
    "    \n",
    "    def __init__(self, s1,s2):\n",
    "        from CRISPR_functions import categorize_spacers_for_ordered_model\n",
    "        self.s1 = s1\n",
    "        self.s2 = s2\n",
    "        self.c1_spacers, self.c2_spacers, self.d1_spacers, self.d2_spacers = categorize_spacers_for_ordered_model(self.s1,self.s2)\n",
    "        self.c_spacers = list(set(self.c1_spacers+self.c2_spacers))\n",
    "        \n",
    "        \n",
    "    def get_combi(self,l1,l2):\n",
    "\n",
    "        ''' The function get_combi outputs a dictionary of all the possible combinations of spacers categories + their weight for each ancestor length. \n",
    "        {n:[[c,i,j,u]],ws} with:\n",
    "        n length of ancestral array, \n",
    "        c number of spacers in common (spacers necessarily present in ancerstor), \n",
    "        i number of ancestral spacers amongst the spacers only present in array1, \n",
    "        j number of ancestral spacers amongt these only present in array 2.\n",
    "        ws weight of each putative ancestral array from this combi\n",
    "        l1 (min ancestor length) and l2 (max ancestor length) have to be provided'''\n",
    "        from CRISPR_functions import combi\n",
    "       \n",
    "        min_ansestor_len=min(len(self.c_spacers),l1)\n",
    "        max_ansestor_len=max(len(self.c_spacers+self.d1_spacers+self.d2_spacers),l2)\n",
    "        c=len(self.c_spacers)\n",
    "        spacers_combi={}\n",
    "        combi_output={}\n",
    "        for n in range(min_ansestor_len,max_ansestor_len+1):\n",
    "            for i in range(len(self.d1_spacers)+1):\n",
    "                for j in range(len(self.d2_spacers)+1):\n",
    "                    if c+i+j<n+1:\n",
    "                        u=n-(c+i+j)\n",
    "                        if n in spacers_combi.keys():\n",
    "                            spacers_combi[n]+=[combi([c,i,j,u])]\n",
    "                        else:\n",
    "                            spacers_combi[n]=[combi([c,i,j,u])]\n",
    "        \n",
    "        for n,v in spacers_combi.items():\n",
    "            \n",
    "            combi_strings=[combi.str for combi in v]\n",
    "            ancestor_counts = sum([combi.array_counts for combi in v])\n",
    "            ancestor_weights = [combi.array_counts/ancestor_counts for combi in v]\n",
    "            \n",
    "            combi_output.update(dict(zip(combi_strings,ancestor_weights)))\n",
    "\n",
    "        return(combi_output)\n",
    "    \n",
    "    \n",
    "    \n",
    "pair=[[9, 2, 3, 4, 5], [0, 1, 2, 3, 7, 8]]\n",
    "s1=pair[0]\n",
    "s2=pair[1]\n",
    "PAIR=CRISPR_pair(s1,s2)\n",
    "\n",
    "PAIR.get_combi(1,12)"
   ]
  },
  {
   "cell_type": "code",
   "execution_count": 397,
   "metadata": {},
   "outputs": [
    {
     "name": "stdout",
     "output_type": "stream",
     "text": [
      "9\n",
      "1.0\n",
      "9.0\n",
      "47.0\n",
      "186.0\n"
     ]
    },
    {
     "data": {
      "text/plain": [
       "{6: {(6, 0, 0, 0): {'w': 1.0, 'ws': 1.0}},\n",
       " 7: {(6, 0, 0, 1): {'w': 7.0, 'ws': 0.7777777777777778},\n",
       "  (6, 0, 1, 0): {'w': 1.0, 'ws': 0.1111111111111111},\n",
       "  (6, 1, 0, 0): {'w': 1.0, 'ws': 0.1111111111111111}},\n",
       " 8: {(6, 0, 0, 2): {'w': 28.0, 'ws': 0.5957446808510638},\n",
       "  (6, 0, 1, 1): {'w': 8.0, 'ws': 0.1702127659574468},\n",
       "  (6, 0, 2, 0): {'w': 1.0, 'ws': 0.02127659574468085},\n",
       "  (6, 1, 0, 1): {'w': 8.0, 'ws': 0.1702127659574468},\n",
       "  (6, 1, 1, 0): {'w': 2.0, 'ws': 0.0425531914893617}},\n",
       " 9: {(6, 0, 0, 3): {'w': 84.0, 'ws': 0.45161290322580644},\n",
       "  (6, 0, 1, 2): {'w': 36.0, 'ws': 0.1935483870967742},\n",
       "  (6, 0, 2, 1): {'w': 9.0, 'ws': 0.04838709677419355},\n",
       "  (6, 1, 0, 2): {'w': 36.0, 'ws': 0.1935483870967742},\n",
       "  (6, 1, 1, 1): {'w': 18.0, 'ws': 0.0967741935483871},\n",
       "  (6, 1, 2, 0): {'w': 3.0, 'ws': 0.016129032258064516}}}"
      ]
     },
     "execution_count": 397,
     "metadata": {},
     "output_type": "execute_result"
    }
   ],
   "source": [
    "#### get w and ws ####\n",
    "\n",
    "c=len(c_spacers)\n",
    "# print(len(d1_spacers))\n",
    "n=len(c_spacers+d1_spacers+d2_spacers)\n",
    "len(d1_spacers)\n",
    "len(d2_spacers)\n",
    "# n=len(ancestor)\n",
    "# n=[n for n in range(min(len(c_spacers),len(s1)),len(ancestor))]\n",
    "print(n)\n",
    "''' Get the possible combinations of spacers categories for each ancestor length. n:[[c,i,j,u]] with n length of ancestral array, c number of spacers in common (spacers necessarily present in ancerstor), i number of ancestral spacers amongst the spacers only present in array1, j number of ancestral spacers amongt these only present in array 2'''\n",
    "spacers_combi={}\n",
    "for n in range(c,n+1):\n",
    "    i=0\n",
    "    spacers_combi[n]={}\n",
    "    for i in range(len(d1_spacers)+1):\n",
    "        for j in range(len(d2_spacers)+1):\n",
    "            if c+i+j<n+1:\n",
    "                u=n-(c+i+j)\n",
    "                spacers_combi[n][c,i,j,u]={'w':combi([c,i,j,u]).array_counts}\n",
    "    \n",
    "                    \n",
    "for k,v in spacers_combi.items():\n",
    "    ktot=0\n",
    "    for val in v.values():\n",
    "        ktot+=val['w']\n",
    "    print(ktot)\n",
    "    for c in v.keys():\n",
    "        spacers_combi[k][c].update({'ws':spacers_combi[k][c]['w']/ktot})\n",
    "spacers_combi"
   ]
  },
  {
   "cell_type": "code",
   "execution_count": 423,
   "metadata": {},
   "outputs": [
    {
     "data": {
      "text/plain": [
       "2.0"
      ]
     },
     "execution_count": 423,
     "metadata": {},
     "output_type": "execute_result"
    }
   ],
   "source": [
    "\n",
    "def get_combi(c_spacers,d1_spacers,d2_spacers)\n",
    "''' Get the possible combinations of spacers categories for each ancestor length. n:[[c,i,j,u]] with n length of ancestral array, c number of spacers in common (spacers necessarily present in ancerstor), i number of ancestral spacers amongst the spacers only present in array1, j number of ancestral spacers amongt these only present in array 2'''\n",
    "min_ansestor_len=len(c_spacers) # => should be min(len(c_spacers),l1)\n",
    "max_ansestor_len=len(c_spacers+d1_spacers+d2_spacers) # => Should be max(len(c_spacers+d1_spacers+d2_spacers), l2)\n",
    "spacers_combi={}\n",
    "for n in range(min_ansestor_len,max_ansestor_len+1):\n",
    "    i=0\n",
    "    spacers_combi[n]=[]\n",
    "    for i in range(len(d1_spacers)+1):\n",
    "        for j in range(len(d2_spacers)+1):\n",
    "            if c+i+j<n+1:\n",
    "                u=n-(c+i+j)\n",
    "                spacers_combi[n]+=[c,i,j,u]\n",
    "                \n",
    "                "
   ]
  },
  {
   "cell_type": "code",
   "execution_count": 356,
   "metadata": {},
   "outputs": [
    {
     "name": "stdout",
     "output_type": "stream",
     "text": [
      "[2, 3, 4, 5, 7, 8]\n",
      "[9]\n",
      "[0, 1]\n",
      "combi (6, 0, 0, 3)\n",
      "84.0\n",
      "combi (6, 0, 1, 2)\n",
      "36.0\n",
      "combi (6, 0, 2, 1)\n",
      "9.0\n",
      "combi (6, 1, 0, 2)\n",
      "36.0\n",
      "combi (6, 1, 1, 1)\n",
      "18.0\n",
      "combi (6, 1, 2, 0)\n",
      "3.0\n"
     ]
    }
   ],
   "source": [
    "#### get array counts (now within combi class) ####\n",
    "print(c_spacers)\n",
    "print(d1_spacers)\n",
    "print(d2_spacers)\n",
    "n=9\n",
    "for combi in spacers_combi[n].keys():\n",
    "    print ('combi',combi)\n",
    "    c=combi[0]\n",
    "    i=combi[1]\n",
    "    j=combi[2]\n",
    "    u=combi[3]\n",
    "    possible_positions_of_u=nCr(n,u)\n",
    "    possible_combinations_of_d1_and_d2=nCr(i+j,i)\n",
    "    arrays_for_this_combi=possible_positions_of_u*possible_combinations_of_d1_and_d2\n",
    "    print(arrays_for_this_combi)\n",
    "#     d1_good=d1_spacers[len(d1_spacers)-i:]\n",
    "#     d2_good=d2_spacers[len(d2_spacers)-j:]\n",
    "#     u_good=u*'u'\n",
    "#     print(arrays_for_this_combi)\n",
    "#     print(d1_good)\n",
    "#     print(d2_good)\n",
    "    "
   ]
  },
  {
   "cell_type": "code",
   "execution_count": 409,
   "metadata": {},
   "outputs": [
    {
     "data": {
      "text/plain": [
       "[[0, 1, 9, 2, 3, 4, 5, 7, 8],\n",
       " [0, 9, 1, 2, 3, 4, 5, 7, 8],\n",
       " [9, 0, 1, 2, 3, 4, 5, 7, 8]]"
      ]
     },
     "execution_count": 409,
     "metadata": {},
     "output_type": "execute_result"
    }
   ],
   "source": [
    "#### get ancestor arrays (now withon combi class) ####\n",
    "\n",
    "def get_ancestor_arrays(c,i,j,u,d1_spacers,d2_spacers,c_spacers):\n",
    "    array_list=[]\n",
    "    def merge_lists(lst1,lst2):\n",
    "        import itertools\n",
    "        array_list=[]\n",
    "\n",
    "        for locations in itertools.combinations(range(len(lst1) + len(lst2)), len(lst2)):\n",
    "            result = lst1[:]\n",
    "            for location, element in zip(locations, lst2):\n",
    "                result.insert(location, element)\n",
    "            new_list=result\n",
    "            array_list+=[new_list]\n",
    "        return(array_list)\n",
    "    \n",
    "    d1_good=d1_spacers[len(d1_spacers)-i:]\n",
    "    d2_good=d2_spacers[len(d2_spacers)-j:]\n",
    "    u_good=u*'u'\n",
    "    c_spacers=c_spacers\n",
    "    if u>0:\n",
    "        for array in merge_lists(d1_good,d2_good):\n",
    "            print ([u_good],array+c_spacers)\n",
    "            array_list+=merge_lists(u_good,array+c_spacers)\n",
    "    else:\n",
    "        array_list=[array+c_spacers for array in merge_lists(d1_good,d2_good)]\n",
    "    return(array_list)\n",
    "    \n",
    "get_ancestor_arrays(c,i,j,u,d1_good,d2_good,c_spacers)"
   ]
  },
  {
   "cell_type": "markdown",
   "metadata": {},
   "source": [
    "TO DO: \n",
    "    create Transitions functions for ordered model"
   ]
  },
  {
   "cell_type": "code",
   "execution_count": null,
   "metadata": {},
   "outputs": [],
   "source": [
    "M(m|t, μ) = e−mμt,"
   ]
  },
  {
   "cell_type": "code",
   "execution_count": 9,
   "metadata": {},
   "outputs": [
    {
     "data": {
      "text/plain": [
       "0.16684449737973722"
      ]
     },
     "execution_count": 9,
     "metadata": {},
     "output_type": "execute_result"
    }
   ],
   "source": [
    "def Transition_prob(s0,s1,t,lbda,mu):\n",
    "    '''T(s0 → s1|t, λ, μ) '''\n",
    "    import numpy as np\n",
    "\n",
    "    def M(m,t,mu):\n",
    "        '''probability of preserving m spacers in time t : M(m|t,mu)'''\n",
    "        M=np.exp(-m*t*mu)\n",
    "        return(M)\n",
    "\n",
    "    def D(d,t,mu):\n",
    "        '''probability of loosing d spacers in time t : D(d|t,mu)'''\n",
    "        D=np.power((1-np.exp(-t*mu)),d)\n",
    "        return(D)\n",
    "\n",
    "    def I(j,t,lbda,mu):\n",
    "        '''probability of inserting d spacers in time t : D(d|t,mu)'''\n",
    "        rho=lbda/mu\n",
    "        a=rho*(1-np.exp(-t*mu))\n",
    "        I=(np.exp(-a)*np.power(a,j))/np.math.factorial(j)\n",
    "        return(I)\n",
    "    \n",
    "    return(M(m,t,mu)*D(d,t,mu)*I(j,t,lbda,mu))\n",
    "\n",
    "j=5\n",
    "d=5    \n",
    "m=5\n",
    "\n",
    "t=2\n",
    "mu=1\n",
    "lbda=5\n",
    "\n",
    "M(m,t,mu)\n",
    "D(d,t,mu)\n",
    "I(j,t,lbda,mu)"
   ]
  },
  {
   "cell_type": "code",
   "execution_count": null,
   "metadata": {},
   "outputs": [],
   "source": [
    "from CRISPR_functions import CRISPR_pair\n",
    "\n",
    "def compare_ancestor_to_arrays(combi_s0,PAIR):\n",
    "    '''combi_s0= combi class object, PAIR= CRISPR_pair class object, returns for each array\n",
    "    m number of spacers maintained between ancestor and array\n",
    "    d number of spacers lost in array\n",
    "    j number of spacers gained in array'''\n",
    "    \n",
    "    c=combi_s0.c\n",
    "    i=combi_s0.i\n",
    "    j=combi_s0.j\n",
    "    u=combi_s0.u\n",
    "    \n",
    "    c1=len(PAIR.c1_spacers)\n",
    "    c2=len(PAIR.c2_spacers)\n",
    "    d1=len(PAIR.d1_spacers)\n",
    "    d2=len(PAIR.d2_spacers)\n",
    "    \n",
    "    \n",
    "    m1=c1+i\n",
    "    d1=j+u+c-c1\n",
    "    j1=d1-i\n",
    "    m2=c2+j\n",
    "    d2=i+u+c-c2\n",
    "    j2=d2-j\n",
    "    \n",
    "    return(m1,d1,j1,m2,d2,j2)\n",
    "\n",
    "combi_s0=combi([6,0,1,1])\n",
    "pair=([9, 2, 3, 4, 5], [0, 1, 2, 3, 7, 8])\n",
    "PAIR=CRISPR_pair(pair[0],pair[1])\n",
    "compare_ancestor_to_arrays(combi_s0,PAIR) "
   ]
  },
  {
   "cell_type": "code",
   "execution_count": 1,
   "metadata": {},
   "outputs": [
    {
     "data": {
      "text/plain": [
       "(4, 4, 4, 5, 3, 2)"
      ]
     },
     "execution_count": 1,
     "metadata": {},
     "output_type": "execute_result"
    }
   ],
   "source": [
    "from CRISPR_functions import combi,CRISPR_pair\n",
    "\n",
    "combi_s0=combi([6,0,1,1])\n",
    "pair=([9, 2, 3, 4, 5], [0, 1, 2, 3, 7, 8])\n",
    "PAIR=CRISPR_pair(pair[0],pair[1])\n",
    "combi_s0.compare_ancestor_to_arrays(PAIR)"
   ]
  },
  {
   "cell_type": "markdown",
   "metadata": {},
   "source": [
    "L(ρ, t1, t2|s1, s2) =\n",
    "$\\sum_{ancestors a}$\n",
    "q(a|λ, μ)T(a → s1|t1, λ, μ)\n",
    "× T(a → s2|t2, λ, μ),"
   ]
  },
  {
   "cell_type": "markdown",
   "metadata": {},
   "source": [
    "T1 = T(s0 → s1|t, λ, μ) = M(m|t, μ)D(d|t, μ)I(j|t, λ, μ)\n",
    "\n",
    "Qa = q(a|λ, μ) ; prob of observing ancestor a = prob of observing ancestor of length |a| * prob of observing this ancestor given |a|\n"
   ]
  },
  {
   "cell_type": "code",
   "execution_count": 101,
   "metadata": {},
   "outputs": [
    {
     "name": "stdout",
     "output_type": "stream",
     "text": [
      "4.482676731913939e-06\n"
     ]
    }
   ],
   "source": [
    "import CRISPR_functions\n",
    "importlib.reload(CRISPR_functions) \n",
    "\n",
    "def L(rho,t1,t2,PAIR): #add l1, l2\n",
    "    from CRISPR_functions import prob_n_given_ro, combi, CRISPR_pair, M, I, D\n",
    "    \n",
    "    lbda=rho/(rho+1)\n",
    "    mu=1/(rho+1)\n",
    "    \n",
    "    ancestors_dic= PAIR.get_combi(1,12) #l1,l2\n",
    "    Likelihood=0\n",
    "    \n",
    "    for s0,ws in ancestors_dic.items():\n",
    "        combi_s0 = combi(list(map(int,s0.split('-'))))\n",
    "        n=combi_s0.n\n",
    "\n",
    "        m1,d1,j1,m2,d2,j2 = compare_ancestor_to_arrays(combi_s0,PAIR)\n",
    "\n",
    "        Qa = prob_n_given_ro(n,rho)*ws\n",
    "        T1 = M(m1,t1,mu)*D(d1,t1,mu)*I(j1,t1,lbda,mu)\n",
    "        T2 = M(m2,t2,mu)*D(d2,t2,mu)*I(j2,t2,lbda,mu)\n",
    "        \n",
    "        Likelihood += Qa*T1*T2\n",
    "    \n",
    "    return(Likelihood)\n",
    "    \n",
    "\n",
    "pair=([9, 2, 3, 4, 5], [0, 1, 2, 3, 7, 8])\n",
    "PAIR=CRISPR_pair(pair[0],pair[1])\n",
    "rho=5\n",
    "t1=2\n",
    "t2=3\n",
    "# print(PAIR)\n",
    "print( L(rho,t1,t2,PAIR))"
   ]
  },
  {
   "cell_type": "code",
   "execution_count": 201,
   "metadata": {},
   "outputs": [
    {
     "ename": "TypeError",
     "evalue": "'numpy.float64' object is not callable",
     "output_type": "error",
     "traceback": [
      "\u001b[0;31m---------------------------------------------------------------------------\u001b[0m",
      "\u001b[0;31mTypeError\u001b[0m                                 Traceback (most recent call last)",
      "\u001b[0;32m<ipython-input-201-7a908ef1a069>\u001b[0m in \u001b[0;36m<module>\u001b[0;34m\u001b[0m\n\u001b[1;32m      4\u001b[0m \u001b[0mx0\u001b[0m\u001b[0;34m=\u001b[0m \u001b[0;34m[\u001b[0m\u001b[0;36m1\u001b[0m\u001b[0;34m,\u001b[0m\u001b[0;36m1\u001b[0m\u001b[0;34m]\u001b[0m\u001b[0;34m\u001b[0m\u001b[0;34m\u001b[0m\u001b[0m\n\u001b[1;32m      5\u001b[0m \u001b[0margs\u001b[0m\u001b[0;34m=\u001b[0m\u001b[0;34m[\u001b[0m\u001b[0mrho\u001b[0m\u001b[0;34m,\u001b[0m\u001b[0mPAIR\u001b[0m\u001b[0;34m]\u001b[0m\u001b[0;34m\u001b[0m\u001b[0;34m\u001b[0m\u001b[0m\n\u001b[0;32m----> 6\u001b[0;31m \u001b[0mtest\u001b[0m \u001b[0;34m=\u001b[0m \u001b[0mminimize\u001b[0m\u001b[0;34m(\u001b[0m\u001b[0mLL\u001b[0m\u001b[0;34m,\u001b[0m \u001b[0mx0\u001b[0m \u001b[0;34m,\u001b[0m \u001b[0mmethod\u001b[0m\u001b[0;34m=\u001b[0m\u001b[0;34m'Powell'\u001b[0m\u001b[0;34m,\u001b[0m\u001b[0margs\u001b[0m\u001b[0;34m=\u001b[0m\u001b[0margs\u001b[0m\u001b[0;34m)\u001b[0m\u001b[0;34m\u001b[0m\u001b[0;34m\u001b[0m\u001b[0m\n\u001b[0m",
      "\u001b[0;32m~/anaconda2/envs/py36/lib/python3.6/site-packages/scipy/optimize/_minimize.py\u001b[0m in \u001b[0;36mminimize\u001b[0;34m(fun, x0, args, method, jac, hess, hessp, bounds, constraints, tol, callback, options)\u001b[0m\n\u001b[1;32m    598\u001b[0m         \u001b[0;32mreturn\u001b[0m \u001b[0m_minimize_neldermead\u001b[0m\u001b[0;34m(\u001b[0m\u001b[0mfun\u001b[0m\u001b[0;34m,\u001b[0m \u001b[0mx0\u001b[0m\u001b[0;34m,\u001b[0m \u001b[0margs\u001b[0m\u001b[0;34m,\u001b[0m \u001b[0mcallback\u001b[0m\u001b[0;34m,\u001b[0m \u001b[0;34m**\u001b[0m\u001b[0moptions\u001b[0m\u001b[0;34m)\u001b[0m\u001b[0;34m\u001b[0m\u001b[0;34m\u001b[0m\u001b[0m\n\u001b[1;32m    599\u001b[0m     \u001b[0;32melif\u001b[0m \u001b[0mmeth\u001b[0m \u001b[0;34m==\u001b[0m \u001b[0;34m'powell'\u001b[0m\u001b[0;34m:\u001b[0m\u001b[0;34m\u001b[0m\u001b[0;34m\u001b[0m\u001b[0m\n\u001b[0;32m--> 600\u001b[0;31m         \u001b[0;32mreturn\u001b[0m \u001b[0m_minimize_powell\u001b[0m\u001b[0;34m(\u001b[0m\u001b[0mfun\u001b[0m\u001b[0;34m,\u001b[0m \u001b[0mx0\u001b[0m\u001b[0;34m,\u001b[0m \u001b[0margs\u001b[0m\u001b[0;34m,\u001b[0m \u001b[0mcallback\u001b[0m\u001b[0;34m,\u001b[0m \u001b[0;34m**\u001b[0m\u001b[0moptions\u001b[0m\u001b[0;34m)\u001b[0m\u001b[0;34m\u001b[0m\u001b[0;34m\u001b[0m\u001b[0m\n\u001b[0m\u001b[1;32m    601\u001b[0m     \u001b[0;32melif\u001b[0m \u001b[0mmeth\u001b[0m \u001b[0;34m==\u001b[0m \u001b[0;34m'cg'\u001b[0m\u001b[0;34m:\u001b[0m\u001b[0;34m\u001b[0m\u001b[0;34m\u001b[0m\u001b[0m\n\u001b[1;32m    602\u001b[0m         \u001b[0;32mreturn\u001b[0m \u001b[0m_minimize_cg\u001b[0m\u001b[0;34m(\u001b[0m\u001b[0mfun\u001b[0m\u001b[0;34m,\u001b[0m \u001b[0mx0\u001b[0m\u001b[0;34m,\u001b[0m \u001b[0margs\u001b[0m\u001b[0;34m,\u001b[0m \u001b[0mjac\u001b[0m\u001b[0;34m,\u001b[0m \u001b[0mcallback\u001b[0m\u001b[0;34m,\u001b[0m \u001b[0;34m**\u001b[0m\u001b[0moptions\u001b[0m\u001b[0;34m)\u001b[0m\u001b[0;34m\u001b[0m\u001b[0;34m\u001b[0m\u001b[0m\n",
      "\u001b[0;32m~/anaconda2/envs/py36/lib/python3.6/site-packages/scipy/optimize/optimize.py\u001b[0m in \u001b[0;36m_minimize_powell\u001b[0;34m(func, x0, args, callback, xtol, ftol, maxiter, maxfev, disp, direc, return_all, **unknown_options)\u001b[0m\n\u001b[1;32m   2629\u001b[0m         \u001b[0mdirec\u001b[0m \u001b[0;34m=\u001b[0m \u001b[0masarray\u001b[0m\u001b[0;34m(\u001b[0m\u001b[0mdirec\u001b[0m\u001b[0;34m,\u001b[0m \u001b[0mdtype\u001b[0m\u001b[0;34m=\u001b[0m\u001b[0mfloat\u001b[0m\u001b[0;34m)\u001b[0m\u001b[0;34m\u001b[0m\u001b[0;34m\u001b[0m\u001b[0m\n\u001b[1;32m   2630\u001b[0m \u001b[0;34m\u001b[0m\u001b[0m\n\u001b[0;32m-> 2631\u001b[0;31m     \u001b[0mfval\u001b[0m \u001b[0;34m=\u001b[0m \u001b[0msqueeze\u001b[0m\u001b[0;34m(\u001b[0m\u001b[0mfunc\u001b[0m\u001b[0;34m(\u001b[0m\u001b[0mx\u001b[0m\u001b[0;34m)\u001b[0m\u001b[0;34m)\u001b[0m\u001b[0;34m\u001b[0m\u001b[0;34m\u001b[0m\u001b[0m\n\u001b[0m\u001b[1;32m   2632\u001b[0m     \u001b[0mx1\u001b[0m \u001b[0;34m=\u001b[0m \u001b[0mx\u001b[0m\u001b[0;34m.\u001b[0m\u001b[0mcopy\u001b[0m\u001b[0;34m(\u001b[0m\u001b[0;34m)\u001b[0m\u001b[0;34m\u001b[0m\u001b[0;34m\u001b[0m\u001b[0m\n\u001b[1;32m   2633\u001b[0m     \u001b[0miter\u001b[0m \u001b[0;34m=\u001b[0m \u001b[0;36m0\u001b[0m\u001b[0;34m\u001b[0m\u001b[0;34m\u001b[0m\u001b[0m\n",
      "\u001b[0;32m~/anaconda2/envs/py36/lib/python3.6/site-packages/scipy/optimize/optimize.py\u001b[0m in \u001b[0;36mfunction_wrapper\u001b[0;34m(*wrapper_args)\u001b[0m\n\u001b[1;32m    325\u001b[0m     \u001b[0;32mdef\u001b[0m \u001b[0mfunction_wrapper\u001b[0m\u001b[0;34m(\u001b[0m\u001b[0;34m*\u001b[0m\u001b[0mwrapper_args\u001b[0m\u001b[0;34m)\u001b[0m\u001b[0;34m:\u001b[0m\u001b[0;34m\u001b[0m\u001b[0;34m\u001b[0m\u001b[0m\n\u001b[1;32m    326\u001b[0m         \u001b[0mncalls\u001b[0m\u001b[0;34m[\u001b[0m\u001b[0;36m0\u001b[0m\u001b[0;34m]\u001b[0m \u001b[0;34m+=\u001b[0m \u001b[0;36m1\u001b[0m\u001b[0;34m\u001b[0m\u001b[0;34m\u001b[0m\u001b[0m\n\u001b[0;32m--> 327\u001b[0;31m         \u001b[0;32mreturn\u001b[0m \u001b[0mfunction\u001b[0m\u001b[0;34m(\u001b[0m\u001b[0;34m*\u001b[0m\u001b[0;34m(\u001b[0m\u001b[0mwrapper_args\u001b[0m \u001b[0;34m+\u001b[0m \u001b[0margs\u001b[0m\u001b[0;34m)\u001b[0m\u001b[0;34m)\u001b[0m\u001b[0;34m\u001b[0m\u001b[0;34m\u001b[0m\u001b[0m\n\u001b[0m\u001b[1;32m    328\u001b[0m \u001b[0;34m\u001b[0m\u001b[0m\n\u001b[1;32m    329\u001b[0m     \u001b[0;32mreturn\u001b[0m \u001b[0mncalls\u001b[0m\u001b[0;34m,\u001b[0m \u001b[0mfunction_wrapper\u001b[0m\u001b[0;34m\u001b[0m\u001b[0;34m\u001b[0m\u001b[0m\n",
      "\u001b[0;31mTypeError\u001b[0m: 'numpy.float64' object is not callable"
     ]
    }
   ],
   "source": [
    "import scipy\n",
    "from scipy.optimize import minimize\n",
    "LL=-np.log(L(rho,t1,t2,PAIR))\n",
    "x0= [1,1]\n",
    "args=[rho,PAIR]\n",
    "test = minimize(LL, x0 , method='Powell',args=args)"
   ]
  },
  {
   "cell_type": "code",
   "execution_count": 8,
   "metadata": {},
   "outputs": [
    {
     "name": "stdout",
     "output_type": "stream",
     "text": [
      "[2.6837588747545005, 2.683324575778658]\n",
      "5.939595096291187\n"
     ]
    }
   ],
   "source": [
    "\n",
    "\n",
    "def L(rho=float,t=tuple,PAIR=PAIR,size_lims=tuple):\n",
    "    from CRISPR_functions import prob_n_given_ro, combi, CRISPR_pair, M, I, D\n",
    "    t1=t[0]\n",
    "    t2=t[1]\n",
    "    l1=size_lims[0]\n",
    "    l2=size_lims[1]\n",
    "    lbda=rho/(rho+1)\n",
    "    mu=1/(rho+1)\n",
    "    \n",
    "    ancestors_dic= PAIR.get_combi(l1,l2) #l1,l2\n",
    "    Likelihood=0\n",
    "    \n",
    "    for s0,ws in ancestors_dic.items():\n",
    "        combi_s0 = combi(list(map(int,s0.split('-'))))\n",
    "        n=combi_s0.n\n",
    "\n",
    "        m1,d1,j1,m2,d2,j2 = combi_s0.compare_ancestor_to_arrays(PAIR)\n",
    "\n",
    "        Qa = prob_n_given_ro(n,rho)*ws\n",
    "        T1 = M(m1,t1,mu)*D(d1,t1,mu)*I(j1,t1,lbda,mu)\n",
    "        T2 = M(m2,t2,mu)*D(d2,t2,mu)*I(j2,t2,lbda,mu)\n",
    "        \n",
    "        Likelihood += Qa*T1*T2\n",
    "    \n",
    "    return(Likelihood)\n",
    "\n",
    "def LL_floating_t(x,rho,PAIR,size_lims):\n",
    "    return(-np.log(L(rho=rho,t=x,PAIR=PAIR,size_lims=size_lims)))\n",
    "    \n",
    "def LL_floating_rho(x,t,PAIR,size_lims):\n",
    "    return(-np.log(L(rho=x,t=t,PAIR=PAIR,size_lims=size_lims)))\n",
    "\n",
    "\n",
    "\n",
    "rho=5\n",
    "t1=2.7\n",
    "t2=2.7\n",
    "t=(t1,t2)\n",
    "size_lims=(1,12)\n",
    "\n",
    "# import scipy\n",
    "from scipy.optimize import minimize\n",
    "import numpy as np\n",
    "from CRISPR_functions import combi\n",
    "print(list(minimize(LL_floating_t,[1,1],method='Powell',args=(rho,PAIR,size_lims)).x))\n",
    "print(minimize(LL_floating_rho,[2],method='Powell',args=(t,PAIR,size_lims)).x)"
   ]
  },
  {
   "cell_type": "code",
   "execution_count": 261,
   "metadata": {},
   "outputs": [
    {
     "data": {
      "image/png": "[encoded data removed]",
      "text/plain": [
       "<Figure size 432x288 with 2 Axes>"
      ]
     },
     "metadata": {
      "needs_background": "light"
     },
     "output_type": "display_data"
    },
    {
     "name": "stdout",
     "output_type": "stream",
     "text": [
      "t1= 2.7\n",
      "t2= 2.7\n"
     ]
    }
   ],
   "source": [
    "# This import registers the 3D projection, but is otherwise unused.\n",
    "from mpl_toolkits.mplot3d import Axes3D  # noqa: F401 unused import\n",
    "\n",
    "import matplotlib.pyplot as plt\n",
    "from matplotlib import cm\n",
    "from matplotlib.ticker import LinearLocator, FormatStrFormatter\n",
    "import numpy as np\n",
    "\n",
    "\n",
    "fig = plt.figure()\n",
    "ax = fig.gca(projection='3d')\n",
    "\n",
    "# Make data.\n",
    "X = np.arange(0, 10, 0.1)\n",
    "Y = np.arange(0,10, 0.1)\n",
    "X, Y = np.meshgrid(X, Y)\n",
    "Z = L(rho,(X,Y),PAIR,(1,12))\n",
    "\n",
    "# Plot the surface.\n",
    "surf = ax.plot_surface(X, Y, Z, cmap=cm.coolwarm,\n",
    "                       linewidth=0, antialiased=False)\n",
    "\n",
    "# Customize the z axis.\n",
    "# ax.set_zlim(0, 0.000005)\n",
    "ax.zaxis.set_major_locator(LinearLocator(10))\n",
    "# ax.zaxis.set_major_formatter(FormatStrFormatter('%.02f'))\n",
    "\n",
    "# Add a color bar which maps values to colors.\n",
    "fig.colorbar(surf, shrink=0.5, aspect=5)\n",
    "\n",
    "plt.show()\n",
    "\n",
    "max_Z=np.argmax(Z)\n",
    "print('t1=',X.flatten()[max_Z])\n",
    "print('t2=',Y.flatten()[max_Z])"
   ]
  },
  {
   "cell_type": "code",
   "execution_count": 280,
   "metadata": {},
   "outputs": [
    {
     "data": {
      "image/png": "[encoded data removed]",
      "text/plain": [
       "<Figure size 432x288 with 1 Axes>"
      ]
     },
     "metadata": {
      "needs_background": "light"
     },
     "output_type": "display_data"
    },
    {
     "name": "stdout",
     "output_type": "stream",
     "text": [
      "rho= 5.9\n"
     ]
    }
   ],
   "source": [
    "fig, ax = plt.subplots()\n",
    "\n",
    "# Make data.\n",
    "T = (2.7,2.7)\n",
    "X = np.arange(0,10, 0.1)\n",
    "# X, Y = np.meshgrid(X, Y)\n",
    "Y = (L(X,T,PAIR,(1,12)))\n",
    "\n",
    "# Plot the surface.\n",
    "# surf = ax.plot_surface(X, Y,Z=0, cmap=cm.coolwarm,linewidth=0, antialiased=False)\n",
    "ax.plot(X, Y, label='curve in (x,y)')\n",
    "\n",
    "# Customize the z axis.\n",
    "# ax.set_zlim(0, 0.000005)\n",
    "# ax.zaxis.set_major_locator(LinearLocator(10))\n",
    "# ax.zaxis.set_major_formatter(FormatStrFormatter('%.02f'))\n",
    "\n",
    "# Add a color bar which maps values to colors.\n",
    "# fig.colorbar(surf, shrink=0.5, aspect=5)\n",
    "\n",
    "plt.show()\n",
    "\n",
    "max_Y=np.argmax(Y)\n",
    "print('rho=',X.flatten()[max_Y])\n"
   ]
  },
  {
   "cell_type": "markdown",
   "metadata": {},
   "source": [
    "$$L(ρ, t|S)= \\prod_{i=1,...,{k \\choose 2}}L(ρ, t_i|s_i)$$"
   ]
  },
  {
   "cell_type": "code",
   "execution_count": 17,
   "metadata": {},
   "outputs": [
    {
     "ename": "NameError",
     "evalue": "name 'LL_floating_t' is not defined",
     "output_type": "error",
     "traceback": [
      "\u001b[0;31m---------------------------------------------------------------------------\u001b[0m",
      "\u001b[0;31mNameError\u001b[0m                                 Traceback (most recent call last)",
      "\u001b[0;32m<ipython-input-17-eafde23d1311>\u001b[0m in \u001b[0;36m<module>\u001b[0;34m\u001b[0m\n\u001b[1;32m     15\u001b[0m \u001b[0;34m\u001b[0m\u001b[0m\n\u001b[1;32m     16\u001b[0m     \u001b[0mpair_list\u001b[0m\u001b[0;34m+=\u001b[0m\u001b[0;34m[\u001b[0m\u001b[0mPAIR\u001b[0m\u001b[0;34m]\u001b[0m\u001b[0;34m\u001b[0m\u001b[0;34m\u001b[0m\u001b[0m\n\u001b[0;32m---> 17\u001b[0;31m     \u001b[0mt1t2_list\u001b[0m\u001b[0;34m+=\u001b[0m\u001b[0;34m[\u001b[0m\u001b[0mtuple\u001b[0m\u001b[0;34m(\u001b[0m\u001b[0mminimize\u001b[0m\u001b[0;34m(\u001b[0m\u001b[0mLL_floating_t\u001b[0m\u001b[0;34m,\u001b[0m\u001b[0;34m[\u001b[0m\u001b[0;36m1\u001b[0m\u001b[0;34m,\u001b[0m\u001b[0;36m1\u001b[0m\u001b[0;34m]\u001b[0m\u001b[0;34m,\u001b[0m\u001b[0mmethod\u001b[0m\u001b[0;34m=\u001b[0m\u001b[0;34m'Powell'\u001b[0m\u001b[0;34m,\u001b[0m\u001b[0margs\u001b[0m\u001b[0;34m=\u001b[0m\u001b[0;34m(\u001b[0m\u001b[0mrho\u001b[0m\u001b[0;34m,\u001b[0m\u001b[0mPAIR\u001b[0m\u001b[0;34m,\u001b[0m\u001b[0msize_lims\u001b[0m\u001b[0;34m)\u001b[0m\u001b[0;34m)\u001b[0m\u001b[0;34m.\u001b[0m\u001b[0mx\u001b[0m\u001b[0;34m)\u001b[0m\u001b[0;34m]\u001b[0m\u001b[0;34m\u001b[0m\u001b[0;34m\u001b[0m\u001b[0m\n\u001b[0m\u001b[1;32m     18\u001b[0m \u001b[0mt1t2_list\u001b[0m\u001b[0;34m\u001b[0m\u001b[0;34m\u001b[0m\u001b[0m\n\u001b[1;32m     19\u001b[0m \u001b[0mpair_list\u001b[0m\u001b[0;34m\u001b[0m\u001b[0;34m\u001b[0m\u001b[0m\n",
      "\u001b[0;31mNameError\u001b[0m: name 'LL_floating_t' is not defined"
     ]
    }
   ],
   "source": [
    "import itertools\n",
    "from CRISPR_functions import is_overlapping,CRISPR_pair\n",
    "from scipy.optimize import minimize\n",
    "\n",
    "arrays=[[9,2,3,4,5],[0,1,2,3,7,8],[1,10,11,12,13]]\n",
    "overlapping_arrays=[pair for pair in list(itertools.combinations(arrays,2)) if is_overlapping(pair[0],pair[1])==1]\n",
    "rho=5\n",
    "size_lims=[1,12]\n",
    "\n",
    "\n",
    "t1t2_list=[]\n",
    "pair_list=[]\n",
    "for pair in overlapping_arrays:\n",
    "    PAIR=CRISPR_pair(pair[0],pair[1])\n",
    "    \n",
    "    pair_list+=[PAIR]\n",
    "    t1t2_list+=[tuple(minimize(LL_floating_t,[1,1],method='Powell',args=(rho,PAIR,size_lims)).x)]\n",
    "t1t2_list\n",
    "pair_list\n",
    "\n",
    "def LL_floating_rho(x,t1t2_list,pair_list,size_lims):\n",
    "    return(sum([-np.log(L(x,t1t2_list[i],pair_list[i],size_lims)) for i in range(len(pair_list))]))\n",
    "\n",
    "print(minimize(LL_floating_rho,[2],method='Powell',args=(t1t2_list,pair_list,size_lims)).x)\n",
    "# LL_floating_rho(rho,t1t2_list,pair_list)\n"
   ]
  },
  {
   "cell_type": "code",
   "execution_count": 42,
   "metadata": {},
   "outputs": [],
   "source": [
    "def OPTIMIZE_rho(t1t2_list,pair_list,size_lims):\n",
    "    return(float(minimize(LL_floating_rho,[2],method='Powell',args=(t1t2_list,pair_list,size_lims)).x))\n",
    "\n",
    "def OPTIMIZE_t1t2(overlapping_arrays,size_lims):\n",
    "    t1t2_list=[]\n",
    "\n",
    "    for pair in overlapping_arrays:\n",
    "        PAIR=CRISPR_pair(pair[0],pair[1])\n",
    "        t1t2_list+=[tuple(minimize(LL_floating_t,[1,1],method='Powell',args=(rho,PAIR,size_lims)).x)]\n",
    "    \n",
    "    return(t1t2_list)\n",
    "    "
   ]
  },
  {
   "cell_type": "code",
   "execution_count": 43,
   "metadata": {},
   "outputs": [
    {
     "name": "stderr",
     "output_type": "stream",
     "text": [
      "/Users/maeperez/anaconda2/envs/py36/lib/python3.6/site-packages/ipykernel_launcher.py:23: RuntimeWarning: divide by zero encountered in log\n"
     ]
    },
    {
     "data": {
      "text/plain": [
       "7.225915758817064"
      ]
     },
     "execution_count": 43,
     "metadata": {},
     "output_type": "execute_result"
    }
   ],
   "source": [
    "OPTIMIZE_rho(t1t2_list,pair_list,size_lims)"
   ]
  },
  {
   "cell_type": "code",
   "execution_count": 44,
   "metadata": {},
   "outputs": [
    {
     "data": {
      "text/plain": [
       "[(2.6837588747545005, 2.683324575778658),\n",
       " (4.419151963274205, 4.436784498519175)]"
      ]
     },
     "execution_count": 44,
     "metadata": {},
     "output_type": "execute_result"
    }
   ],
   "source": [
    "OPTIMIZE_t1t2(overlapping_arrays,size_lims)"
   ]
  },
  {
   "cell_type": "code",
   "execution_count": null,
   "metadata": {},
   "outputs": [],
   "source": [
    "## take into account arrays that dont overlap\n"
   ]
  },
  {
   "cell_type": "code",
   "execution_count": 6,
   "metadata": {},
   "outputs": [],
   "source": [
    "import itertools\n",
    "from CRISPR_functions import is_overlapping\n",
    "\n",
    "arrays=[[9,2,3,4,5],[0,1,2,3,7,8],[1,10,11,12,13],[14,15]]\n",
    "non_overlapping_arrays=[pair for pair in list(itertools.combinations(arrays,2)) if is_overlapping(pair[0],pair[1])==0]\n",
    "\n"
   ]
  },
  {
   "cell_type": "code",
   "execution_count": 22,
   "metadata": {},
   "outputs": [
    {
     "name": "stdout",
     "output_type": "stream",
     "text": [
      "[([9, 2, 3, 4, 5], [1, 10, 11, 12, 13]), ([9, 2, 3, 4, 5], [14, 15]), ([0, 1, 2, 3, 7, 8], [14, 15]), ([1, 10, 11, 12, 13], [14, 15])]\n"
     ]
    },
    {
     "data": {
      "text/plain": [
       "18.472356709520355"
      ]
     },
     "execution_count": 22,
     "metadata": {},
     "output_type": "execute_result"
    }
   ],
   "source": [
    "from CRISPR_functions import prob_n_given_ro,L\n",
    "import numpy as np\n",
    "rho=6\n",
    "print(non_overlapping_arrays)\n",
    "\n",
    "\n",
    "sum([-np.log(prob_n_given_ro(len(pair[0]),rho)*prob_n_given_ro(len(pair[1]),rho)) for pair in non_overlapping_arrays])"
   ]
  },
  {
   "cell_type": "code",
   "execution_count": 27,
   "metadata": {},
   "outputs": [],
   "source": [
    "def neg_LL_floating_rho(x,t1t2_list,pair_list,size_lims,non_non_overlapping_arrays):\n",
    "    import numpy as np\n",
    "    \n",
    "    return(sum([-np.log(L(rho=x,t=t1t2_list[i],PAIR=pair_list[i],size_lims=size_lims)) for i in range(len(pair_list))])+sum([-np.log(prob_n_given_ro(len(pair[0]),x)*prob_n_given_ro(len(pair[1]),x)) for pair in non_overlapping_arrays]))\n",
    "\n",
    "\n",
    "def OPTIMIZE_rho(t1t2_list,pair_list,size_lims,non_overlapping_arrays):\n",
    "    from scipy.optimize import minimize\n",
    "    return(float(minimize(neg_LL_floating_rho,[2],method='Powell',args=(t1t2_list,pair_list,size_lims,non_overlapping_arrays)).x))\n",
    "\n",
    "# OPTIMIZE_rho(t1t2_list,pair_list,size_lims,non_overlapping_arrays)"
   ]
  },
  {
   "cell_type": "markdown",
   "metadata": {},
   "source": [
    "# To do next time: \n",
    "## Check convergence function\n",
    "## deal with RuntimeWarning: divide by zero encountered in log\n",
    "## incorporate mpmath for more getting more precise floats\n",
    "## Parallelize"
   ]
  },
  {
   "cell_type": "markdown",
   "metadata": {},
   "source": [
    "# PSEUDO CODE FOR THE FULL ALGORITHM\n",
    "\n",
    "## 1. Load packages I need\n",
    "numpy\n",
    "CRISPR_functions\n",
    "itertools combinations\n",
    "scipy\n",
    "mppath; define float precision\n",
    "\n",
    "## 2. Get variables that won't need to be updated\n",
    "\n",
    "List of pairs with overlaps\n",
    "List of pais with no overlaps\n",
    "Ancestor size limits\n",
    "rho_init\n",
    "\n",
    "List of ancestors for each overlapping pair (parallelize)\n",
    "\n",
    "## 3 Estimate t1,t2 (parallelize)\n",
    "get t1,t2 list\n",
    "## 4 Estimate rho\n",
    "outputs rho + -LL\n",
    "check for convergence\n",
    "## Repeat step 3, 4\n"
   ]
  },
  {
   "cell_type": "code",
   "execution_count": 44,
   "metadata": {},
   "outputs": [
    {
     "ename": "TypeError",
     "evalue": "loop of ufunc does not support argument 0 of type mpf which has no callable exp method",
     "output_type": "error",
     "traceback": [
      "\u001b[0;31m---------------------------------------------------------------------------\u001b[0m",
      "\u001b[0;31mTypeError\u001b[0m                                 Traceback (most recent call last)",
      "\u001b[0;32m<ipython-input-44-31945dc10496>\u001b[0m in \u001b[0;36m<module>\u001b[0;34m\u001b[0m\n\u001b[1;32m     10\u001b[0m \u001b[0;34m\u001b[0m\u001b[0m\n\u001b[1;32m     11\u001b[0m \u001b[0mprob_n_given_ro\u001b[0m\u001b[0;34m(\u001b[0m\u001b[0mn\u001b[0m\u001b[0;34m,\u001b[0m\u001b[0mrho\u001b[0m\u001b[0;34m)\u001b[0m\u001b[0;34m\u001b[0m\u001b[0;34m\u001b[0m\u001b[0m\n\u001b[0;32m---> 12\u001b[0;31m \u001b[0mnp\u001b[0m\u001b[0;34m.\u001b[0m\u001b[0mexp\u001b[0m\u001b[0;34m(\u001b[0m\u001b[0mmu\u001b[0m\u001b[0;34m)\u001b[0m\u001b[0;34m\u001b[0m\u001b[0;34m\u001b[0m\u001b[0m\n\u001b[0m",
      "\u001b[0;31mTypeError\u001b[0m: loop of ufunc does not support argument 0 of type mpf which has no callable exp method"
     ]
    }
   ],
   "source": [
    "from mpmath import mpf,mp\n",
    "\n",
    "mp.dps = 100\n",
    "mu=mpf(1)\n",
    "t=mpf(6)\n",
    "mu/t\n",
    "t/mu\n",
    "rho=mpf(6)\n",
    "n=mpf(4)\n",
    "\n",
    "prob_n_given_ro(n,rho)\n",
    "np.exp(mu)"
   ]
  },
  {
   "cell_type": "code",
   "execution_count": 70,
   "metadata": {},
   "outputs": [],
   "source": [
    "from numpy import math\n",
    "np.math.factorial(2)\n",
    "\n",
    "from mpmath import findroot\n"
   ]
  },
  {
   "cell_type": "code",
   "execution_count": 71,
   "metadata": {},
   "outputs": [
    {
     "name": "stdout",
     "output_type": "stream",
     "text": [
      "3 <class 'int'>\n"
     ]
    },
    {
     "data": {
      "text/plain": [
       "0.000001037508416030872255866458854889649509479700845193001650914267582784400443697565004723435042088354473"
      ]
     },
     "execution_count": 71,
     "metadata": {},
     "output_type": "execute_result"
    }
   ],
   "source": [
    "def L(rho,t,PAIR,size_lims):\n",
    "    '''The likelihood of a pair of spacer arrays (s1, s2) with\n",
    "times (t1, t2) anf rho'''\n",
    "    from CRISPR_functions import prob_n_given_ro, combi, CRISPR_pair, M, I, D\n",
    "    from mpmath import mpf\n",
    "    if not isinstance(rho, mpf):\n",
    "        print(str(rho)+' '+ str(type(rho)))\n",
    "    \n",
    "    t1=t[0]\n",
    "    t2=t[1]\n",
    "    l1=size_lims[0]\n",
    "    l2=size_lims[1]\n",
    "    lbda=rho/(rho+1)\n",
    "    mu=1/(rho+1)\n",
    "    \n",
    "    ancestors_dic= PAIR.get_combi(size_lims)\n",
    "    Likelihood=0\n",
    "    \n",
    "    for s0,ws in ancestors_dic.items():\n",
    "        combi_s0 = combi(list(map(int,s0.split('-'))))\n",
    "        n=combi_s0.n\n",
    "\n",
    "        m1,d1,j1,m2,d2,j2 = combi_s0.compare_ancestor_to_arrays(PAIR)\n",
    "\n",
    "        Qa = prob_n_given_ro(n,rho)*ws\n",
    "        T1 = M(m1,t1,mu)*D(d1,t1,mu)*I(j1,t1,lbda,mu)\n",
    "        T2 = M(m2,t2,mu)*D(d2,t2,mu)*I(j2,t2,lbda,mu)\n",
    "        \n",
    "        Likelihood += Qa*T1*T2\n",
    "    \n",
    "    return(Likelihood)\n",
    "\n",
    "import CRISPR_functions\n",
    "from CRISPR_functions import CRISPR_pair\n",
    "import importlib\n",
    "importlib.reload(CRISPR_functions) \n",
    "\n",
    "rho=3\n",
    "PAIR=CRISPR_pair([9,2,3,4,5],[0,1,2,3,7,8])\n",
    "size_lims=(0,12)\n",
    "t=(2,2)\n",
    "L(rho,t,PAIR,size_lims)"
   ]
  },
  {
   "cell_type": "code",
   "execution_count": 86,
   "metadata": {},
   "outputs": [
    {
     "name": "stdout",
     "output_type": "stream",
     "text": [
      "mu [-3.416] <class 'numpy.ndarray'>\n",
      "mu_mpf [-3.415999999999999925393012745189480483531951904296875] <class 'numpy.ndarray'>\n",
      "t 2.5621927111282803 <class 'float'>\n",
      "m 4 <class 'int'>\n",
      "inner [35.00980120485682107576441618314950652012091010397941110256821856117070979053096380084753036499023438]\n",
      "M 1601634723652703.88512749849075882530862053988595294772621393360031140000466744342470682400003811711 <class 'mpmath.ctx_mp_python.mpf'>\n"
     ]
    },
    {
     "data": {
      "text/plain": [
       "1601634723652703.88512749849075882530862053988595294772621393360031140000466744342470682400003811711"
      ]
     },
     "execution_count": 86,
     "metadata": {},
     "output_type": "execute_result"
    }
   ],
   "source": [
    "def M(m,t,mu):\n",
    "    '''probability of preserving m spacers in time t : M(m|t,mu)'''\n",
    "    from mpmath import mpf,mp\n",
    "#     import numpy as np\n",
    "    mp.dps = 100; mp.pretty = True\n",
    "#     if isinstance(mu, np.ndarray) and len(x)==1:\n",
    "    print('mu',mu,type(mu))\n",
    "    mu=mu*mpf(1)\n",
    "    print('mu_mpf',mu,type(mu))\n",
    "\n",
    "    print('t',t,type(t))\n",
    "    print('m',m,type(m))\n",
    "    print('inner',-m*t*mu)\n",
    "    M=mp.exp((-m*t*mu)[0])\n",
    "    print('M',M,type(M))\n",
    "#     M = np.frompyfunc(mp.exp(-m*t*mu))\n",
    "    return(M)\n",
    "\n",
    "t=2.5621927111282803\n",
    "m=4\n",
    "mu=np.array([-3.416])\n",
    "\n",
    "M(m,t,mu)"
   ]
  },
  {
   "cell_type": "code",
   "execution_count": 172,
   "metadata": {},
   "outputs": [
    {
     "name": "stdout",
     "output_type": "stream",
     "text": [
      "[0 1 2 3 4 5 6 7 8 9] <class 'numpy.ndarray'>\n",
      "[0 1 2 3 4 5 6 7 8 9] <class 'numpy.ndarray'>\n"
     ]
    },
    {
     "data": {
      "image/png": "[encoded data removed]",
      "text/plain": [
       "<Figure size 432x288 with 1 Axes>"
      ]
     },
     "metadata": {
      "needs_background": "light"
     },
     "output_type": "display_data"
    },
    {
     "name": "stdout",
     "output_type": "stream",
     "text": [
      "rho= 6\n"
     ]
    }
   ],
   "source": [
    "import CRISPR_functions\n",
    "from CRISPR_functions import OPTIMIZE_t1t2\n",
    "import importlib\n",
    "importlib.reload(CRISPR_functions) \n",
    "\n",
    "def neg_LL_floating_rho(x,t1t2_list,pair_list,size_lims,non_overlapping_arrays):\n",
    "    from mpmath import mpf,mp\n",
    "    import numpy as np\n",
    "    mp.dps = 100; mp.pretty = True\n",
    "    \n",
    "    log_array = np.frompyfunc(mp.log, 1, 1)\n",
    "\n",
    "    neg_LL_overlapping=sum([-log_array(L(rho=x,t=t1t2_list[i],PAIR=pair_list[i],size_lims=size_lims)) for i in range(len(pair_list))])\n",
    "    neg_LL_non_overlapping=sum([-log_array(prob_n_given_ro(len(pair[0]),x)*prob_n_given_ro(len(pair[1]),x)) for pair in non_overlapping_arrays])\n",
    "    return(neg_LL_overlapping+neg_LL_non_overlapping)\n",
    "\n",
    "\n",
    "\n",
    "size_lims=(1,11)\n",
    "t1t2_list=[(2.5621927111282803, 2.5618452989812335), (4.1580408364803265, 4.172748284661945)]\n",
    "pair_list=[CRISPR_pair(pair[0],pair[1]) for pair in overlapping_arrays]\n",
    "non_overlapping_arrays=[pair for pair in list(itertools.combinations(arrays,2)) if is_overlapping(pair[0],pair[1])==0]\n",
    "x=np.arange(0,10)\n",
    "#x=x*mpf(1)\n",
    "LLs=neg_LL_floating_rho(x,t1t2_list,pair_list,size_lims,non_overlapping_arrays)\n",
    "\n",
    "\n",
    "import matplotlib.pyplot as plt\n",
    "fig, ax = plt.subplots()\n",
    "X=x\n",
    "Y = LLs\n",
    "ax.plot(X, Y, label='curve in (x,y)')\n",
    "\n",
    "plt.show()\n",
    "\n",
    "max_Y=np.argmin(Y)\n",
    "print('rho=',X.flatten()[max_Y])"
   ]
  },
  {
   "cell_type": "code",
   "execution_count": null,
   "metadata": {},
   "outputs": [],
   "source": []
  }
 ],
 "metadata": {
  "kernelspec": {
   "display_name": "Python 3",
   "language": "python",
   "name": "python3"
  },
  "language_info": {
   "codemirror_mode": {
    "name": "ipython",
    "version": 3
   },
   "file_extension": ".py",
   "mimetype": "text/x-python",
   "name": "python",
   "nbconvert_exporter": "python",
   "pygments_lexer": "ipython3",
   "version": "3.6.10"
  }
 },
 "nbformat": 4,
 "nbformat_minor": 2
}
